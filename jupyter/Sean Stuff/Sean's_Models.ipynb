{
 "cells": [
  {
   "cell_type": "code",
   "execution_count": 4,
   "metadata": {
    "collapsed": true
   },
   "outputs": [
    {
     "data": {
      "text/plain": "             city  year month  temperature   humidity     pressure  \\\n0     Albuquerque  2012    10   282.594630  40.870130  1017.681818   \n1     Albuquerque  2012    11   276.787692  44.012821   994.980769   \n2     Albuquerque  2012    12   271.423110  55.940476  1010.517857   \n3     Albuquerque  2013    01   268.405723  57.488372   999.837209   \n4     Albuquerque  2013    02   271.623359  54.910256   953.775641   \n...           ...   ...   ...          ...        ...          ...   \n1666      Seattle  2017    07   286.727283  84.059140  1020.053763   \n1667      Seattle  2017    08   287.951183  84.413978  1017.043011   \n1668      Seattle  2017    09   285.830661  87.100000  1015.833333   \n1669      Seattle  2017    10   280.271667  92.629032  1019.784946   \n1670      Seattle  2017    11   279.698276  89.442529  1012.833333   \n\n      wind_speed      rain      snow     cloud       fog  extreme_weather  \n0       1.980519  0.006431  0.000000  0.456592  0.000000         0.000000  \n1       1.801282  0.019802  0.001650  0.526403  0.003300         0.003300  \n2       1.821429  0.010401  0.001486  0.754829  0.001486         0.004458  \n3       2.453488  0.036023  0.002882  0.576369  0.011527         0.001441  \n4       2.275641  0.011024  0.007874  0.587402  0.001575         0.009449  \n...          ...       ...       ...       ...       ...              ...  \n1666    1.607527  0.020161  0.000000  0.442204  0.081989         0.000000  \n1667    1.553763  0.025538  0.000000  0.302419  0.290323         0.106183  \n1668    1.738889  0.181944  0.000000  0.465278  0.226389         0.043056  \n1669    2.048387  0.231183  0.000000  0.475806  0.314516         0.002688  \n1670    3.011494  0.394548  0.010043  0.727403  0.255380         0.001435  \n\n[1671 rows x 12 columns]",
      "text/html": "<div>\n<style scoped>\n    .dataframe tbody tr th:only-of-type {\n        vertical-align: middle;\n    }\n\n    .dataframe tbody tr th {\n        vertical-align: top;\n    }\n\n    .dataframe thead th {\n        text-align: right;\n    }\n</style>\n<table border=\"1\" class=\"dataframe\">\n  <thead>\n    <tr style=\"text-align: right;\">\n      <th></th>\n      <th>city</th>\n      <th>year</th>\n      <th>month</th>\n      <th>temperature</th>\n      <th>humidity</th>\n      <th>pressure</th>\n      <th>wind_speed</th>\n      <th>rain</th>\n      <th>snow</th>\n      <th>cloud</th>\n      <th>fog</th>\n      <th>extreme_weather</th>\n    </tr>\n  </thead>\n  <tbody>\n    <tr>\n      <th>0</th>\n      <td>Albuquerque</td>\n      <td>2012</td>\n      <td>10</td>\n      <td>282.594630</td>\n      <td>40.870130</td>\n      <td>1017.681818</td>\n      <td>1.980519</td>\n      <td>0.006431</td>\n      <td>0.000000</td>\n      <td>0.456592</td>\n      <td>0.000000</td>\n      <td>0.000000</td>\n    </tr>\n    <tr>\n      <th>1</th>\n      <td>Albuquerque</td>\n      <td>2012</td>\n      <td>11</td>\n      <td>276.787692</td>\n      <td>44.012821</td>\n      <td>994.980769</td>\n      <td>1.801282</td>\n      <td>0.019802</td>\n      <td>0.001650</td>\n      <td>0.526403</td>\n      <td>0.003300</td>\n      <td>0.003300</td>\n    </tr>\n    <tr>\n      <th>2</th>\n      <td>Albuquerque</td>\n      <td>2012</td>\n      <td>12</td>\n      <td>271.423110</td>\n      <td>55.940476</td>\n      <td>1010.517857</td>\n      <td>1.821429</td>\n      <td>0.010401</td>\n      <td>0.001486</td>\n      <td>0.754829</td>\n      <td>0.001486</td>\n      <td>0.004458</td>\n    </tr>\n    <tr>\n      <th>3</th>\n      <td>Albuquerque</td>\n      <td>2013</td>\n      <td>01</td>\n      <td>268.405723</td>\n      <td>57.488372</td>\n      <td>999.837209</td>\n      <td>2.453488</td>\n      <td>0.036023</td>\n      <td>0.002882</td>\n      <td>0.576369</td>\n      <td>0.011527</td>\n      <td>0.001441</td>\n    </tr>\n    <tr>\n      <th>4</th>\n      <td>Albuquerque</td>\n      <td>2013</td>\n      <td>02</td>\n      <td>271.623359</td>\n      <td>54.910256</td>\n      <td>953.775641</td>\n      <td>2.275641</td>\n      <td>0.011024</td>\n      <td>0.007874</td>\n      <td>0.587402</td>\n      <td>0.001575</td>\n      <td>0.009449</td>\n    </tr>\n    <tr>\n      <th>...</th>\n      <td>...</td>\n      <td>...</td>\n      <td>...</td>\n      <td>...</td>\n      <td>...</td>\n      <td>...</td>\n      <td>...</td>\n      <td>...</td>\n      <td>...</td>\n      <td>...</td>\n      <td>...</td>\n      <td>...</td>\n    </tr>\n    <tr>\n      <th>1666</th>\n      <td>Seattle</td>\n      <td>2017</td>\n      <td>07</td>\n      <td>286.727283</td>\n      <td>84.059140</td>\n      <td>1020.053763</td>\n      <td>1.607527</td>\n      <td>0.020161</td>\n      <td>0.000000</td>\n      <td>0.442204</td>\n      <td>0.081989</td>\n      <td>0.000000</td>\n    </tr>\n    <tr>\n      <th>1667</th>\n      <td>Seattle</td>\n      <td>2017</td>\n      <td>08</td>\n      <td>287.951183</td>\n      <td>84.413978</td>\n      <td>1017.043011</td>\n      <td>1.553763</td>\n      <td>0.025538</td>\n      <td>0.000000</td>\n      <td>0.302419</td>\n      <td>0.290323</td>\n      <td>0.106183</td>\n    </tr>\n    <tr>\n      <th>1668</th>\n      <td>Seattle</td>\n      <td>2017</td>\n      <td>09</td>\n      <td>285.830661</td>\n      <td>87.100000</td>\n      <td>1015.833333</td>\n      <td>1.738889</td>\n      <td>0.181944</td>\n      <td>0.000000</td>\n      <td>0.465278</td>\n      <td>0.226389</td>\n      <td>0.043056</td>\n    </tr>\n    <tr>\n      <th>1669</th>\n      <td>Seattle</td>\n      <td>2017</td>\n      <td>10</td>\n      <td>280.271667</td>\n      <td>92.629032</td>\n      <td>1019.784946</td>\n      <td>2.048387</td>\n      <td>0.231183</td>\n      <td>0.000000</td>\n      <td>0.475806</td>\n      <td>0.314516</td>\n      <td>0.002688</td>\n    </tr>\n    <tr>\n      <th>1670</th>\n      <td>Seattle</td>\n      <td>2017</td>\n      <td>11</td>\n      <td>279.698276</td>\n      <td>89.442529</td>\n      <td>1012.833333</td>\n      <td>3.011494</td>\n      <td>0.394548</td>\n      <td>0.010043</td>\n      <td>0.727403</td>\n      <td>0.255380</td>\n      <td>0.001435</td>\n    </tr>\n  </tbody>\n</table>\n<p>1671 rows × 12 columns</p>\n</div>"
     },
     "execution_count": 4,
     "metadata": {},
     "output_type": "execute_result"
    }
   ],
   "source": [
    "from model.data.pipeline import aggregate\n",
    "\n",
    "df = aggregate.get_agg_data_frame()\n",
    "\n",
    "df"
   ]
  },
  {
   "cell_type": "code",
   "execution_count": 5,
   "outputs": [],
   "source": [
    "labels = df[[\"city\", \"month\"]]\n",
    "features = df.drop(['city', 'month'], axis=1)"
   ],
   "metadata": {
    "collapsed": false,
    "pycharm": {
     "name": "#%%\n"
    }
   }
  },
  {
   "cell_type": "code",
   "execution_count": 6,
   "outputs": [],
   "source": [
    "from sklearn.preprocessing import StandardScaler\n",
    "scaler = StandardScaler()\n",
    "featPrepped = scaler.fit_transform(features)"
   ],
   "metadata": {
    "collapsed": false,
    "pycharm": {
     "name": "#%%\n"
    }
   }
  },
  {
   "cell_type": "code",
   "execution_count": 7,
   "outputs": [],
   "source": [
    "from sklearn.model_selection import train_test_split\n",
    "\n",
    "feat_train, feat_test, label_train, label_test = train_test_split(featPrepped, labels, random_state = 42)"
   ],
   "metadata": {
    "collapsed": false,
    "pycharm": {
     "name": "#%%\n"
    }
   }
  },
  {
   "cell_type": "code",
   "execution_count": 8,
   "outputs": [
    {
     "data": {
      "text/plain": "0.08373205741626795"
     },
     "execution_count": 8,
     "metadata": {},
     "output_type": "execute_result"
    }
   ],
   "source": [
    "from sklearn.multioutput import MultiOutputClassifier\n",
    "from sklearn.linear_model import LogisticRegression\n",
    "\n",
    "softmax_reg = LogisticRegression(multi_class=\"multinomial\",solver=\"lbfgs\", C=10, random_state=42)\n",
    "clf = MultiOutputClassifier(softmax_reg, n_jobs=-1)\n",
    "clf.fit(feat_train, label_train)\n",
    "\n",
    "clf.score(feat_test,label_test)"
   ],
   "metadata": {
    "collapsed": false,
    "pycharm": {
     "name": "#%%\n"
    }
   }
  },
  {
   "cell_type": "code",
   "execution_count": 9,
   "outputs": [],
   "source": [
    "## What if we split the output. Like start with month then return city"
   ],
   "metadata": {
    "collapsed": false,
    "pycharm": {
     "name": "#%%\n"
    }
   }
  },
  {
   "cell_type": "code",
   "execution_count": 10,
   "outputs": [
    {
     "data": {
      "text/plain": "array([[-1.87059914, -0.38110624, -2.47635433, ..., -0.3201641 ,\n        -0.95050317, -0.7400802 ],\n       [-1.87059914, -1.03338018, -2.23249467, ...,  0.05704672,\n        -0.9201886 , -0.62900129],\n       [-1.87059914, -1.63596582, -1.30695844, ...,  1.29130694,\n        -0.93685485, -0.5900494 ],\n       ...,\n       [ 1.44762927, -0.0176136 ,  1.11089039, ..., -0.27323017,\n         1.12894966,  0.70903679],\n       [ 1.44762927, -0.64203695,  1.53992019, ..., -0.21634042,\n         1.93842595, -0.64960464],\n       [ 1.44762927, -0.70644403,  1.29266083, ...,  1.14311581,\n         1.39524394, -0.69179195]])"
     },
     "execution_count": 10,
     "metadata": {},
     "output_type": "execute_result"
    }
   ],
   "source": [
    "featPrepped"
   ],
   "metadata": {
    "collapsed": false,
    "pycharm": {
     "name": "#%%\n"
    }
   }
  },
  {
   "cell_type": "code",
   "execution_count": 11,
   "outputs": [
    {
     "ename": "ValueError",
     "evalue": "y should be a 1d array, got an array of shape (1253, 2) instead.",
     "output_type": "error",
     "traceback": [
      "\u001B[1;31m---------------------------------------------------------------------------\u001B[0m",
      "\u001B[1;31mValueError\u001B[0m                                Traceback (most recent call last)",
      "Input \u001B[1;32mIn [11]\u001B[0m, in \u001B[0;36m<cell line: 4>\u001B[1;34m()\u001B[0m\n\u001B[0;32m      1\u001B[0m \u001B[38;5;28;01mfrom\u001B[39;00m \u001B[38;5;21;01msklearn\u001B[39;00m\u001B[38;5;21;01m.\u001B[39;00m\u001B[38;5;21;01msvm\u001B[39;00m \u001B[38;5;28;01mimport\u001B[39;00m SVC\n\u001B[0;32m      3\u001B[0m svm_clf \u001B[38;5;241m=\u001B[39m SVC(gamma\u001B[38;5;241m=\u001B[39m\u001B[38;5;124m\"\u001B[39m\u001B[38;5;124mauto\u001B[39m\u001B[38;5;124m\"\u001B[39m, random_state\u001B[38;5;241m=\u001B[39m\u001B[38;5;241m42\u001B[39m)\n\u001B[1;32m----> 4\u001B[0m \u001B[43msvm_clf\u001B[49m\u001B[38;5;241;43m.\u001B[39;49m\u001B[43mfit\u001B[49m\u001B[43m(\u001B[49m\u001B[43mfeat_train\u001B[49m\u001B[43m,\u001B[49m\u001B[43m \u001B[49m\u001B[43mlabel_train\u001B[49m\u001B[43m)\u001B[49m\n\u001B[0;32m      6\u001B[0m svm_clf\u001B[38;5;241m.\u001B[39mscore(feat_test,label_test)\n",
      "File \u001B[1;32mc:\\users\\smahe\\ai\\ml-team3\\venv\\lib\\site-packages\\sklearn\\svm\\_base.py:190\u001B[0m, in \u001B[0;36mBaseLibSVM.fit\u001B[1;34m(self, X, y, sample_weight)\u001B[0m\n\u001B[0;32m    188\u001B[0m     check_consistent_length(X, y)\n\u001B[0;32m    189\u001B[0m \u001B[38;5;28;01melse\u001B[39;00m:\n\u001B[1;32m--> 190\u001B[0m     X, y \u001B[38;5;241m=\u001B[39m \u001B[38;5;28;43mself\u001B[39;49m\u001B[38;5;241;43m.\u001B[39;49m\u001B[43m_validate_data\u001B[49m\u001B[43m(\u001B[49m\n\u001B[0;32m    191\u001B[0m \u001B[43m        \u001B[49m\u001B[43mX\u001B[49m\u001B[43m,\u001B[49m\n\u001B[0;32m    192\u001B[0m \u001B[43m        \u001B[49m\u001B[43my\u001B[49m\u001B[43m,\u001B[49m\n\u001B[0;32m    193\u001B[0m \u001B[43m        \u001B[49m\u001B[43mdtype\u001B[49m\u001B[38;5;241;43m=\u001B[39;49m\u001B[43mnp\u001B[49m\u001B[38;5;241;43m.\u001B[39;49m\u001B[43mfloat64\u001B[49m\u001B[43m,\u001B[49m\n\u001B[0;32m    194\u001B[0m \u001B[43m        \u001B[49m\u001B[43morder\u001B[49m\u001B[38;5;241;43m=\u001B[39;49m\u001B[38;5;124;43m\"\u001B[39;49m\u001B[38;5;124;43mC\u001B[39;49m\u001B[38;5;124;43m\"\u001B[39;49m\u001B[43m,\u001B[49m\n\u001B[0;32m    195\u001B[0m \u001B[43m        \u001B[49m\u001B[43maccept_sparse\u001B[49m\u001B[38;5;241;43m=\u001B[39;49m\u001B[38;5;124;43m\"\u001B[39;49m\u001B[38;5;124;43mcsr\u001B[39;49m\u001B[38;5;124;43m\"\u001B[39;49m\u001B[43m,\u001B[49m\n\u001B[0;32m    196\u001B[0m \u001B[43m        \u001B[49m\u001B[43maccept_large_sparse\u001B[49m\u001B[38;5;241;43m=\u001B[39;49m\u001B[38;5;28;43;01mFalse\u001B[39;49;00m\u001B[43m,\u001B[49m\n\u001B[0;32m    197\u001B[0m \u001B[43m    \u001B[49m\u001B[43m)\u001B[49m\n\u001B[0;32m    199\u001B[0m y \u001B[38;5;241m=\u001B[39m \u001B[38;5;28mself\u001B[39m\u001B[38;5;241m.\u001B[39m_validate_targets(y)\n\u001B[0;32m    201\u001B[0m sample_weight \u001B[38;5;241m=\u001B[39m np\u001B[38;5;241m.\u001B[39masarray(\n\u001B[0;32m    202\u001B[0m     [] \u001B[38;5;28;01mif\u001B[39;00m sample_weight \u001B[38;5;129;01mis\u001B[39;00m \u001B[38;5;28;01mNone\u001B[39;00m \u001B[38;5;28;01melse\u001B[39;00m sample_weight, dtype\u001B[38;5;241m=\u001B[39mnp\u001B[38;5;241m.\u001B[39mfloat64\n\u001B[0;32m    203\u001B[0m )\n",
      "File \u001B[1;32mc:\\users\\smahe\\ai\\ml-team3\\venv\\lib\\site-packages\\sklearn\\base.py:581\u001B[0m, in \u001B[0;36mBaseEstimator._validate_data\u001B[1;34m(self, X, y, reset, validate_separately, **check_params)\u001B[0m\n\u001B[0;32m    579\u001B[0m         y \u001B[38;5;241m=\u001B[39m check_array(y, \u001B[38;5;241m*\u001B[39m\u001B[38;5;241m*\u001B[39mcheck_y_params)\n\u001B[0;32m    580\u001B[0m     \u001B[38;5;28;01melse\u001B[39;00m:\n\u001B[1;32m--> 581\u001B[0m         X, y \u001B[38;5;241m=\u001B[39m check_X_y(X, y, \u001B[38;5;241m*\u001B[39m\u001B[38;5;241m*\u001B[39mcheck_params)\n\u001B[0;32m    582\u001B[0m     out \u001B[38;5;241m=\u001B[39m X, y\n\u001B[0;32m    584\u001B[0m \u001B[38;5;28;01mif\u001B[39;00m \u001B[38;5;129;01mnot\u001B[39;00m no_val_X \u001B[38;5;129;01mand\u001B[39;00m check_params\u001B[38;5;241m.\u001B[39mget(\u001B[38;5;124m\"\u001B[39m\u001B[38;5;124mensure_2d\u001B[39m\u001B[38;5;124m\"\u001B[39m, \u001B[38;5;28;01mTrue\u001B[39;00m):\n",
      "File \u001B[1;32mc:\\users\\smahe\\ai\\ml-team3\\venv\\lib\\site-packages\\sklearn\\utils\\validation.py:979\u001B[0m, in \u001B[0;36mcheck_X_y\u001B[1;34m(X, y, accept_sparse, accept_large_sparse, dtype, order, copy, force_all_finite, ensure_2d, allow_nd, multi_output, ensure_min_samples, ensure_min_features, y_numeric, estimator)\u001B[0m\n\u001B[0;32m    962\u001B[0m     \u001B[38;5;28;01mraise\u001B[39;00m \u001B[38;5;167;01mValueError\u001B[39;00m(\u001B[38;5;124m\"\u001B[39m\u001B[38;5;124my cannot be None\u001B[39m\u001B[38;5;124m\"\u001B[39m)\n\u001B[0;32m    964\u001B[0m X \u001B[38;5;241m=\u001B[39m check_array(\n\u001B[0;32m    965\u001B[0m     X,\n\u001B[0;32m    966\u001B[0m     accept_sparse\u001B[38;5;241m=\u001B[39maccept_sparse,\n\u001B[1;32m   (...)\u001B[0m\n\u001B[0;32m    976\u001B[0m     estimator\u001B[38;5;241m=\u001B[39mestimator,\n\u001B[0;32m    977\u001B[0m )\n\u001B[1;32m--> 979\u001B[0m y \u001B[38;5;241m=\u001B[39m \u001B[43m_check_y\u001B[49m\u001B[43m(\u001B[49m\u001B[43my\u001B[49m\u001B[43m,\u001B[49m\u001B[43m \u001B[49m\u001B[43mmulti_output\u001B[49m\u001B[38;5;241;43m=\u001B[39;49m\u001B[43mmulti_output\u001B[49m\u001B[43m,\u001B[49m\u001B[43m \u001B[49m\u001B[43my_numeric\u001B[49m\u001B[38;5;241;43m=\u001B[39;49m\u001B[43my_numeric\u001B[49m\u001B[43m)\u001B[49m\n\u001B[0;32m    981\u001B[0m check_consistent_length(X, y)\n\u001B[0;32m    983\u001B[0m \u001B[38;5;28;01mreturn\u001B[39;00m X, y\n",
      "File \u001B[1;32mc:\\users\\smahe\\ai\\ml-team3\\venv\\lib\\site-packages\\sklearn\\utils\\validation.py:993\u001B[0m, in \u001B[0;36m_check_y\u001B[1;34m(y, multi_output, y_numeric)\u001B[0m\n\u001B[0;32m    989\u001B[0m     y \u001B[38;5;241m=\u001B[39m check_array(\n\u001B[0;32m    990\u001B[0m         y, accept_sparse\u001B[38;5;241m=\u001B[39m\u001B[38;5;124m\"\u001B[39m\u001B[38;5;124mcsr\u001B[39m\u001B[38;5;124m\"\u001B[39m, force_all_finite\u001B[38;5;241m=\u001B[39m\u001B[38;5;28;01mTrue\u001B[39;00m, ensure_2d\u001B[38;5;241m=\u001B[39m\u001B[38;5;28;01mFalse\u001B[39;00m, dtype\u001B[38;5;241m=\u001B[39m\u001B[38;5;28;01mNone\u001B[39;00m\n\u001B[0;32m    991\u001B[0m     )\n\u001B[0;32m    992\u001B[0m \u001B[38;5;28;01melse\u001B[39;00m:\n\u001B[1;32m--> 993\u001B[0m     y \u001B[38;5;241m=\u001B[39m \u001B[43mcolumn_or_1d\u001B[49m\u001B[43m(\u001B[49m\u001B[43my\u001B[49m\u001B[43m,\u001B[49m\u001B[43m \u001B[49m\u001B[43mwarn\u001B[49m\u001B[38;5;241;43m=\u001B[39;49m\u001B[38;5;28;43;01mTrue\u001B[39;49;00m\u001B[43m)\u001B[49m\n\u001B[0;32m    994\u001B[0m     _assert_all_finite(y)\n\u001B[0;32m    995\u001B[0m     _ensure_no_complex_data(y)\n",
      "File \u001B[1;32mc:\\users\\smahe\\ai\\ml-team3\\venv\\lib\\site-packages\\sklearn\\utils\\validation.py:1038\u001B[0m, in \u001B[0;36mcolumn_or_1d\u001B[1;34m(y, warn)\u001B[0m\n\u001B[0;32m   1029\u001B[0m         warnings\u001B[38;5;241m.\u001B[39mwarn(\n\u001B[0;32m   1030\u001B[0m             \u001B[38;5;124m\"\u001B[39m\u001B[38;5;124mA column-vector y was passed when a 1d array was\u001B[39m\u001B[38;5;124m\"\u001B[39m\n\u001B[0;32m   1031\u001B[0m             \u001B[38;5;124m\"\u001B[39m\u001B[38;5;124m expected. Please change the shape of y to \u001B[39m\u001B[38;5;124m\"\u001B[39m\n\u001B[1;32m   (...)\u001B[0m\n\u001B[0;32m   1034\u001B[0m             stacklevel\u001B[38;5;241m=\u001B[39m\u001B[38;5;241m2\u001B[39m,\n\u001B[0;32m   1035\u001B[0m         )\n\u001B[0;32m   1036\u001B[0m     \u001B[38;5;28;01mreturn\u001B[39;00m np\u001B[38;5;241m.\u001B[39mravel(y)\n\u001B[1;32m-> 1038\u001B[0m \u001B[38;5;28;01mraise\u001B[39;00m \u001B[38;5;167;01mValueError\u001B[39;00m(\n\u001B[0;32m   1039\u001B[0m     \u001B[38;5;124m\"\u001B[39m\u001B[38;5;124my should be a 1d array, got an array of shape \u001B[39m\u001B[38;5;132;01m{}\u001B[39;00m\u001B[38;5;124m instead.\u001B[39m\u001B[38;5;124m\"\u001B[39m\u001B[38;5;241m.\u001B[39mformat(shape)\n\u001B[0;32m   1040\u001B[0m )\n",
      "\u001B[1;31mValueError\u001B[0m: y should be a 1d array, got an array of shape (1253, 2) instead."
     ]
    }
   ],
   "source": [
    "from sklearn.svm import SVC\n",
    "\n",
    "svm_clf = SVC(gamma=\"auto\", random_state=42)\n",
    "svm_clf.fit(feat_train, label_train)\n",
    "\n",
    "svm_clf.score(feat_test,label_test)"
   ],
   "metadata": {
    "collapsed": false,
    "pycharm": {
     "name": "#%%\n"
    }
   }
  },
  {
   "cell_type": "code",
   "execution_count": 12,
   "outputs": [
    {
     "data": {
      "text/plain": "              city month\n583   Indianapolis    11\n1009     Nashville    04\n865    Los Angeles    09\n949    Minneapolis    06\n233      Charlotte    09\n...            ...   ...\n1130  Philadelphia    02\n1294    Pittsburgh    06\n860    Los Angeles    04\n1459   San Antonio    09\n1126  Philadelphia    10\n\n[1253 rows x 2 columns]",
      "text/html": "<div>\n<style scoped>\n    .dataframe tbody tr th:only-of-type {\n        vertical-align: middle;\n    }\n\n    .dataframe tbody tr th {\n        vertical-align: top;\n    }\n\n    .dataframe thead th {\n        text-align: right;\n    }\n</style>\n<table border=\"1\" class=\"dataframe\">\n  <thead>\n    <tr style=\"text-align: right;\">\n      <th></th>\n      <th>city</th>\n      <th>month</th>\n    </tr>\n  </thead>\n  <tbody>\n    <tr>\n      <th>583</th>\n      <td>Indianapolis</td>\n      <td>11</td>\n    </tr>\n    <tr>\n      <th>1009</th>\n      <td>Nashville</td>\n      <td>04</td>\n    </tr>\n    <tr>\n      <th>865</th>\n      <td>Los Angeles</td>\n      <td>09</td>\n    </tr>\n    <tr>\n      <th>949</th>\n      <td>Minneapolis</td>\n      <td>06</td>\n    </tr>\n    <tr>\n      <th>233</th>\n      <td>Charlotte</td>\n      <td>09</td>\n    </tr>\n    <tr>\n      <th>...</th>\n      <td>...</td>\n      <td>...</td>\n    </tr>\n    <tr>\n      <th>1130</th>\n      <td>Philadelphia</td>\n      <td>02</td>\n    </tr>\n    <tr>\n      <th>1294</th>\n      <td>Pittsburgh</td>\n      <td>06</td>\n    </tr>\n    <tr>\n      <th>860</th>\n      <td>Los Angeles</td>\n      <td>04</td>\n    </tr>\n    <tr>\n      <th>1459</th>\n      <td>San Antonio</td>\n      <td>09</td>\n    </tr>\n    <tr>\n      <th>1126</th>\n      <td>Philadelphia</td>\n      <td>10</td>\n    </tr>\n  </tbody>\n</table>\n<p>1253 rows × 2 columns</p>\n</div>"
     },
     "execution_count": 12,
     "metadata": {},
     "output_type": "execute_result"
    }
   ],
   "source": [
    "label_train"
   ],
   "metadata": {
    "collapsed": false,
    "pycharm": {
     "name": "#%%\n"
    }
   }
  },
  {
   "cell_type": "code",
   "execution_count": 22,
   "outputs": [
    {
     "data": {
      "text/plain": "array(['Indianapolis', 'Nashville', 'Los Angeles', ..., 'Los Angeles',\n       'San Antonio', 'Philadelphia'], dtype=object)"
     },
     "execution_count": 22,
     "metadata": {},
     "output_type": "execute_result"
    }
   ],
   "source": [
    "import numpy as np\n",
    "cities_train = np.array(label_train['city'])\n",
    "cities_train"
   ],
   "metadata": {
    "collapsed": false,
    "pycharm": {
     "name": "#%%\n"
    }
   }
  },
  {
   "cell_type": "code",
   "execution_count": 23,
   "outputs": [
    {
     "data": {
      "text/plain": "SVC(gamma='auto', random_state=42)"
     },
     "execution_count": 23,
     "metadata": {},
     "output_type": "execute_result"
    }
   ],
   "source": [
    "from sklearn.svm import SVC\n",
    "\n",
    "svm_clf = SVC(gamma=\"auto\", random_state=42)\n",
    "svm_clf.fit(feat_train, cities_train)\n",
    "\n",
    "##svm_clf.score(feat_test,label_test)"
   ],
   "metadata": {
    "collapsed": false,
    "pycharm": {
     "name": "#%%\n"
    }
   }
  },
  {
   "cell_type": "code",
   "execution_count": 24,
   "outputs": [
    {
     "data": {
      "text/plain": "array(['Detroit', 'Indianapolis', 'Indianapolis', 'Houston', 'Seattle',\n       'Boston', 'Portland', 'Atlanta', 'Dallas', 'Chicago', 'Portland',\n       'Houston', 'Las Vegas', 'Charlotte', 'Miami', 'Phoenix',\n       'Pittsburgh', 'Boston', 'Albuquerque', 'San Antonio',\n       'Indianapolis', 'San Antonio', 'Minneapolis', 'Pittsburgh',\n       'Boston', 'Seattle', 'Atlanta', 'Charlotte', 'Nashville',\n       'San Diego', 'Charlotte', 'Pittsburgh', 'San Antonio', 'San Diego',\n       'Jacksonville', 'Philadelphia', 'Chicago', 'Philadelphia',\n       'Albuquerque', 'San Francisco', 'Indianapolis', 'Philadelphia',\n       'Houston', 'Dallas', 'Seattle', 'Denver', 'San Antonio', 'Denver',\n       'Philadelphia', 'Portland', 'Miami', 'Detroit', 'Phoenix',\n       'Las Vegas', 'Dallas', 'Kansas City', 'Atlanta', 'Jacksonville',\n       'Albuquerque', 'Houston', 'Saint Louis', 'San Francisco',\n       'Saint Louis', 'Portland', 'Nashville', 'Albuquerque', 'Phoenix',\n       'New York', 'Las Vegas', 'Philadelphia', 'Denver', 'San Diego',\n       'Houston', 'Dallas', 'Dallas', 'Indianapolis', 'San Francisco',\n       'Denver', 'Philadelphia', 'Portland', 'Houston', 'Atlanta',\n       'Phoenix', 'New York', 'Los Angeles', 'Pittsburgh', 'Albuquerque',\n       'Nashville', 'Portland', 'Pittsburgh', 'Seattle', 'Indianapolis',\n       'New York', 'Dallas', 'Seattle', 'Chicago', 'Charlotte',\n       'New York', 'San Antonio', 'Las Vegas', 'Los Angeles', 'Phoenix',\n       'Philadelphia', 'Albuquerque', 'Jacksonville', 'Atlanta',\n       'Charlotte', 'Portland', 'Miami', 'Indianapolis', 'Seattle',\n       'Portland', 'Las Vegas', 'Phoenix', 'Philadelphia', 'Detroit',\n       'New York', 'San Antonio', 'Phoenix', 'Kansas City', 'Atlanta',\n       'Philadelphia', 'Detroit', 'Los Angeles', 'Phoenix', 'Pittsburgh',\n       'Phoenix', 'Pittsburgh', 'Minneapolis', 'Jacksonville', 'Detroit',\n       'Minneapolis', 'Boston', 'Phoenix', 'Chicago', 'Denver',\n       'Los Angeles', 'Las Vegas', 'Boston', 'Houston', 'Chicago',\n       'Jacksonville', 'Phoenix', 'Denver', 'San Francisco', 'Charlotte',\n       'Minneapolis', 'San Francisco', 'Minneapolis', 'Detroit',\n       'Chicago', 'Boston', 'New York', 'Phoenix', 'Kansas City',\n       'Denver', 'Saint Louis', 'Phoenix', 'Los Angeles', 'Atlanta',\n       'Atlanta', 'Chicago', 'Detroit', 'Dallas', 'Charlotte', 'Miami',\n       'Minneapolis', 'San Diego', 'Seattle', 'Albuquerque', 'Portland',\n       'Atlanta', 'Charlotte', 'Minneapolis', 'Denver', 'Pittsburgh',\n       'Houston', 'Houston', 'Atlanta', 'Charlotte', 'Chicago',\n       'San Francisco', 'Seattle', 'Philadelphia', 'Denver', 'Miami',\n       'Dallas', 'Jacksonville', 'San Antonio', 'San Antonio',\n       'San Francisco', 'Los Angeles', 'Dallas', 'Denver', 'Atlanta',\n       'Pittsburgh', 'Charlotte', 'Boston', 'Pittsburgh', 'Phoenix',\n       'Houston', 'Nashville', 'Indianapolis', 'Houston', 'Kansas City',\n       'Kansas City', 'Denver', 'Philadelphia', 'Los Angeles', 'Portland',\n       'Jacksonville', 'Boston', 'Philadelphia', 'Detroit', 'Saint Louis',\n       'Los Angeles', 'Nashville', 'San Antonio', 'New York',\n       'Philadelphia', 'Pittsburgh', 'Denver', 'Seattle', 'Las Vegas',\n       'San Diego', 'Jacksonville', 'Dallas', 'Nashville', 'Las Vegas',\n       'Minneapolis', 'New York', 'Saint Louis', 'Detroit',\n       'Indianapolis', 'Nashville', 'Detroit', 'Pittsburgh',\n       'Philadelphia', 'Denver', 'Denver', 'San Antonio', 'Kansas City',\n       'Indianapolis', 'Chicago', 'New York', 'Indianapolis', 'San Diego',\n       'Boston', 'San Antonio', 'Chicago', 'Jacksonville', 'Albuquerque',\n       'Indianapolis', 'Miami', 'Pittsburgh', 'San Diego', 'Kansas City',\n       'Las Vegas', 'Miami', 'Saint Louis', 'Denver', 'San Diego',\n       'Boston', 'Kansas City', 'Minneapolis', 'Indianapolis',\n       'Minneapolis', 'Nashville', 'Charlotte', 'Albuquerque',\n       'San Antonio', 'Indianapolis', 'Las Vegas', 'San Francisco',\n       'Los Angeles', 'Dallas', 'San Antonio', 'Chicago', 'Charlotte',\n       'Jacksonville', 'Nashville', 'Denver', 'San Francisco',\n       'Jacksonville', 'Portland', 'New York', 'San Antonio',\n       'Albuquerque', 'Kansas City', 'Albuquerque', 'Atlanta', 'Chicago',\n       'Pittsburgh', 'Atlanta', 'Portland', 'Atlanta', 'Saint Louis',\n       'Detroit', 'Minneapolis', 'San Antonio', 'New York', 'Dallas',\n       'Phoenix', 'Los Angeles', 'Nashville', 'Boston', 'Dallas', 'Miami',\n       'New York', 'Los Angeles', 'Denver', 'Seattle', 'Saint Louis',\n       'Portland', 'Houston', 'Detroit', 'Denver', 'New York',\n       'Indianapolis', 'New York', 'San Diego', 'Phoenix', 'Saint Louis',\n       'Las Vegas', 'Detroit', 'Dallas', 'Seattle', 'Charlotte',\n       'Charlotte', 'Kansas City', 'Saint Louis', 'Phoenix', 'Boston',\n       'Houston', 'Pittsburgh', 'Chicago', 'Boston', 'Denver',\n       'Las Vegas', 'Saint Louis', 'Portland', 'Chicago', 'Charlotte',\n       'Chicago', 'Indianapolis', 'Atlanta', 'Los Angeles', 'Seattle',\n       'New York', 'Kansas City', 'Portland', 'San Antonio',\n       'Minneapolis', 'Detroit', 'Pittsburgh', 'Charlotte',\n       'Indianapolis', 'Chicago', 'Saint Louis', 'Portland', 'Denver',\n       'Dallas', 'Houston', 'Detroit', 'Pittsburgh', 'Saint Louis',\n       'Phoenix', 'Saint Louis', 'Las Vegas', 'Nashville', 'Phoenix',\n       'Nashville', 'Phoenix', 'Pittsburgh', 'Minneapolis', 'Portland',\n       'Houston', 'Denver', 'Miami', 'Miami', 'Portland', 'Pittsburgh',\n       'Minneapolis', 'Kansas City', 'New York', 'Chicago', 'San Antonio',\n       'San Diego', 'Seattle', 'Nashville', 'Charlotte', 'San Diego',\n       'Saint Louis', 'Seattle', 'Seattle', 'San Antonio', 'Phoenix',\n       'Charlotte', 'Nashville', 'Portland', 'Los Angeles', 'Albuquerque',\n       'Detroit', 'Portland', 'Houston', 'Miami', 'Portland', 'Dallas',\n       'Houston', 'Dallas', 'Portland', 'Portland', 'San Diego',\n       'San Diego', 'Philadelphia', 'Chicago', 'Indianapolis', 'Portland'],\n      dtype=object)"
     },
     "execution_count": 24,
     "metadata": {},
     "output_type": "execute_result"
    }
   ],
   "source": [
    "cities_test = np.array(label_test['city'])\n",
    "cities_test"
   ],
   "metadata": {
    "collapsed": false,
    "pycharm": {
     "name": "#%%\n"
    }
   }
  },
  {
   "cell_type": "code",
   "execution_count": 25,
   "outputs": [
    {
     "data": {
      "text/plain": "0.3660287081339713"
     },
     "execution_count": 25,
     "metadata": {},
     "output_type": "execute_result"
    }
   ],
   "source": [
    "svm_clf.score(feat_test, cities_test)"
   ],
   "metadata": {
    "collapsed": false,
    "pycharm": {
     "name": "#%%\n"
    }
   }
  },
  {
   "cell_type": "code",
   "execution_count": 30,
   "outputs": [
    {
     "data": {
      "text/plain": "RandomForestClassifier(max_leaf_nodes=16, n_estimators=500, random_state=42)"
     },
     "execution_count": 30,
     "metadata": {},
     "output_type": "execute_result"
    }
   ],
   "source": [
    "from sklearn.ensemble import RandomForestClassifier\n",
    "\n",
    "rnd_clf = RandomForestClassifier(n_estimators=500, max_leaf_nodes=16, random_state=42)\n",
    "rnd_clf.fit(feat_train, cities_train)"
   ],
   "metadata": {
    "collapsed": false,
    "pycharm": {
     "name": "#%%\n"
    }
   }
  },
  {
   "cell_type": "code",
   "execution_count": 31,
   "outputs": [
    {
     "data": {
      "text/plain": "0.2703349282296651"
     },
     "execution_count": 31,
     "metadata": {},
     "output_type": "execute_result"
    }
   ],
   "source": [
    "rnd_clf.score(feat_test, cities_test)"
   ],
   "metadata": {
    "collapsed": false,
    "pycharm": {
     "name": "#%%\n"
    }
   }
  },
  {
   "cell_type": "code",
   "execution_count": null,
   "outputs": [],
   "source": [],
   "metadata": {
    "collapsed": false,
    "pycharm": {
     "name": "#%%\n"
    }
   }
  }
 ],
 "metadata": {
  "kernelspec": {
   "display_name": "Python 3",
   "language": "python",
   "name": "python3"
  },
  "language_info": {
   "codemirror_mode": {
    "name": "ipython",
    "version": 2
   },
   "file_extension": ".py",
   "mimetype": "text/x-python",
   "name": "python",
   "nbconvert_exporter": "python",
   "pygments_lexer": "ipython2",
   "version": "2.7.6"
  }
 },
 "nbformat": 4,
 "nbformat_minor": 0
}