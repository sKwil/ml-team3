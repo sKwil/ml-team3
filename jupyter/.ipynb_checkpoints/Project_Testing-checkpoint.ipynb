{
 "cells": [
  {
   "cell_type": "code",
   "execution_count": 2,
   "id": "38d16ee7",
   "metadata": {},
   "outputs": [],
   "source": [
    "# Import necessary libraries\n",
    "import pandas as pd\n",
    "from sklearn.preprocessing import OneHotEncoder\n",
    "from sklearn.preprocessing import StandardScaler\n",
    "\n",
    "# Import necessary modules from repository\n",
    "from model.data_import import loader\n",
    "from model.data_import import summary_selects as ss\n",
    "from model import db"
   ]
  },
  {
   "cell_type": "code",
   "execution_count": 3,
   "id": "c3031ba1",
   "metadata": {},
   "outputs": [
    {
     "name": "stdout",
     "output_type": "stream",
     "text": [
      "              datetime month   phase           city        country   latitude  \\\n",
      "0  2012-10-01 13:00:00    10  midday       Portland  United States  45.523449   \n",
      "1  2012-10-01 13:00:00    10  midday  San Francisco  United States  37.774929   \n",
      "2  2012-10-01 13:00:00    10  midday        Seattle  United States  47.606209   \n",
      "3  2012-10-01 13:00:00    10  midday    Los Angeles  United States  34.052231   \n",
      "4  2012-10-01 13:00:00    10  midday      San Diego  United States  32.715328   \n",
      "\n",
      "    longitude  temperature  humidity  pressure weather_description  \\\n",
      "0 -122.676208       282.08      81.0    1024.0    scattered clouds   \n",
      "1 -122.419418       289.48      88.0    1009.0          light rain   \n",
      "2 -122.332069       281.80      81.0    1027.0        sky is clear   \n",
      "3 -118.243683       291.87      88.0    1013.0                mist   \n",
      "4 -117.157257       291.53      82.0    1013.0        sky is clear   \n",
      "\n",
      "   wind_direction  wind_speed  \n",
      "0             0.0         0.0  \n",
      "1           150.0         2.0  \n",
      "2             0.0         0.0  \n",
      "3             0.0         0.0  \n",
      "4             0.0         0.0   \n",
      "   month    phase         city  avgWindSpeed\n",
      "0    01  evening  Albuquerque      2.505710\n",
      "1    02  evening  Albuquerque      2.938959\n",
      "2    03  evening  Albuquerque      3.201626\n",
      "3    04  evening  Albuquerque      3.907718\n",
      "4    05  evening  Albuquerque      3.254209\n"
     ]
    }
   ],
   "source": [
    "# Get and store data in dataframes\n",
    "df = loader.get_US_Weather_data()\n",
    "\n",
    "with db.get_conn() as conn:\n",
    "    df_avg_temp = pd.read_sql_query(ss.AVG_TEMPS, conn)\n",
    "\n",
    "with db.get_conn() as conn:\n",
    "    df_description = pd.read_sql_query(ss.WEATHER_DESC_FREQ, conn)\n",
    "\n",
    "with db.get_conn() as conn:\n",
    "    df_avgHumidity = pd.read_sql_query(ss.AVG_HUMIDITY, conn)\n",
    "\n",
    "with db.get_conn() as conn:\n",
    "    df_wind = pd.read_sql_query(ss.AVG_WIND_SPEED, conn)\n",
    "\n",
    "ls_avgWindSpeed = df_wind['avgWindSpeed'].tolist()\n",
    "ls_avgHumidity = df_avgHumidity['avgHumidity'].tolist()\n",
    "ls_avgTemp = df_avg_temp['avgTemp'].tolist()\n",
    "\n",
    "ls_months = df_avg_temp['month'].tolist()\n",
    "ls_phases = df_avg_temp['phase'].tolist()\n",
    "ls_cities = df_avg_temp['city'].tolist()\n",
    "\n",
    "\n",
    "\n",
    "print(df.head(), \"\\n\", df_wind.head())"
   ]
  },
  {
   "cell_type": "code",
   "execution_count": 31,
   "outputs": [
    {
     "data": {
      "text/plain": "      month  phase     city      weather_description  count()\n20000    10  night  Seattle  light intensity drizzle       36\n20001    10  night  Seattle               light rain      323\n20002    10  night  Seattle                     mist      109\n20003    10  night  Seattle            moderate rain      148\n20004    10  night  Seattle          overcast clouds      197\n20005    10  night  Seattle         scattered clouds       99\n20006    10  night  Seattle             sky is clear      453\n20007    11  night  Seattle            broken clouds      150\n20008    11  night  Seattle               few clouds       50\n20009    11  night  Seattle                      fog        8\n20010    11  night  Seattle                     haze       13\n20011    11  night  Seattle     heavy intensity rain       29\n20012    11  night  Seattle  light intensity drizzle      113\n20013    11  night  Seattle               light rain      316\n20014    11  night  Seattle               light snow        2\n20015    11  night  Seattle                     mist      141\n20016    11  night  Seattle            moderate rain       74\n20017    11  night  Seattle          overcast clouds      205\n20018    11  night  Seattle   proximity thunderstorm        1\n20019    11  night  Seattle         scattered clouds       65\n20020    11  night  Seattle             sky is clear      439\n20021    11  night  Seattle                     snow        1\n20022    11  night  Seattle          very heavy rain        1\n20023    12  night  Seattle            broken clouds      115\n20024    12  night  Seattle               few clouds       27\n20025    12  night  Seattle                      fog        5\n20026    12  night  Seattle                     haze       29\n20027    12  night  Seattle     heavy intensity rain       43\n20028    12  night  Seattle  light intensity drizzle       64\n20029    12  night  Seattle               light rain      309\n20030    12  night  Seattle               light snow        5\n20031    12  night  Seattle                     mist      189\n20032    12  night  Seattle            moderate rain       85\n20033    12  night  Seattle          overcast clouds      198\n20034    12  night  Seattle         scattered clouds       68\n20035    12  night  Seattle             sky is clear      242",
      "text/html": "<div>\n<style scoped>\n    .dataframe tbody tr th:only-of-type {\n        vertical-align: middle;\n    }\n\n    .dataframe tbody tr th {\n        vertical-align: top;\n    }\n\n    .dataframe thead th {\n        text-align: right;\n    }\n</style>\n<table border=\"1\" class=\"dataframe\">\n  <thead>\n    <tr style=\"text-align: right;\">\n      <th></th>\n      <th>month</th>\n      <th>phase</th>\n      <th>city</th>\n      <th>weather_description</th>\n      <th>count()</th>\n    </tr>\n  </thead>\n  <tbody>\n    <tr>\n      <th>20000</th>\n      <td>10</td>\n      <td>night</td>\n      <td>Seattle</td>\n      <td>light intensity drizzle</td>\n      <td>36</td>\n    </tr>\n    <tr>\n      <th>20001</th>\n      <td>10</td>\n      <td>night</td>\n      <td>Seattle</td>\n      <td>light rain</td>\n      <td>323</td>\n    </tr>\n    <tr>\n      <th>20002</th>\n      <td>10</td>\n      <td>night</td>\n      <td>Seattle</td>\n      <td>mist</td>\n      <td>109</td>\n    </tr>\n    <tr>\n      <th>20003</th>\n      <td>10</td>\n      <td>night</td>\n      <td>Seattle</td>\n      <td>moderate rain</td>\n      <td>148</td>\n    </tr>\n    <tr>\n      <th>20004</th>\n      <td>10</td>\n      <td>night</td>\n      <td>Seattle</td>\n      <td>overcast clouds</td>\n      <td>197</td>\n    </tr>\n    <tr>\n      <th>20005</th>\n      <td>10</td>\n      <td>night</td>\n      <td>Seattle</td>\n      <td>scattered clouds</td>\n      <td>99</td>\n    </tr>\n    <tr>\n      <th>20006</th>\n      <td>10</td>\n      <td>night</td>\n      <td>Seattle</td>\n      <td>sky is clear</td>\n      <td>453</td>\n    </tr>\n    <tr>\n      <th>20007</th>\n      <td>11</td>\n      <td>night</td>\n      <td>Seattle</td>\n      <td>broken clouds</td>\n      <td>150</td>\n    </tr>\n    <tr>\n      <th>20008</th>\n      <td>11</td>\n      <td>night</td>\n      <td>Seattle</td>\n      <td>few clouds</td>\n      <td>50</td>\n    </tr>\n    <tr>\n      <th>20009</th>\n      <td>11</td>\n      <td>night</td>\n      <td>Seattle</td>\n      <td>fog</td>\n      <td>8</td>\n    </tr>\n    <tr>\n      <th>20010</th>\n      <td>11</td>\n      <td>night</td>\n      <td>Seattle</td>\n      <td>haze</td>\n      <td>13</td>\n    </tr>\n    <tr>\n      <th>20011</th>\n      <td>11</td>\n      <td>night</td>\n      <td>Seattle</td>\n      <td>heavy intensity rain</td>\n      <td>29</td>\n    </tr>\n    <tr>\n      <th>20012</th>\n      <td>11</td>\n      <td>night</td>\n      <td>Seattle</td>\n      <td>light intensity drizzle</td>\n      <td>113</td>\n    </tr>\n    <tr>\n      <th>20013</th>\n      <td>11</td>\n      <td>night</td>\n      <td>Seattle</td>\n      <td>light rain</td>\n      <td>316</td>\n    </tr>\n    <tr>\n      <th>20014</th>\n      <td>11</td>\n      <td>night</td>\n      <td>Seattle</td>\n      <td>light snow</td>\n      <td>2</td>\n    </tr>\n    <tr>\n      <th>20015</th>\n      <td>11</td>\n      <td>night</td>\n      <td>Seattle</td>\n      <td>mist</td>\n      <td>141</td>\n    </tr>\n    <tr>\n      <th>20016</th>\n      <td>11</td>\n      <td>night</td>\n      <td>Seattle</td>\n      <td>moderate rain</td>\n      <td>74</td>\n    </tr>\n    <tr>\n      <th>20017</th>\n      <td>11</td>\n      <td>night</td>\n      <td>Seattle</td>\n      <td>overcast clouds</td>\n      <td>205</td>\n    </tr>\n    <tr>\n      <th>20018</th>\n      <td>11</td>\n      <td>night</td>\n      <td>Seattle</td>\n      <td>proximity thunderstorm</td>\n      <td>1</td>\n    </tr>\n    <tr>\n      <th>20019</th>\n      <td>11</td>\n      <td>night</td>\n      <td>Seattle</td>\n      <td>scattered clouds</td>\n      <td>65</td>\n    </tr>\n    <tr>\n      <th>20020</th>\n      <td>11</td>\n      <td>night</td>\n      <td>Seattle</td>\n      <td>sky is clear</td>\n      <td>439</td>\n    </tr>\n    <tr>\n      <th>20021</th>\n      <td>11</td>\n      <td>night</td>\n      <td>Seattle</td>\n      <td>snow</td>\n      <td>1</td>\n    </tr>\n    <tr>\n      <th>20022</th>\n      <td>11</td>\n      <td>night</td>\n      <td>Seattle</td>\n      <td>very heavy rain</td>\n      <td>1</td>\n    </tr>\n    <tr>\n      <th>20023</th>\n      <td>12</td>\n      <td>night</td>\n      <td>Seattle</td>\n      <td>broken clouds</td>\n      <td>115</td>\n    </tr>\n    <tr>\n      <th>20024</th>\n      <td>12</td>\n      <td>night</td>\n      <td>Seattle</td>\n      <td>few clouds</td>\n      <td>27</td>\n    </tr>\n    <tr>\n      <th>20025</th>\n      <td>12</td>\n      <td>night</td>\n      <td>Seattle</td>\n      <td>fog</td>\n      <td>5</td>\n    </tr>\n    <tr>\n      <th>20026</th>\n      <td>12</td>\n      <td>night</td>\n      <td>Seattle</td>\n      <td>haze</td>\n      <td>29</td>\n    </tr>\n    <tr>\n      <th>20027</th>\n      <td>12</td>\n      <td>night</td>\n      <td>Seattle</td>\n      <td>heavy intensity rain</td>\n      <td>43</td>\n    </tr>\n    <tr>\n      <th>20028</th>\n      <td>12</td>\n      <td>night</td>\n      <td>Seattle</td>\n      <td>light intensity drizzle</td>\n      <td>64</td>\n    </tr>\n    <tr>\n      <th>20029</th>\n      <td>12</td>\n      <td>night</td>\n      <td>Seattle</td>\n      <td>light rain</td>\n      <td>309</td>\n    </tr>\n    <tr>\n      <th>20030</th>\n      <td>12</td>\n      <td>night</td>\n      <td>Seattle</td>\n      <td>light snow</td>\n      <td>5</td>\n    </tr>\n    <tr>\n      <th>20031</th>\n      <td>12</td>\n      <td>night</td>\n      <td>Seattle</td>\n      <td>mist</td>\n      <td>189</td>\n    </tr>\n    <tr>\n      <th>20032</th>\n      <td>12</td>\n      <td>night</td>\n      <td>Seattle</td>\n      <td>moderate rain</td>\n      <td>85</td>\n    </tr>\n    <tr>\n      <th>20033</th>\n      <td>12</td>\n      <td>night</td>\n      <td>Seattle</td>\n      <td>overcast clouds</td>\n      <td>198</td>\n    </tr>\n    <tr>\n      <th>20034</th>\n      <td>12</td>\n      <td>night</td>\n      <td>Seattle</td>\n      <td>scattered clouds</td>\n      <td>68</td>\n    </tr>\n    <tr>\n      <th>20035</th>\n      <td>12</td>\n      <td>night</td>\n      <td>Seattle</td>\n      <td>sky is clear</td>\n      <td>242</td>\n    </tr>\n  </tbody>\n</table>\n</div>"
     },
     "execution_count": 31,
     "metadata": {},
     "output_type": "execute_result"
    }
   ],
   "source": [
    "'''a value for each city, have 12 months, 4 phases of day\n",
    "sunny, cloudy, rain, heavy rain, storm, snow, snow storem\n",
    "\n",
    "for each city\n",
    "    for each phase\n",
    "        for each month\n",
    "            grab count for\n",
    "                snow: light snow/shower snow/ snow/ heavy snow, light rain and snow\n",
    "                other precipitation: light intensity shower rain/ light intensity drizzle/ moderate rain/ proximity shower rain, light rain, drizzle, heavy intensity drizzle\n",
    "                extreme precipition: heavy intensity rain, thunderstorm with light rain, heavy intensity rain, thunderstorn, proximity thunderstorm, thunderstorn with drizzle, proximity thunderstorm with drizzle, freezing rain\n",
    "                clouds: broken clouds, few clouds,\n",
    "                heavy clouds: overcast clouds\n",
    "                clear: sky is clear, scattered clouds\n",
    "\n",
    "                fog, haze, mist\n",
    "'''\n",
    "df_description[20000:]\n",
    "\n"
   ],
   "metadata": {
    "collapsed": false,
    "pycharm": {
     "name": "#%%\n"
    }
   }
  },
  {
   "cell_type": "code",
   "execution_count": 24,
   "outputs": [
    {
     "ename": "IndexError",
     "evalue": "list index out of range",
     "output_type": "error",
     "traceback": [
      "\u001B[1;31m---------------------------------------------------------------------------\u001B[0m",
      "\u001B[1;31mIndexError\u001B[0m                                Traceback (most recent call last)",
      "\u001B[1;32m~\\AppData\\Local\\Temp\\ipykernel_7368\\2490974094.py\u001B[0m in \u001B[0;36m<module>\u001B[1;34m\u001B[0m\n\u001B[0;32m     36\u001B[0m             \u001B[1;32mwhile\u001B[0m \u001B[0mint\u001B[0m\u001B[1;33m(\u001B[0m\u001B[0mmonthColumns\u001B[0m\u001B[1;33m[\u001B[0m\u001B[0mrowIndexMonthCount\u001B[0m\u001B[1;33m]\u001B[0m\u001B[1;33m)\u001B[0m \u001B[1;33m==\u001B[0m \u001B[0mi3\u001B[0m\u001B[1;33m:\u001B[0m\u001B[1;33m\u001B[0m\u001B[1;33m\u001B[0m\u001B[0m\n\u001B[0;32m     37\u001B[0m                 \u001B[0mrowIndexMonthCount\u001B[0m \u001B[1;33m=\u001B[0m \u001B[0mrowIndexMonthCount\u001B[0m \u001B[1;33m+\u001B[0m \u001B[1;36m1\u001B[0m\u001B[1;33m\u001B[0m\u001B[1;33m\u001B[0m\u001B[0m\n\u001B[1;32m---> 38\u001B[1;33m                 \u001B[0mcheck1\u001B[0m \u001B[1;33m=\u001B[0m \u001B[0mmonthColumns\u001B[0m\u001B[1;33m[\u001B[0m\u001B[0mrowIndexMonthCount\u001B[0m\u001B[1;33m]\u001B[0m\u001B[1;33m\u001B[0m\u001B[1;33m\u001B[0m\u001B[0m\n\u001B[0m\u001B[0;32m     39\u001B[0m                 \u001B[0mcheck2\u001B[0m \u001B[1;33m=\u001B[0m \u001B[0mwDescription\u001B[0m\u001B[1;33m[\u001B[0m\u001B[0mrowIndexMonthCount\u001B[0m\u001B[1;33m]\u001B[0m\u001B[1;33m\u001B[0m\u001B[1;33m\u001B[0m\u001B[0m\n\u001B[0;32m     40\u001B[0m                 \u001B[0mcheck3\u001B[0m \u001B[1;33m=\u001B[0m \u001B[0mDescripCount\u001B[0m\u001B[1;33m[\u001B[0m\u001B[0mrowIndexMonthCount\u001B[0m\u001B[1;33m]\u001B[0m\u001B[1;33m\u001B[0m\u001B[1;33m\u001B[0m\u001B[0m\n",
      "\u001B[1;31mIndexError\u001B[0m: list index out of range"
     ]
    }
   ],
   "source": [
    "'''\n",
    "snow: light snow/shower snow/ snow/ heavy snow, light rain and snow\n",
    "                other precipitation: light intensity shower rain/ light intensity drizzle/ moderate rain/ proximity shower rain, light rain, drizzle, heavy intensity drizzle\n",
    "                extreme precipition: heavy intensity rain, thunderstorm with light rain, heavy intensity rain, thunderstorm, proximity thunderstorm, thunderstorm with drizzle, proximity thunderstorm with drizzle, freezing rain\n",
    "                clouds: broken clouds, few clouds,\n",
    "                heavy clouds: overcast clouds\n",
    "                clear: sky is clear, scattered clouds\n",
    "'''\n",
    "\n",
    "wDescription = df_description['weather_description'].tolist()\n",
    "DescripCount= df_description['count()'].tolist()\n",
    "monthColumns= df_description['month'].tolist()\n",
    "phaseColumns= df_description['phase'].tolist()\n",
    "\n",
    "\n",
    "ls_snow = []\n",
    "ls_otherPrecip = []\n",
    "ls_extremePrecip = []\n",
    "ls_clouds = []\n",
    "ls_clear = []\n",
    "row = 0\n",
    "rowIndexMonthCount = 0\n",
    "\n",
    "\n",
    "for i in range(26):\n",
    "    if i\n",
    "    for i2 in range(4):\n",
    "        for i3 in range(1,13):\n",
    "            tempCountSnow = 0\n",
    "            tempCountOtherPrecip = 0\n",
    "            tempCountExtremePrecip = 0\n",
    "            tempCountClouds= 0\n",
    "            tempCountClear = 0\n",
    "            check1 = monthColumns[rowIndexMonthCount]\n",
    "            check2 = wDescription[rowIndexMonthCount]\n",
    "            check3 = DescripCount[rowIndexMonthCount]\n",
    "            check4 = phaseColumns[rowIndexMonthCount]\n",
    "            while int(monthColumns[rowIndexMonthCount]) == i3:\n",
    "                rowIndexMonthCount = rowIndexMonthCount + 1\n",
    "                check1 = monthColumns[rowIndexMonthCount]\n",
    "                check2 = wDescription[rowIndexMonthCount]\n",
    "                check3 = DescripCount[rowIndexMonthCount]\n",
    "                check4 = phaseColumns[rowIndexMonthCount]\n",
    "                if wDescription[rowIndexMonthCount] == 'light intensity shower rain' or wDescription[rowIndexMonthCount] == 'light intensity drizzle' or wDescription[rowIndexMonthCount] == 'moderate rain' or wDescription[rowIndexMonthCount] == 'proximity shower rain' or wDescription[rowIndexMonthCount] == 'light rain' or wDescription[rowIndexMonthCount] == 'drizzle' or wDescription[rowIndexMonthCount] == 'heavy intensity drizzle' or wDescription[rowIndexMonthCount] == 'thunderstorm with light rain' or wDescription[rowIndexMonthCount] == 'heavy intensity rain' or wDescription[rowIndexMonthCount] == 'thunderstorm' or wDescription[rowIndexMonthCount] == 'proximity thunderstorm' or wDescription[rowIndexMonthCount] == 'thunderstorm with drizzle' or wDescription[rowIndexMonthCount] == 'proximity thunderstorm with drizzle' or wDescription[rowIndexMonthCount] == 'freezing rain':\n",
    "                    tempCountOtherPrecip = tempCountOtherPrecip + DescripCount[rowIndexMonthCount]\n",
    "                if wDescription[rowIndexMonthCount] == 'heavy intensity rain' or wDescription[rowIndexMonthCount] == 'thunderstorm with light rain' or wDescription[rowIndexMonthCount] == 'thunderstorm' or wDescription[rowIndexMonthCount] == 'proximity thunderstorm' or wDescription[rowIndexMonthCount] == 'thunderstorm with drizzle' or wDescription[rowIndexMonthCount] == 'proximity thunderstorm with drizzle' or wDescription[rowIndexMonthCount] == 'freezing rain':\n",
    "                    tempCountExtremePrecip = tempCountExtremePrecip + DescripCount[rowIndexMonthCount]\n",
    "            ls_snow.append(tempCountSnow)\n",
    "            ls_otherPrecip.append(tempCountOtherPrecip)\n",
    "            ls_extremePrecip.append(tempCountExtremePrecip)\n",
    "            ls_clouds.append(tempCountClouds)\n",
    "            ls_clear.append(tempCountClear)\n",
    "\n",
    "            row = row + 1\n",
    "print(4)"
   ],
   "metadata": {
    "collapsed": false,
    "pycharm": {
     "name": "#%%\n"
    }
   }
  },
  {
   "cell_type": "code",
   "execution_count": 12,
   "outputs": [
    {
     "ename": "KeyboardInterrupt",
     "evalue": "",
     "output_type": "error",
     "traceback": [
      "\u001B[1;31m---------------------------------------------------------------------------\u001B[0m",
      "\u001B[1;31mKeyboardInterrupt\u001B[0m                         Traceback (most recent call last)",
      "\u001B[1;32m~\\AppData\\Local\\Temp\\ipykernel_7368\\970763744.py\u001B[0m in \u001B[0;36m<module>\u001B[1;34m\u001B[0m\n\u001B[0;32m     16\u001B[0m \u001B[1;33m\u001B[0m\u001B[0m\n\u001B[0;32m     17\u001B[0m fullDf = pd.DataFrame(\n\u001B[1;32m---> 18\u001B[1;33m     {'month': ls_months,\n\u001B[0m\u001B[0;32m     19\u001B[0m      \u001B[1;34m'phase'\u001B[0m\u001B[1;33m:\u001B[0m \u001B[0mls_phases\u001B[0m\u001B[1;33m,\u001B[0m\u001B[1;33m\u001B[0m\u001B[1;33m\u001B[0m\u001B[0m\n\u001B[0;32m     20\u001B[0m      \u001B[1;34m'city'\u001B[0m\u001B[1;33m:\u001B[0m \u001B[0mls_cities\u001B[0m\u001B[1;33m,\u001B[0m\u001B[1;33m\u001B[0m\u001B[1;33m\u001B[0m\u001B[0m\n",
      "\u001B[1;32m~\\AppData\\Local\\Temp\\ipykernel_7368\\970763744.py\u001B[0m in \u001B[0;36m<module>\u001B[1;34m\u001B[0m\n\u001B[0;32m     16\u001B[0m \u001B[1;33m\u001B[0m\u001B[0m\n\u001B[0;32m     17\u001B[0m fullDf = pd.DataFrame(\n\u001B[1;32m---> 18\u001B[1;33m     {'month': ls_months,\n\u001B[0m\u001B[0;32m     19\u001B[0m      \u001B[1;34m'phase'\u001B[0m\u001B[1;33m:\u001B[0m \u001B[0mls_phases\u001B[0m\u001B[1;33m,\u001B[0m\u001B[1;33m\u001B[0m\u001B[1;33m\u001B[0m\u001B[0m\n\u001B[0;32m     20\u001B[0m      \u001B[1;34m'city'\u001B[0m\u001B[1;33m:\u001B[0m \u001B[0mls_cities\u001B[0m\u001B[1;33m,\u001B[0m\u001B[1;33m\u001B[0m\u001B[1;33m\u001B[0m\u001B[0m\n",
      "\u001B[1;32m_pydevd_bundle\\pydevd_cython_win32_37_64.pyx\u001B[0m in \u001B[0;36m_pydevd_bundle.pydevd_cython_win32_37_64.SafeCallWrapper.__call__\u001B[1;34m()\u001B[0m\n",
      "\u001B[1;32m_pydevd_bundle\\pydevd_cython_win32_37_64.pyx\u001B[0m in \u001B[0;36m_pydevd_bundle.pydevd_cython_win32_37_64.PyDBFrame.trace_dispatch\u001B[1;34m()\u001B[0m\n",
      "\u001B[1;32m_pydevd_bundle\\pydevd_cython_win32_37_64.pyx\u001B[0m in \u001B[0;36m_pydevd_bundle.pydevd_cython_win32_37_64.PyDBFrame.trace_dispatch\u001B[1;34m()\u001B[0m\n",
      "\u001B[1;32m_pydevd_bundle\\pydevd_cython_win32_37_64.pyx\u001B[0m in \u001B[0;36m_pydevd_bundle.pydevd_cython_win32_37_64.PyDBFrame.trace_dispatch\u001B[1;34m()\u001B[0m\n",
      "\u001B[1;32m_pydevd_bundle\\pydevd_cython_win32_37_64.pyx\u001B[0m in \u001B[0;36m_pydevd_bundle.pydevd_cython_win32_37_64.PyDBFrame.do_wait_suspend\u001B[1;34m()\u001B[0m\n",
      "\u001B[1;32mC:\\Program Files\\JetBrains\\PyCharm 2021.3.2\\plugins\\python\\helpers\\pydev\\pydevd.py\u001B[0m in \u001B[0;36mdo_wait_suspend\u001B[1;34m(self, thread, frame, event, arg, send_suspend_message, is_unhandled_exception)\u001B[0m\n\u001B[0;32m   1145\u001B[0m \u001B[1;33m\u001B[0m\u001B[0m\n\u001B[0;32m   1146\u001B[0m         \u001B[1;32mwith\u001B[0m \u001B[0mself\u001B[0m\u001B[1;33m.\u001B[0m\u001B[0m_threads_suspended_single_notification\u001B[0m\u001B[1;33m.\u001B[0m\u001B[0mnotify_thread_suspended\u001B[0m\u001B[1;33m(\u001B[0m\u001B[0mthread_id\u001B[0m\u001B[1;33m,\u001B[0m \u001B[0mstop_reason\u001B[0m\u001B[1;33m)\u001B[0m\u001B[1;33m:\u001B[0m\u001B[1;33m\u001B[0m\u001B[1;33m\u001B[0m\u001B[0m\n\u001B[1;32m-> 1147\u001B[1;33m             \u001B[0mself\u001B[0m\u001B[1;33m.\u001B[0m\u001B[0m_do_wait_suspend\u001B[0m\u001B[1;33m(\u001B[0m\u001B[0mthread\u001B[0m\u001B[1;33m,\u001B[0m \u001B[0mframe\u001B[0m\u001B[1;33m,\u001B[0m \u001B[0mevent\u001B[0m\u001B[1;33m,\u001B[0m \u001B[0marg\u001B[0m\u001B[1;33m,\u001B[0m \u001B[0msuspend_type\u001B[0m\u001B[1;33m,\u001B[0m \u001B[0mfrom_this_thread\u001B[0m\u001B[1;33m)\u001B[0m\u001B[1;33m\u001B[0m\u001B[1;33m\u001B[0m\u001B[0m\n\u001B[0m\u001B[0;32m   1148\u001B[0m \u001B[1;33m\u001B[0m\u001B[0m\n\u001B[0;32m   1149\u001B[0m     \u001B[1;32mdef\u001B[0m \u001B[0m_do_wait_suspend\u001B[0m\u001B[1;33m(\u001B[0m\u001B[0mself\u001B[0m\u001B[1;33m,\u001B[0m \u001B[0mthread\u001B[0m\u001B[1;33m,\u001B[0m \u001B[0mframe\u001B[0m\u001B[1;33m,\u001B[0m \u001B[0mevent\u001B[0m\u001B[1;33m,\u001B[0m \u001B[0marg\u001B[0m\u001B[1;33m,\u001B[0m \u001B[0msuspend_type\u001B[0m\u001B[1;33m,\u001B[0m \u001B[0mfrom_this_thread\u001B[0m\u001B[1;33m)\u001B[0m\u001B[1;33m:\u001B[0m\u001B[1;33m\u001B[0m\u001B[1;33m\u001B[0m\u001B[0m\n",
      "\u001B[1;32mC:\\Program Files\\JetBrains\\PyCharm 2021.3.2\\plugins\\python\\helpers\\pydev\\pydevd.py\u001B[0m in \u001B[0;36m_do_wait_suspend\u001B[1;34m(self, thread, frame, event, arg, suspend_type, from_this_thread)\u001B[0m\n\u001B[0;32m   1160\u001B[0m \u001B[1;33m\u001B[0m\u001B[0m\n\u001B[0;32m   1161\u001B[0m                 \u001B[0mself\u001B[0m\u001B[1;33m.\u001B[0m\u001B[0mprocess_internal_commands\u001B[0m\u001B[1;33m(\u001B[0m\u001B[1;33m)\u001B[0m\u001B[1;33m\u001B[0m\u001B[1;33m\u001B[0m\u001B[0m\n\u001B[1;32m-> 1162\u001B[1;33m                 \u001B[0mtime\u001B[0m\u001B[1;33m.\u001B[0m\u001B[0msleep\u001B[0m\u001B[1;33m(\u001B[0m\u001B[1;36m0.01\u001B[0m\u001B[1;33m)\u001B[0m\u001B[1;33m\u001B[0m\u001B[1;33m\u001B[0m\u001B[0m\n\u001B[0m\u001B[0;32m   1163\u001B[0m \u001B[1;33m\u001B[0m\u001B[0m\n\u001B[0;32m   1164\u001B[0m         \u001B[0mself\u001B[0m\u001B[1;33m.\u001B[0m\u001B[0mcancel_async_evaluation\u001B[0m\u001B[1;33m(\u001B[0m\u001B[0mget_current_thread_id\u001B[0m\u001B[1;33m(\u001B[0m\u001B[0mthread\u001B[0m\u001B[1;33m)\u001B[0m\u001B[1;33m,\u001B[0m \u001B[0mstr\u001B[0m\u001B[1;33m(\u001B[0m\u001B[0mid\u001B[0m\u001B[1;33m(\u001B[0m\u001B[0mframe\u001B[0m\u001B[1;33m)\u001B[0m\u001B[1;33m)\u001B[0m\u001B[1;33m)\u001B[0m\u001B[1;33m\u001B[0m\u001B[1;33m\u001B[0m\u001B[0m\n",
      "\u001B[1;31mKeyboardInterrupt\u001B[0m: "
     ]
    }
   ],
   "source": [
    "'''\n",
    "ls_snow = []\n",
    "ls_otherPrecip = []\n",
    "ls_extremePrecip = []\n",
    "ls_clouds = []\n",
    "ls_clear = []\n",
    "\n",
    "ls_avgWindSpeed = df_wind['avgWindSpeed'].tolist()\n",
    "ls_avgHumidity = df_avgHumidity['avgHumidity'].tolist()\n",
    "ls_avgTemp = df_avg_temp['avgTemp'].tolist()\n",
    "\n",
    "ls_months = df_avg_temp['month'].tolist()\n",
    "ls_phases = df_avg_temp['phase'].tolist()\n",
    "ls_cities = df_avg_temp['city'].tolist()\n",
    "'''\n",
    "\n",
    "fullDf = pd.DataFrame(\n",
    "    {'month': ls_months,\n",
    "     'phase': ls_phases,\n",
    "     'city': ls_cities,\n",
    "     'avg temp': ls_avgTemp,\n",
    "     'avg humidity': ls_avgHumidity,\n",
    "     'avg wind speed': ls_avgWindSpeed,\n",
    "     'num of phases w/ snowfall for each day in each month': ls_snow,\n",
    "     'num of phases w/ precipitation for each day in each month': ls_otherPrecip,\n",
    "     'num of phases w/ clouds for each day in each month': ls_snow,\n",
    "     'num of phases w/ clear skies for each day in each month': ls_clear\n",
    "    })\n",
    "\n",
    "fullDf"
   ],
   "metadata": {
    "collapsed": false,
    "pycharm": {
     "name": "#%%\n"
    }
   }
  },
  {
   "cell_type": "code",
   "execution_count": 33,
   "outputs": [
    {
     "data": {
      "text/plain": "     month  phase       city     avgTemp\n1190    03  night  San Diego  290.606438\n1191    04  night  San Diego  291.245744\n1192    05  night  San Diego  291.922306\n1193    06  night  San Diego  294.497614\n1194    07  night  San Diego  296.672969\n...    ...    ...        ...         ...\n1291    08  night    Seattle  296.035863\n1292    09  night    Seattle  291.535112\n1293    10  night    Seattle  286.098377\n1294    11  night    Seattle  281.693347\n1295    12  night    Seattle  278.214079\n\n[106 rows x 4 columns]",
      "text/html": "<div>\n<style scoped>\n    .dataframe tbody tr th:only-of-type {\n        vertical-align: middle;\n    }\n\n    .dataframe tbody tr th {\n        vertical-align: top;\n    }\n\n    .dataframe thead th {\n        text-align: right;\n    }\n</style>\n<table border=\"1\" class=\"dataframe\">\n  <thead>\n    <tr style=\"text-align: right;\">\n      <th></th>\n      <th>month</th>\n      <th>phase</th>\n      <th>city</th>\n      <th>avgTemp</th>\n    </tr>\n  </thead>\n  <tbody>\n    <tr>\n      <th>1190</th>\n      <td>03</td>\n      <td>night</td>\n      <td>San Diego</td>\n      <td>290.606438</td>\n    </tr>\n    <tr>\n      <th>1191</th>\n      <td>04</td>\n      <td>night</td>\n      <td>San Diego</td>\n      <td>291.245744</td>\n    </tr>\n    <tr>\n      <th>1192</th>\n      <td>05</td>\n      <td>night</td>\n      <td>San Diego</td>\n      <td>291.922306</td>\n    </tr>\n    <tr>\n      <th>1193</th>\n      <td>06</td>\n      <td>night</td>\n      <td>San Diego</td>\n      <td>294.497614</td>\n    </tr>\n    <tr>\n      <th>1194</th>\n      <td>07</td>\n      <td>night</td>\n      <td>San Diego</td>\n      <td>296.672969</td>\n    </tr>\n    <tr>\n      <th>...</th>\n      <td>...</td>\n      <td>...</td>\n      <td>...</td>\n      <td>...</td>\n    </tr>\n    <tr>\n      <th>1291</th>\n      <td>08</td>\n      <td>night</td>\n      <td>Seattle</td>\n      <td>296.035863</td>\n    </tr>\n    <tr>\n      <th>1292</th>\n      <td>09</td>\n      <td>night</td>\n      <td>Seattle</td>\n      <td>291.535112</td>\n    </tr>\n    <tr>\n      <th>1293</th>\n      <td>10</td>\n      <td>night</td>\n      <td>Seattle</td>\n      <td>286.098377</td>\n    </tr>\n    <tr>\n      <th>1294</th>\n      <td>11</td>\n      <td>night</td>\n      <td>Seattle</td>\n      <td>281.693347</td>\n    </tr>\n    <tr>\n      <th>1295</th>\n      <td>12</td>\n      <td>night</td>\n      <td>Seattle</td>\n      <td>278.214079</td>\n    </tr>\n  </tbody>\n</table>\n<p>106 rows × 4 columns</p>\n</div>"
     },
     "execution_count": 33,
     "metadata": {},
     "output_type": "execute_result"
    }
   ],
   "source": [
    "df_avg_temp[1190:]\n"
   ],
   "metadata": {
    "collapsed": false,
    "pycharm": {
     "name": "#%%\n"
    }
   }
  },
  {
   "cell_type": "code",
   "execution_count": null,
   "id": "4355817b",
   "metadata": {},
   "outputs": [],
   "source": [
    "#OneHotEncoding\n",
    "\n",
    "\n",
    "\n",
    "#double brackets, inner show it is a list. outer show it is indexing and returns a panda data frame\n",
    "catagorCol = df[['weather_description']]\n",
    "\n",
    "cat_encoder = OneHotEncoder(sparse = False)   #this is substantiation an object of the OneHotEncoder class\n",
    "housing_cat_1hot = cat_encoder.fit_transform(catagorCol)\n",
    "\n",
    "#or\n",
    "\n",
    "dfFeatures = pd.get_dummies(df, columns = ['weather_description'], drop_first = True)  #change drop first to a more useless one\n",
    "\n",
    "# This removes the columns titled 'Example' and'Class_pos' from the dataframe\n",
    "dfFeatures = dfFeatures.drop(['wind_speed'], axis = 1);   # do I need this semicolon?\n"
   ]
  },
  {
   "cell_type": "code",
   "execution_count": null,
   "id": "2a15a761",
   "metadata": {},
   "outputs": [],
   "source": [
    "# Scaling\n",
    "\n",
    "\n",
    "scaler = StandardScaler()\n",
    "dfPreped = scaler.fit_transform(df)"
   ]
  },
  {
   "cell_type": "code",
   "execution_count": null,
   "id": "656fd4f9",
   "metadata": {},
   "outputs": [],
   "source": []
  },
  {
   "cell_type": "code",
   "execution_count": null,
   "id": "6bf397da",
   "metadata": {},
   "outputs": [],
   "source": []
  },
  {
   "cell_type": "code",
   "execution_count": null,
   "id": "4423fd9a",
   "metadata": {},
   "outputs": [],
   "source": []
  },
  {
   "cell_type": "code",
   "execution_count": null,
   "id": "ef48f30a",
   "metadata": {},
   "outputs": [],
   "source": []
  },
  {
   "cell_type": "code",
   "execution_count": null,
   "id": "afaa8d6e",
   "metadata": {},
   "outputs": [],
   "source": []
  }
 ],
 "metadata": {
  "kernelspec": {
   "display_name": "Python 3 (ipykernel)",
   "language": "python",
   "name": "python3"
  },
  "language_info": {
   "codemirror_mode": {
    "name": "ipython",
    "version": 3
   },
   "file_extension": ".py",
   "mimetype": "text/x-python",
   "name": "python",
   "nbconvert_exporter": "python",
   "pygments_lexer": "ipython3",
   "version": "3.9.7"
  }
 },
 "nbformat": 4,
 "nbformat_minor": 5
}