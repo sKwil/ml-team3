{
 "cells": [
  {
   "cell_type": "code",
   "execution_count": 2,
   "id": "38d16ee7",
   "metadata": {},
   "outputs": [],
   "source": [
    "import pandas as pd\n",
    "import sys\n",
    "import os.path\n"
   ]
  },
  {
   "cell_type": "code",
   "execution_count": 3,
   "id": "c3031ba1",
   "metadata": {},
   "outputs": [],
   "source": [
    "# Create the path for accessing the db.py file in dataImport\n",
    "path = os.path.join(\n",
    "    os.path.abspath(os.path.join(os.getcwd(), os.pardir, os.pardir)),\n",
    "    'model', 'dataImport'\n",
    ")\n",
    "sys.path.insert(0, path)\n",
    "\n",
    "import db"
   ]
  },
  {
   "cell_type": "code",
   "execution_count": 4,
   "id": "3fd59fbd",
   "metadata": {},
   "outputs": [],
   "source": [
    "df = db.getDataFrame()"
   ]
  },
  {
   "cell_type": "code",
   "execution_count": 8,
   "outputs": [
    {
     "data": {
      "text/plain": "              datetime           city        country   latitude   longitude  \\\n0  2012-10-01 13:00:00       Portland  United States  45.523449 -122.676208   \n1  2012-10-01 13:00:00  San Francisco  United States  37.774929 -122.419418   \n2  2012-10-01 13:00:00        Seattle  United States  47.606209 -122.332069   \n3  2012-10-01 13:00:00    Los Angeles  United States  34.052231 -118.243683   \n4  2012-10-01 13:00:00      San Diego  United States  32.715328 -117.157257   \n\n   temperature  humidity  pressure weather_description  wind_direction  \\\n0       282.08      81.0    1024.0    scattered clouds             0.0   \n1       289.48      88.0    1009.0          light rain           150.0   \n2       281.80      81.0    1027.0        sky is clear             0.0   \n3       291.87      88.0    1013.0                mist             0.0   \n4       291.53      82.0    1013.0        sky is clear             0.0   \n\n   wind_speed  \n0         0.0  \n1         2.0  \n2         0.0  \n3         0.0  \n4         0.0  ",
      "text/html": "<div>\n<style scoped>\n    .dataframe tbody tr th:only-of-type {\n        vertical-align: middle;\n    }\n\n    .dataframe tbody tr th {\n        vertical-align: top;\n    }\n\n    .dataframe thead th {\n        text-align: right;\n    }\n</style>\n<table border=\"1\" class=\"dataframe\">\n  <thead>\n    <tr style=\"text-align: right;\">\n      <th></th>\n      <th>datetime</th>\n      <th>city</th>\n      <th>country</th>\n      <th>latitude</th>\n      <th>longitude</th>\n      <th>temperature</th>\n      <th>humidity</th>\n      <th>pressure</th>\n      <th>weather_description</th>\n      <th>wind_direction</th>\n      <th>wind_speed</th>\n    </tr>\n  </thead>\n  <tbody>\n    <tr>\n      <th>0</th>\n      <td>2012-10-01 13:00:00</td>\n      <td>Portland</td>\n      <td>United States</td>\n      <td>45.523449</td>\n      <td>-122.676208</td>\n      <td>282.08</td>\n      <td>81.0</td>\n      <td>1024.0</td>\n      <td>scattered clouds</td>\n      <td>0.0</td>\n      <td>0.0</td>\n    </tr>\n    <tr>\n      <th>1</th>\n      <td>2012-10-01 13:00:00</td>\n      <td>San Francisco</td>\n      <td>United States</td>\n      <td>37.774929</td>\n      <td>-122.419418</td>\n      <td>289.48</td>\n      <td>88.0</td>\n      <td>1009.0</td>\n      <td>light rain</td>\n      <td>150.0</td>\n      <td>2.0</td>\n    </tr>\n    <tr>\n      <th>2</th>\n      <td>2012-10-01 13:00:00</td>\n      <td>Seattle</td>\n      <td>United States</td>\n      <td>47.606209</td>\n      <td>-122.332069</td>\n      <td>281.80</td>\n      <td>81.0</td>\n      <td>1027.0</td>\n      <td>sky is clear</td>\n      <td>0.0</td>\n      <td>0.0</td>\n    </tr>\n    <tr>\n      <th>3</th>\n      <td>2012-10-01 13:00:00</td>\n      <td>Los Angeles</td>\n      <td>United States</td>\n      <td>34.052231</td>\n      <td>-118.243683</td>\n      <td>291.87</td>\n      <td>88.0</td>\n      <td>1013.0</td>\n      <td>mist</td>\n      <td>0.0</td>\n      <td>0.0</td>\n    </tr>\n    <tr>\n      <th>4</th>\n      <td>2012-10-01 13:00:00</td>\n      <td>San Diego</td>\n      <td>United States</td>\n      <td>32.715328</td>\n      <td>-117.157257</td>\n      <td>291.53</td>\n      <td>82.0</td>\n      <td>1013.0</td>\n      <td>sky is clear</td>\n      <td>0.0</td>\n      <td>0.0</td>\n    </tr>\n  </tbody>\n</table>\n</div>"
     },
     "execution_count": 8,
     "metadata": {},
     "output_type": "execute_result"
    }
   ],
   "source": [
    "df.head()"
   ],
   "metadata": {
    "collapsed": false,
    "pycharm": {
     "name": "#%%\n"
    }
   }
  },
  {
   "cell_type": "code",
   "execution_count": 6,
   "id": "4355817b",
   "metadata": {},
   "outputs": [
    {
     "ename": "ModuleNotFoundError",
     "evalue": "No module named 'sklearn'",
     "output_type": "error",
     "traceback": [
      "\u001B[1;31m---------------------------------------------------------------------------\u001B[0m",
      "\u001B[1;31mModuleNotFoundError\u001B[0m                       Traceback (most recent call last)",
      "\u001B[1;32m~\\AppData\\Local\\Temp\\ipykernel_5876\\1822985951.py\u001B[0m in \u001B[0;36m<module>\u001B[1;34m\u001B[0m\n\u001B[1;32m----> 1\u001B[1;33m \u001B[1;32mfrom\u001B[0m \u001B[0msklearn\u001B[0m\u001B[1;33m.\u001B[0m\u001B[0mpreprocessing\u001B[0m \u001B[1;32mimport\u001B[0m \u001B[0mOneHotEncoder\u001B[0m\u001B[1;33m\u001B[0m\u001B[1;33m\u001B[0m\u001B[0m\n\u001B[0m\u001B[0;32m      2\u001B[0m \u001B[1;33m\u001B[0m\u001B[0m\n\u001B[0;32m      3\u001B[0m \u001B[1;31m#double brackets, inner show it is a list. outer show it is indexing and returns a panda data frame\u001B[0m\u001B[1;33m\u001B[0m\u001B[1;33m\u001B[0m\u001B[1;33m\u001B[0m\u001B[0m\n\u001B[0;32m      4\u001B[0m \u001B[0mcatagorCol\u001B[0m \u001B[1;33m=\u001B[0m \u001B[0mdf\u001B[0m\u001B[1;33m[\u001B[0m\u001B[1;33m[\u001B[0m\u001B[1;34m'weather_description'\u001B[0m\u001B[1;33m]\u001B[0m\u001B[1;33m]\u001B[0m\u001B[1;33m\u001B[0m\u001B[1;33m\u001B[0m\u001B[0m\n\u001B[0;32m      5\u001B[0m \u001B[1;33m\u001B[0m\u001B[0m\n",
      "\u001B[1;31mModuleNotFoundError\u001B[0m: No module named 'sklearn'"
     ]
    }
   ],
   "source": [
    "#OneHotEncoding\n",
    "\n",
    "from sklearn.preprocessing import OneHotEncoder\n",
    "\n",
    "#double brackets, inner show it is a list. outer show it is indexing and returns a panda data frame\n",
    "catagorCol = df[['weather_description']]\n",
    "\n",
    "cat_encoder = OneHotEncoder(sparse = False)   #this is substantiation an object of the OneHotEncoder class\n",
    "housing_cat_1hot = cat_encoder.fit_transform(catagorCol)\n",
    "\n",
    "#or\n",
    "\n",
    "dfFeatures = pd.get_dummies(df, columns = ['weather_description'], drop_first = True)  #change drop first to a more useless one\n",
    "\n",
    "# This removes the columns titled 'Example' and'Class_pos' from the dataframe\n",
    "dfFeatures = dfFeatures.drop(['wind_speed'], axis = 1);   # do I need this semicolon?\n"
   ]
  },
  {
   "cell_type": "code",
   "execution_count": null,
   "id": "2a15a761",
   "metadata": {},
   "outputs": [],
   "source": [
    "# Scaling\n",
    "from sklearn.preprocessing import StandardScaler\n",
    "\n",
    "scaler = StandardScaler()\n",
    "dfPreped = scaler.fit_transform(df)"
   ]
  },
  {
   "cell_type": "code",
   "execution_count": 19,
   "id": "3b139a56",
   "metadata": {},
   "outputs": [
    {
     "data": {
      "text/plain": "1201899    2017-11-30 00:00:00\n1201900    2017-11-30 00:00:00\n1201901    2017-11-30 00:00:00\n1201902    2017-11-30 00:00:00\n1201903    2017-11-30 00:00:00\nName: datetime, dtype: object"
     },
     "execution_count": 19,
     "metadata": {},
     "output_type": "execute_result"
    }
   ],
   "source": [
    "#time stamp\n",
    "\n",
    "#should we two different data frames for day and night? Do we create new catagories night and day, each with time from 0 - 7?\n",
    "\n",
    "night = []\n",
    "morn = df ['datetime']\n",
    "count = 0\n",
    "for i in morn[0:100]:\n",
    "    value = i.split(\":\")\n",
    "    value = value[0]\n",
    "    value = value.split(\" \")\n",
    "    value = int(value[1])\n",
    "    if value < 7 or value > 14:\n",
    "        morn = morn.drop(count)\n",
    "        night.append([value]) # might not want\n",
    "    count = count + 1\n",
    "df = pd.DataFrame(night, columns = ['night'])  # this would create new dataframe, maybe don't want\n",
    "\n",
    "morn.tail()"
   ]
  },
  {
   "cell_type": "code",
   "execution_count": 12,
   "id": "52eb87bb",
   "metadata": {},
   "outputs": [
    {
     "data": {
      "text/plain": "0    2012-10-01 13:00:00\n1    2012-10-01 13:00:00\n3    2012-10-01 13:00:00\n4    2012-10-01 13:00:00\n5    2012-10-01 13:00:00\nName: datetime, dtype: object"
     },
     "execution_count": 12,
     "metadata": {},
     "output_type": "execute_result"
    }
   ],
   "source": [
    "questions: need to import DataFrame? Need to download sklearn libary? colab does not work?"
   ]
  },
  {
   "cell_type": "code",
   "execution_count": null,
   "id": "656fd4f9",
   "metadata": {},
   "outputs": [],
   "source": []
  },
  {
   "cell_type": "code",
   "execution_count": null,
   "id": "6bf397da",
   "metadata": {},
   "outputs": [],
   "source": []
  },
  {
   "cell_type": "code",
   "execution_count": null,
   "id": "4423fd9a",
   "metadata": {},
   "outputs": [],
   "source": []
  },
  {
   "cell_type": "code",
   "execution_count": null,
   "id": "ef48f30a",
   "metadata": {},
   "outputs": [],
   "source": []
  },
  {
   "cell_type": "code",
   "execution_count": null,
   "id": "afaa8d6e",
   "metadata": {},
   "outputs": [],
   "source": []
  }
 ],
 "metadata": {
  "kernelspec": {
   "display_name": "Python 3 (ipykernel)",
   "language": "python",
   "name": "python3"
  },
  "language_info": {
   "codemirror_mode": {
    "name": "ipython",
    "version": 3
   },
   "file_extension": ".py",
   "mimetype": "text/x-python",
   "name": "python",
   "nbconvert_exporter": "python",
   "pygments_lexer": "ipython3",
   "version": "3.9.7"
  }
 },
 "nbformat": 4,
 "nbformat_minor": 5
}