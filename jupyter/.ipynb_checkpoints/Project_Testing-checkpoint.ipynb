{
 "cells": [
  {
   "cell_type": "code",
   "execution_count": 44,
   "id": "38d16ee7",
   "metadata": {},
   "outputs": [],
   "source": [
    "# Import necessary libraries\n",
    "import pandas as pd\n",
    "from sklearn.preprocessing import OneHotEncoder\n",
    "from sklearn.preprocessing import StandardScaler\n",
    "\n",
    "# Import necessary modules from repository\n",
    "from model.data_import import loader\n",
    "from model.data_import import summary_selects as ss\n",
    "from model import db"
   ]
  },
  {
   "cell_type": "code",
   "execution_count": 73,
   "id": "c3031ba1",
   "metadata": {},
   "outputs": [
    {
     "name": "stdout",
     "output_type": "stream",
     "text": [
      "              datetime month   phase           city        country   latitude  \\\n",
      "0  2012-10-01 13:00:00    10  midday       Portland  United States  45.523449   \n",
      "1  2012-10-01 13:00:00    10  midday  San Francisco  United States  37.774929   \n",
      "2  2012-10-01 13:00:00    10  midday        Seattle  United States  47.606209   \n",
      "3  2012-10-01 13:00:00    10  midday    Los Angeles  United States  34.052231   \n",
      "4  2012-10-01 13:00:00    10  midday      San Diego  United States  32.715328   \n",
      "\n",
      "    longitude  temperature  humidity  pressure weather_description  \\\n",
      "0 -122.676208       282.08      81.0    1024.0    scattered clouds   \n",
      "1 -122.419418       289.48      88.0    1009.0          light rain   \n",
      "2 -122.332069       281.80      81.0    1027.0        sky is clear   \n",
      "3 -118.243683       291.87      88.0    1013.0                mist   \n",
      "4 -117.157257       291.53      82.0    1013.0        sky is clear   \n",
      "\n",
      "   wind_direction  wind_speed  \n",
      "0             0.0         0.0  \n",
      "1           150.0         2.0  \n",
      "2             0.0         0.0  \n",
      "3             0.0         0.0  \n",
      "4             0.0         0.0   \n",
      "   month    phase         city  avgWindSpeed\n",
      "0    01  evening  Albuquerque      2.505710\n",
      "1    02  evening  Albuquerque      2.938959\n",
      "2    03  evening  Albuquerque      3.201626\n",
      "3    04  evening  Albuquerque      3.907718\n",
      "4    05  evening  Albuquerque      3.254209\n"
     ]
    }
   ],
   "source": [
    "# Get and store data in dataframes\n",
    "df = loader.get_US_Weather_data()\n",
    "\n",
    "with db.get_conn() as conn:\n",
    "    df_avg_temp = pd.read_sql_query(ss.AVG_TEMPS, conn)\n",
    "\n",
    "with db.get_conn() as conn:\n",
    "    df_description = pd.read_sql_query(ss.WEATHER_DESC_FREQ, conn)\n",
    "\n",
    "with db.get_conn() as conn:\n",
    "    df_avgHumidity = pd.read_sql_query(ss.AVG_HUMIDITY, conn)\n",
    "\n",
    "with db.get_conn() as conn:\n",
    "    df_wind = pd.read_sql_query(ss.AVG_WIND_SPEED, conn)\n",
    "\n",
    "ls_avgWindSpeed = df_wind['avgWindSpeed'].tolist()\n",
    "ls_avgHumidity = df_avgHumidity['avgHumidity'].tolist()\n",
    "ls_avgTemp = df_avg_temp['avgTemp'].tolist()\n",
    "\n",
    "ls_months = df_avg_temp['month'].tolist()\n",
    "ls_phases = df_avg_temp['phase'].tolist()\n",
    "ls_cities = df_avg_temp['city'].tolist()\n",
    "\n",
    "\n",
    "\n",
    "print(df.head(), \"\\n\", df_wind.head())"
   ]
  },
  {
   "cell_type": "code",
   "execution_count": 75,
   "outputs": [
    {
     "data": {
      "text/plain": "'a value for each city, have 12 months, 4 phases of day\\nsunny, cloudy, rain, heavy rain, storm, snow, snow storem\\n\\nfor each city\\n    for each phase\\n        for each month\\n            grab count for\\n                snow: light snow/shower snow/ snow/ heavy snow, light rain and snow\\n                other precipitation: light intensity shower rain/ light intensity drizzle/ moderate rain/ proximity shower rain, light rain, drizzle, heavy intensity drizzle\\n                extreme precipition: heavy intensity rain, thunderstorm with light rain, heavy intensity rain, thunderstorn, proximity thunderstorm, thunderstorn with drizzle, proximity thunderstorm with drizzle, freezing rain\\n                clouds: broken clouds, few clouds,\\n                heavy clouds: overcast clouds\\n                clear: sky is clear, scattered clouds\\n\\n                fog, haze, mist\\n'"
     },
     "execution_count": 75,
     "metadata": {},
     "output_type": "execute_result"
    }
   ],
   "source": [
    "'''a value for each city, have 12 months, 4 phases of day\n",
    "sunny, cloudy, rain, heavy rain, storm, snow, snow storem\n",
    "\n",
    "for each city\n",
    "    for each phase\n",
    "        for each month\n",
    "            grab count for\n",
    "                snow: light snow/shower snow/ snow/ heavy snow, light rain and snow\n",
    "                other precipitation: light intensity shower rain/ light intensity drizzle/ moderate rain/ proximity shower rain, light rain, drizzle, heavy intensity drizzle\n",
    "                extreme precipition: heavy intensity rain, thunderstorm with light rain, heavy intensity rain, thunderstorn, proximity thunderstorm, thunderstorn with drizzle, proximity thunderstorm with drizzle, freezing rain\n",
    "                clouds: broken clouds, few clouds,\n",
    "                heavy clouds: overcast clouds\n",
    "                clear: sky is clear, scattered clouds\n",
    "\n",
    "                fog, haze, mist\n",
    "'''\n"
   ],
   "metadata": {
    "collapsed": false,
    "pycharm": {
     "name": "#%%\n"
    }
   }
  },
  {
   "cell_type": "code",
   "execution_count": 83,
   "outputs": [
    {
     "ename": "KeyboardInterrupt",
     "evalue": "",
     "output_type": "error",
     "traceback": [
      "\u001B[1;31m---------------------------------------------------------------------------\u001B[0m",
      "\u001B[1;31mKeyboardInterrupt\u001B[0m                         Traceback (most recent call last)",
      "\u001B[1;32m~\\AppData\\Local\\Temp\\ipykernel_5784\\1093910306.py\u001B[0m in \u001B[0;36m<module>\u001B[1;34m\u001B[0m\n\u001B[0;32m     48\u001B[0m \u001B[1;33m\u001B[0m\u001B[0m\n\u001B[0;32m     49\u001B[0m             \u001B[0mrow\u001B[0m \u001B[1;33m=\u001B[0m \u001B[0mrow\u001B[0m \u001B[1;33m+\u001B[0m \u001B[1;36m1\u001B[0m\u001B[1;33m\u001B[0m\u001B[1;33m\u001B[0m\u001B[0m\n\u001B[1;32m---> 50\u001B[1;33m \u001B[0mprint\u001B[0m\u001B[1;33m(\u001B[0m\u001B[1;36m2\u001B[0m\u001B[1;33m)\u001B[0m\u001B[1;33m\u001B[0m\u001B[1;33m\u001B[0m\u001B[0m\n\u001B[0m",
      "\u001B[1;32m~\\AppData\\Local\\Temp\\ipykernel_5784\\1093910306.py\u001B[0m in \u001B[0;36m<module>\u001B[1;34m\u001B[0m\n\u001B[0;32m     48\u001B[0m \u001B[1;33m\u001B[0m\u001B[0m\n\u001B[0;32m     49\u001B[0m             \u001B[0mrow\u001B[0m \u001B[1;33m=\u001B[0m \u001B[0mrow\u001B[0m \u001B[1;33m+\u001B[0m \u001B[1;36m1\u001B[0m\u001B[1;33m\u001B[0m\u001B[1;33m\u001B[0m\u001B[0m\n\u001B[1;32m---> 50\u001B[1;33m \u001B[0mprint\u001B[0m\u001B[1;33m(\u001B[0m\u001B[1;36m2\u001B[0m\u001B[1;33m)\u001B[0m\u001B[1;33m\u001B[0m\u001B[1;33m\u001B[0m\u001B[0m\n\u001B[0m",
      "\u001B[1;32m_pydevd_bundle\\pydevd_cython_win32_37_64.pyx\u001B[0m in \u001B[0;36m_pydevd_bundle.pydevd_cython_win32_37_64.SafeCallWrapper.__call__\u001B[1;34m()\u001B[0m\n",
      "\u001B[1;32m_pydevd_bundle\\pydevd_cython_win32_37_64.pyx\u001B[0m in \u001B[0;36m_pydevd_bundle.pydevd_cython_win32_37_64.PyDBFrame.trace_dispatch\u001B[1;34m()\u001B[0m\n",
      "\u001B[1;32m_pydevd_bundle\\pydevd_cython_win32_37_64.pyx\u001B[0m in \u001B[0;36m_pydevd_bundle.pydevd_cython_win32_37_64.PyDBFrame.trace_dispatch\u001B[1;34m()\u001B[0m\n",
      "\u001B[1;32m_pydevd_bundle\\pydevd_cython_win32_37_64.pyx\u001B[0m in \u001B[0;36m_pydevd_bundle.pydevd_cython_win32_37_64.PyDBFrame.trace_dispatch\u001B[1;34m()\u001B[0m\n",
      "\u001B[1;32m_pydevd_bundle\\pydevd_cython_win32_37_64.pyx\u001B[0m in \u001B[0;36m_pydevd_bundle.pydevd_cython_win32_37_64.PyDBFrame.do_wait_suspend\u001B[1;34m()\u001B[0m\n",
      "\u001B[1;32mC:\\Program Files\\JetBrains\\PyCharm 2021.3.2\\plugins\\python\\helpers\\pydev\\pydevd.py\u001B[0m in \u001B[0;36mdo_wait_suspend\u001B[1;34m(self, thread, frame, event, arg, send_suspend_message, is_unhandled_exception)\u001B[0m\n\u001B[0;32m   1145\u001B[0m \u001B[1;33m\u001B[0m\u001B[0m\n\u001B[0;32m   1146\u001B[0m         \u001B[1;32mwith\u001B[0m \u001B[0mself\u001B[0m\u001B[1;33m.\u001B[0m\u001B[0m_threads_suspended_single_notification\u001B[0m\u001B[1;33m.\u001B[0m\u001B[0mnotify_thread_suspended\u001B[0m\u001B[1;33m(\u001B[0m\u001B[0mthread_id\u001B[0m\u001B[1;33m,\u001B[0m \u001B[0mstop_reason\u001B[0m\u001B[1;33m)\u001B[0m\u001B[1;33m:\u001B[0m\u001B[1;33m\u001B[0m\u001B[1;33m\u001B[0m\u001B[0m\n\u001B[1;32m-> 1147\u001B[1;33m             \u001B[0mself\u001B[0m\u001B[1;33m.\u001B[0m\u001B[0m_do_wait_suspend\u001B[0m\u001B[1;33m(\u001B[0m\u001B[0mthread\u001B[0m\u001B[1;33m,\u001B[0m \u001B[0mframe\u001B[0m\u001B[1;33m,\u001B[0m \u001B[0mevent\u001B[0m\u001B[1;33m,\u001B[0m \u001B[0marg\u001B[0m\u001B[1;33m,\u001B[0m \u001B[0msuspend_type\u001B[0m\u001B[1;33m,\u001B[0m \u001B[0mfrom_this_thread\u001B[0m\u001B[1;33m)\u001B[0m\u001B[1;33m\u001B[0m\u001B[1;33m\u001B[0m\u001B[0m\n\u001B[0m\u001B[0;32m   1148\u001B[0m \u001B[1;33m\u001B[0m\u001B[0m\n\u001B[0;32m   1149\u001B[0m     \u001B[1;32mdef\u001B[0m \u001B[0m_do_wait_suspend\u001B[0m\u001B[1;33m(\u001B[0m\u001B[0mself\u001B[0m\u001B[1;33m,\u001B[0m \u001B[0mthread\u001B[0m\u001B[1;33m,\u001B[0m \u001B[0mframe\u001B[0m\u001B[1;33m,\u001B[0m \u001B[0mevent\u001B[0m\u001B[1;33m,\u001B[0m \u001B[0marg\u001B[0m\u001B[1;33m,\u001B[0m \u001B[0msuspend_type\u001B[0m\u001B[1;33m,\u001B[0m \u001B[0mfrom_this_thread\u001B[0m\u001B[1;33m)\u001B[0m\u001B[1;33m:\u001B[0m\u001B[1;33m\u001B[0m\u001B[1;33m\u001B[0m\u001B[0m\n",
      "\u001B[1;32mC:\\Program Files\\JetBrains\\PyCharm 2021.3.2\\plugins\\python\\helpers\\pydev\\pydevd.py\u001B[0m in \u001B[0;36m_do_wait_suspend\u001B[1;34m(self, thread, frame, event, arg, suspend_type, from_this_thread)\u001B[0m\n\u001B[0;32m   1160\u001B[0m \u001B[1;33m\u001B[0m\u001B[0m\n\u001B[0;32m   1161\u001B[0m                 \u001B[0mself\u001B[0m\u001B[1;33m.\u001B[0m\u001B[0mprocess_internal_commands\u001B[0m\u001B[1;33m(\u001B[0m\u001B[1;33m)\u001B[0m\u001B[1;33m\u001B[0m\u001B[1;33m\u001B[0m\u001B[0m\n\u001B[1;32m-> 1162\u001B[1;33m                 \u001B[0mtime\u001B[0m\u001B[1;33m.\u001B[0m\u001B[0msleep\u001B[0m\u001B[1;33m(\u001B[0m\u001B[1;36m0.01\u001B[0m\u001B[1;33m)\u001B[0m\u001B[1;33m\u001B[0m\u001B[1;33m\u001B[0m\u001B[0m\n\u001B[0m\u001B[0;32m   1163\u001B[0m \u001B[1;33m\u001B[0m\u001B[0m\n\u001B[0;32m   1164\u001B[0m         \u001B[0mself\u001B[0m\u001B[1;33m.\u001B[0m\u001B[0mcancel_async_evaluation\u001B[0m\u001B[1;33m(\u001B[0m\u001B[0mget_current_thread_id\u001B[0m\u001B[1;33m(\u001B[0m\u001B[0mthread\u001B[0m\u001B[1;33m)\u001B[0m\u001B[1;33m,\u001B[0m \u001B[0mstr\u001B[0m\u001B[1;33m(\u001B[0m\u001B[0mid\u001B[0m\u001B[1;33m(\u001B[0m\u001B[0mframe\u001B[0m\u001B[1;33m)\u001B[0m\u001B[1;33m)\u001B[0m\u001B[1;33m)\u001B[0m\u001B[1;33m\u001B[0m\u001B[1;33m\u001B[0m\u001B[0m\n",
      "\u001B[1;31mKeyboardInterrupt\u001B[0m: "
     ]
    }
   ],
   "source": [
    "'''\n",
    "snow: light snow/shower snow/ snow/ heavy snow, light rain and snow\n",
    "                other precipitation: light intensity shower rain/ light intensity drizzle/ moderate rain/ proximity shower rain, light rain, drizzle, heavy intensity drizzle\n",
    "                extreme precipition: heavy intensity rain, thunderstorm with light rain, heavy intensity rain, thunderstorm, proximity thunderstorm, thunderstorm with drizzle, proximity thunderstorm with drizzle, freezing rain\n",
    "                clouds: broken clouds, few clouds,\n",
    "                heavy clouds: overcast clouds   \n",
    "                clear: sky is clear, scattered clouds\n",
    "'''\n",
    "\n",
    "wDescription = df_description['weather_description'].tolist()\n",
    "DescripCount= df_description['count()'].tolist()\n",
    "\n",
    "ls_snow = []\n",
    "ls_otherPrecip = []\n",
    "ls_extremePrecip = []\n",
    "ls_clouds = []\n",
    "ls_clear = []\n",
    "row = 0\n",
    "rowIndexMonthCount = 0\n",
    "\n",
    "for i in range(26):\n",
    "    for i2 in range(3):\n",
    "        for i3 in range(1,13):\n",
    "            tempCountSnow = 0\n",
    "            tempCountOtherPrecip = 0\n",
    "            tempCountExtremePrecip = 0\n",
    "            tempCountClouds= 0\n",
    "            tempCountClear = 0\n",
    "            check1 = monthColumns[rowIndexMonthCount]\n",
    "            check2 = wDescription[rowIndexMonthCount]\n",
    "            check3 = DescripCount[rowIndexMonthCount]\n",
    "            check4 = phaseColumns[rowIndexMonthCount]\n",
    "            while int(monthColumns[rowIndexMonthCount]) == i3:\n",
    "                rowIndexMonthCount = rowIndexMonthCount + 1\n",
    "                check1 = monthColumns[rowIndexMonthCount]\n",
    "                check2 = wDescription[rowIndexMonthCount]\n",
    "                check3 = DescripCount[rowIndexMonthCount]\n",
    "                check4 = phaseColumns[rowIndexMonthCount]\n",
    "                if wDescription[rowIndexMonthCount] == 'light intensity shower rain' or wDescription[rowIndexMonthCount] == 'light intensity drizzle' or wDescription[rowIndexMonthCount] == 'moderate rain' or wDescription[rowIndexMonthCount] == 'proximity shower rain' or wDescription[rowIndexMonthCount] == 'light rain' or wDescription[rowIndexMonthCount] == 'drizzle' or wDescription[rowIndexMonthCount] == 'heavy intensity drizzle' or wDescription[rowIndexMonthCount] == 'thunderstorm with light rain' or wDescription[rowIndexMonthCount] == 'heavy intensity rain' or wDescription[rowIndexMonthCount] == 'thunderstorm' or wDescription[rowIndexMonthCount] == 'proximity thunderstorm' or wDescription[rowIndexMonthCount] == 'thunderstorm with drizzle' or wDescription[rowIndexMonthCount] == 'proximity thunderstorm with drizzle' or wDescription[rowIndexMonthCount] == 'freezing rain':\n",
    "                    tempCountOtherPrecip = tempCountOtherPrecip + DescripCount[rowIndexMonthCount]\n",
    "                if wDescription[rowIndexMonthCount] == 'heavy intensity rain' or wDescription[rowIndexMonthCount] == 'thunderstorm with light rain' or wDescription[rowIndexMonthCount] == 'thunderstorm' or wDescription[rowIndexMonthCount] == 'proximity thunderstorm' or wDescription[rowIndexMonthCount] == 'thunderstorm with drizzle' or wDescription[rowIndexMonthCount] == 'proximity thunderstorm with drizzle' or wDescription[rowIndexMonthCount] == 'freezing rain':\n",
    "                    tempCountExtremePrecip = tempCountExtremePrecip + DescripCount[rowIndexMonthCount]\n",
    "            ls_snow.append(tempCountSnow)\n",
    "            ls_otherPrecip.append(tempCountOtherPrecip)\n",
    "            ls_extremePrecip.append(tempCountExtremePrecip)\n",
    "            ls_clouds.append(tempCountClouds)\n",
    "            ls_clear.append(tempCountClear)\n",
    "\n",
    "            row = row + 1\n",
    "print(2)"
   ],
   "metadata": {
    "collapsed": false,
    "pycharm": {
     "name": "#%%\n"
    }
   }
  },
  {
   "cell_type": "code",
   "execution_count": 78,
   "outputs": [
    {
     "ename": "ValueError",
     "evalue": "All arrays must be of the same length",
     "output_type": "error",
     "traceback": [
      "\u001B[1;31m---------------------------------------------------------------------------\u001B[0m",
      "\u001B[1;31mValueError\u001B[0m                                Traceback (most recent call last)",
      "\u001B[1;32m~\\AppData\\Local\\Temp\\ipykernel_5784\\970763744.py\u001B[0m in \u001B[0;36m<module>\u001B[1;34m\u001B[0m\n\u001B[0;32m     25\u001B[0m      \u001B[1;34m'num of phases w/ precipitation for each day in each month'\u001B[0m\u001B[1;33m:\u001B[0m \u001B[0mls_otherPrecip\u001B[0m\u001B[1;33m,\u001B[0m\u001B[1;33m\u001B[0m\u001B[1;33m\u001B[0m\u001B[0m\n\u001B[0;32m     26\u001B[0m      \u001B[1;34m'num of phases w/ clouds for each day in each month'\u001B[0m\u001B[1;33m:\u001B[0m \u001B[0mls_snow\u001B[0m\u001B[1;33m,\u001B[0m\u001B[1;33m\u001B[0m\u001B[1;33m\u001B[0m\u001B[0m\n\u001B[1;32m---> 27\u001B[1;33m      \u001B[1;34m'num of phases w/ clear skies for each day in each month'\u001B[0m\u001B[1;33m:\u001B[0m \u001B[0mls_clear\u001B[0m\u001B[1;33m\u001B[0m\u001B[1;33m\u001B[0m\u001B[0m\n\u001B[0m\u001B[0;32m     28\u001B[0m     })\n\u001B[0;32m     29\u001B[0m \u001B[1;33m\u001B[0m\u001B[0m\n",
      "\u001B[1;32mc:\\users\\trenton\\documents\\programming\\ml-team3\\venv\\lib\\site-packages\\pandas\\core\\frame.py\u001B[0m in \u001B[0;36m__init__\u001B[1;34m(self, data, index, columns, dtype, copy)\u001B[0m\n\u001B[0;32m    612\u001B[0m         \u001B[1;32melif\u001B[0m \u001B[0misinstance\u001B[0m\u001B[1;33m(\u001B[0m\u001B[0mdata\u001B[0m\u001B[1;33m,\u001B[0m \u001B[0mdict\u001B[0m\u001B[1;33m)\u001B[0m\u001B[1;33m:\u001B[0m\u001B[1;33m\u001B[0m\u001B[1;33m\u001B[0m\u001B[0m\n\u001B[0;32m    613\u001B[0m             \u001B[1;31m# GH#38939 de facto copy defaults to False only in non-dict cases\u001B[0m\u001B[1;33m\u001B[0m\u001B[1;33m\u001B[0m\u001B[1;33m\u001B[0m\u001B[0m\n\u001B[1;32m--> 614\u001B[1;33m             \u001B[0mmgr\u001B[0m \u001B[1;33m=\u001B[0m \u001B[0mdict_to_mgr\u001B[0m\u001B[1;33m(\u001B[0m\u001B[0mdata\u001B[0m\u001B[1;33m,\u001B[0m \u001B[0mindex\u001B[0m\u001B[1;33m,\u001B[0m \u001B[0mcolumns\u001B[0m\u001B[1;33m,\u001B[0m \u001B[0mdtype\u001B[0m\u001B[1;33m=\u001B[0m\u001B[0mdtype\u001B[0m\u001B[1;33m,\u001B[0m \u001B[0mcopy\u001B[0m\u001B[1;33m=\u001B[0m\u001B[0mcopy\u001B[0m\u001B[1;33m,\u001B[0m \u001B[0mtyp\u001B[0m\u001B[1;33m=\u001B[0m\u001B[0mmanager\u001B[0m\u001B[1;33m)\u001B[0m\u001B[1;33m\u001B[0m\u001B[1;33m\u001B[0m\u001B[0m\n\u001B[0m\u001B[0;32m    615\u001B[0m         \u001B[1;32melif\u001B[0m \u001B[0misinstance\u001B[0m\u001B[1;33m(\u001B[0m\u001B[0mdata\u001B[0m\u001B[1;33m,\u001B[0m \u001B[0mma\u001B[0m\u001B[1;33m.\u001B[0m\u001B[0mMaskedArray\u001B[0m\u001B[1;33m)\u001B[0m\u001B[1;33m:\u001B[0m\u001B[1;33m\u001B[0m\u001B[1;33m\u001B[0m\u001B[0m\n\u001B[0;32m    616\u001B[0m             \u001B[1;32mimport\u001B[0m \u001B[0mnumpy\u001B[0m\u001B[1;33m.\u001B[0m\u001B[0mma\u001B[0m\u001B[1;33m.\u001B[0m\u001B[0mmrecords\u001B[0m \u001B[1;32mas\u001B[0m \u001B[0mmrecords\u001B[0m\u001B[1;33m\u001B[0m\u001B[1;33m\u001B[0m\u001B[0m\n",
      "\u001B[1;32mc:\\users\\trenton\\documents\\programming\\ml-team3\\venv\\lib\\site-packages\\pandas\\core\\internals\\construction.py\u001B[0m in \u001B[0;36mdict_to_mgr\u001B[1;34m(data, index, columns, dtype, typ, copy)\u001B[0m\n\u001B[0;32m    463\u001B[0m \u001B[1;33m\u001B[0m\u001B[0m\n\u001B[0;32m    464\u001B[0m     return arrays_to_mgr(\n\u001B[1;32m--> 465\u001B[1;33m         \u001B[0marrays\u001B[0m\u001B[1;33m,\u001B[0m \u001B[0mdata_names\u001B[0m\u001B[1;33m,\u001B[0m \u001B[0mindex\u001B[0m\u001B[1;33m,\u001B[0m \u001B[0mcolumns\u001B[0m\u001B[1;33m,\u001B[0m \u001B[0mdtype\u001B[0m\u001B[1;33m=\u001B[0m\u001B[0mdtype\u001B[0m\u001B[1;33m,\u001B[0m \u001B[0mtyp\u001B[0m\u001B[1;33m=\u001B[0m\u001B[0mtyp\u001B[0m\u001B[1;33m,\u001B[0m \u001B[0mconsolidate\u001B[0m\u001B[1;33m=\u001B[0m\u001B[0mcopy\u001B[0m\u001B[1;33m\u001B[0m\u001B[1;33m\u001B[0m\u001B[0m\n\u001B[0m\u001B[0;32m    466\u001B[0m     )\n\u001B[0;32m    467\u001B[0m \u001B[1;33m\u001B[0m\u001B[0m\n",
      "\u001B[1;32mc:\\users\\trenton\\documents\\programming\\ml-team3\\venv\\lib\\site-packages\\pandas\\core\\internals\\construction.py\u001B[0m in \u001B[0;36marrays_to_mgr\u001B[1;34m(arrays, arr_names, index, columns, dtype, verify_integrity, typ, consolidate)\u001B[0m\n\u001B[0;32m    117\u001B[0m         \u001B[1;31m# figure out the index, if necessary\u001B[0m\u001B[1;33m\u001B[0m\u001B[1;33m\u001B[0m\u001B[1;33m\u001B[0m\u001B[0m\n\u001B[0;32m    118\u001B[0m         \u001B[1;32mif\u001B[0m \u001B[0mindex\u001B[0m \u001B[1;32mis\u001B[0m \u001B[1;32mNone\u001B[0m\u001B[1;33m:\u001B[0m\u001B[1;33m\u001B[0m\u001B[1;33m\u001B[0m\u001B[0m\n\u001B[1;32m--> 119\u001B[1;33m             \u001B[0mindex\u001B[0m \u001B[1;33m=\u001B[0m \u001B[0m_extract_index\u001B[0m\u001B[1;33m(\u001B[0m\u001B[0marrays\u001B[0m\u001B[1;33m)\u001B[0m\u001B[1;33m\u001B[0m\u001B[1;33m\u001B[0m\u001B[0m\n\u001B[0m\u001B[0;32m    120\u001B[0m         \u001B[1;32melse\u001B[0m\u001B[1;33m:\u001B[0m\u001B[1;33m\u001B[0m\u001B[1;33m\u001B[0m\u001B[0m\n\u001B[0;32m    121\u001B[0m             \u001B[0mindex\u001B[0m \u001B[1;33m=\u001B[0m \u001B[0mensure_index\u001B[0m\u001B[1;33m(\u001B[0m\u001B[0mindex\u001B[0m\u001B[1;33m)\u001B[0m\u001B[1;33m\u001B[0m\u001B[1;33m\u001B[0m\u001B[0m\n",
      "\u001B[1;32mc:\\users\\trenton\\documents\\programming\\ml-team3\\venv\\lib\\site-packages\\pandas\\core\\internals\\construction.py\u001B[0m in \u001B[0;36m_extract_index\u001B[1;34m(data)\u001B[0m\n\u001B[0;32m    633\u001B[0m             \u001B[0mlengths\u001B[0m \u001B[1;33m=\u001B[0m \u001B[0mlist\u001B[0m\u001B[1;33m(\u001B[0m\u001B[0mset\u001B[0m\u001B[1;33m(\u001B[0m\u001B[0mraw_lengths\u001B[0m\u001B[1;33m)\u001B[0m\u001B[1;33m)\u001B[0m\u001B[1;33m\u001B[0m\u001B[1;33m\u001B[0m\u001B[0m\n\u001B[0;32m    634\u001B[0m             \u001B[1;32mif\u001B[0m \u001B[0mlen\u001B[0m\u001B[1;33m(\u001B[0m\u001B[0mlengths\u001B[0m\u001B[1;33m)\u001B[0m \u001B[1;33m>\u001B[0m \u001B[1;36m1\u001B[0m\u001B[1;33m:\u001B[0m\u001B[1;33m\u001B[0m\u001B[1;33m\u001B[0m\u001B[0m\n\u001B[1;32m--> 635\u001B[1;33m                 \u001B[1;32mraise\u001B[0m \u001B[0mValueError\u001B[0m\u001B[1;33m(\u001B[0m\u001B[1;34m\"All arrays must be of the same length\"\u001B[0m\u001B[1;33m)\u001B[0m\u001B[1;33m\u001B[0m\u001B[1;33m\u001B[0m\u001B[0m\n\u001B[0m\u001B[0;32m    636\u001B[0m \u001B[1;33m\u001B[0m\u001B[0m\n\u001B[0;32m    637\u001B[0m             \u001B[1;32mif\u001B[0m \u001B[0mhave_dicts\u001B[0m\u001B[1;33m:\u001B[0m\u001B[1;33m\u001B[0m\u001B[1;33m\u001B[0m\u001B[0m\n",
      "\u001B[1;31mValueError\u001B[0m: All arrays must be of the same length"
     ]
    }
   ],
   "source": [
    "'''\n",
    "ls_snow = []\n",
    "ls_otherPrecip = []\n",
    "ls_extremePrecip = []\n",
    "ls_clouds = []\n",
    "ls_clear = []\n",
    "\n",
    "ls_avgWindSpeed = df_wind['avgWindSpeed'].tolist()\n",
    "ls_avgHumidity = df_avgHumidity['avgHumidity'].tolist()\n",
    "ls_avgTemp = df_avg_temp['avgTemp'].tolist()\n",
    "\n",
    "ls_months = df_avg_temp['month'].tolist()\n",
    "ls_phases = df_avg_temp['phase'].tolist()\n",
    "ls_cities = df_avg_temp['city'].tolist()\n",
    "'''\n",
    "\n",
    "fullDf = pd.DataFrame(\n",
    "    {'month': ls_months,\n",
    "     'phase': ls_phases,\n",
    "     'city': ls_cities,\n",
    "     'avg temp': ls_avgTemp,\n",
    "     'avg humidity': ls_avgHumidity,\n",
    "     'avg wind speed': ls_avgWindSpeed,\n",
    "     'num of phases w/ snowfall for each day in each month': ls_snow,\n",
    "     'num of phases w/ precipitation for each day in each month': ls_otherPrecip,\n",
    "     'num of phases w/ clouds for each day in each month': ls_snow,\n",
    "     'num of phases w/ clear skies for each day in each month': ls_clear\n",
    "    })\n",
    "\n",
    "fullDf"
   ],
   "metadata": {
    "collapsed": false,
    "pycharm": {
     "name": "#%%\n"
    }
   }
  },
  {
   "cell_type": "code",
   "execution_count": 71,
   "outputs": [
    {
     "data": {
      "text/plain": "     month    phase         city     avgTemp\n0       01  evening  Albuquerque  276.476086\n1       02  evening  Albuquerque  280.864605\n2       03  evening  Albuquerque  286.007113\n3       04  evening  Albuquerque  289.082291\n4       05  evening  Albuquerque  293.111593\n...    ...      ...          ...         ...\n1291    08    night      Seattle  296.035863\n1292    09    night      Seattle  291.535112\n1293    10    night      Seattle  286.098377\n1294    11    night      Seattle  281.693347\n1295    12    night      Seattle  278.214079\n\n[1296 rows x 4 columns]",
      "text/html": "<div>\n<style scoped>\n    .dataframe tbody tr th:only-of-type {\n        vertical-align: middle;\n    }\n\n    .dataframe tbody tr th {\n        vertical-align: top;\n    }\n\n    .dataframe thead th {\n        text-align: right;\n    }\n</style>\n<table border=\"1\" class=\"dataframe\">\n  <thead>\n    <tr style=\"text-align: right;\">\n      <th></th>\n      <th>month</th>\n      <th>phase</th>\n      <th>city</th>\n      <th>avgTemp</th>\n    </tr>\n  </thead>\n  <tbody>\n    <tr>\n      <th>0</th>\n      <td>01</td>\n      <td>evening</td>\n      <td>Albuquerque</td>\n      <td>276.476086</td>\n    </tr>\n    <tr>\n      <th>1</th>\n      <td>02</td>\n      <td>evening</td>\n      <td>Albuquerque</td>\n      <td>280.864605</td>\n    </tr>\n    <tr>\n      <th>2</th>\n      <td>03</td>\n      <td>evening</td>\n      <td>Albuquerque</td>\n      <td>286.007113</td>\n    </tr>\n    <tr>\n      <th>3</th>\n      <td>04</td>\n      <td>evening</td>\n      <td>Albuquerque</td>\n      <td>289.082291</td>\n    </tr>\n    <tr>\n      <th>4</th>\n      <td>05</td>\n      <td>evening</td>\n      <td>Albuquerque</td>\n      <td>293.111593</td>\n    </tr>\n    <tr>\n      <th>...</th>\n      <td>...</td>\n      <td>...</td>\n      <td>...</td>\n      <td>...</td>\n    </tr>\n    <tr>\n      <th>1291</th>\n      <td>08</td>\n      <td>night</td>\n      <td>Seattle</td>\n      <td>296.035863</td>\n    </tr>\n    <tr>\n      <th>1292</th>\n      <td>09</td>\n      <td>night</td>\n      <td>Seattle</td>\n      <td>291.535112</td>\n    </tr>\n    <tr>\n      <th>1293</th>\n      <td>10</td>\n      <td>night</td>\n      <td>Seattle</td>\n      <td>286.098377</td>\n    </tr>\n    <tr>\n      <th>1294</th>\n      <td>11</td>\n      <td>night</td>\n      <td>Seattle</td>\n      <td>281.693347</td>\n    </tr>\n    <tr>\n      <th>1295</th>\n      <td>12</td>\n      <td>night</td>\n      <td>Seattle</td>\n      <td>278.214079</td>\n    </tr>\n  </tbody>\n</table>\n<p>1296 rows × 4 columns</p>\n</div>"
     },
     "execution_count": 71,
     "metadata": {},
     "output_type": "execute_result"
    }
   ],
   "source": [
    "df_avg_temp\n"
   ],
   "metadata": {
    "collapsed": false,
    "pycharm": {
     "name": "#%%\n"
    }
   }
  },
  {
   "cell_type": "code",
   "execution_count": 6,
   "id": "4355817b",
   "metadata": {},
   "outputs": [
    {
     "ename": "ModuleNotFoundError",
     "evalue": "No module named 'sklearn'",
     "output_type": "error",
     "traceback": [
      "\u001B[1;31m---------------------------------------------------------------------------\u001B[0m",
      "\u001B[1;31mModuleNotFoundError\u001B[0m                       Traceback (most recent call last)",
      "\u001B[1;32m~\\AppData\\Local\\Temp\\ipykernel_5876\\1822985951.py\u001B[0m in \u001B[0;36m<module>\u001B[1;34m\u001B[0m\n\u001B[1;32m----> 1\u001B[1;33m \u001B[1;32mfrom\u001B[0m \u001B[0msklearn\u001B[0m\u001B[1;33m.\u001B[0m\u001B[0mpreprocessing\u001B[0m \u001B[1;32mimport\u001B[0m \u001B[0mOneHotEncoder\u001B[0m\u001B[1;33m\u001B[0m\u001B[1;33m\u001B[0m\u001B[0m\n\u001B[0m\u001B[0;32m      2\u001B[0m \u001B[1;33m\u001B[0m\u001B[0m\n\u001B[0;32m      3\u001B[0m \u001B[1;31m#double brackets, inner show it is a list. outer show it is indexing and returns a panda data frame\u001B[0m\u001B[1;33m\u001B[0m\u001B[1;33m\u001B[0m\u001B[1;33m\u001B[0m\u001B[0m\n\u001B[0;32m      4\u001B[0m \u001B[0mcatagorCol\u001B[0m \u001B[1;33m=\u001B[0m \u001B[0mdf\u001B[0m\u001B[1;33m[\u001B[0m\u001B[1;33m[\u001B[0m\u001B[1;34m'weather_description'\u001B[0m\u001B[1;33m]\u001B[0m\u001B[1;33m]\u001B[0m\u001B[1;33m\u001B[0m\u001B[1;33m\u001B[0m\u001B[0m\n\u001B[0;32m      5\u001B[0m \u001B[1;33m\u001B[0m\u001B[0m\n",
      "\u001B[1;31mModuleNotFoundError\u001B[0m: No module named 'sklearn'"
     ]
    }
   ],
   "source": [
    "#OneHotEncoding\n",
    "\n",
    "\n",
    "\n",
    "#double brackets, inner show it is a list. outer show it is indexing and returns a panda data frame\n",
    "catagorCol = df[['weather_description']]\n",
    "\n",
    "cat_encoder = OneHotEncoder(sparse = False)   #this is substantiation an object of the OneHotEncoder class\n",
    "housing_cat_1hot = cat_encoder.fit_transform(catagorCol)\n",
    "\n",
    "#or\n",
    "\n",
    "dfFeatures = pd.get_dummies(df, columns = ['weather_description'], drop_first = True)  #change drop first to a more useless one\n",
    "\n",
    "# This removes the columns titled 'Example' and'Class_pos' from the dataframe\n",
    "dfFeatures = dfFeatures.drop(['wind_speed'], axis = 1);   # do I need this semicolon?\n"
   ]
  },
  {
   "cell_type": "code",
   "execution_count": null,
   "id": "2a15a761",
   "metadata": {},
   "outputs": [],
   "source": [
    "# Scaling\n",
    "\n",
    "\n",
    "scaler = StandardScaler()\n",
    "dfPreped = scaler.fit_transform(df)"
   ]
  },
  {
   "cell_type": "code",
   "execution_count": null,
   "id": "656fd4f9",
   "metadata": {},
   "outputs": [],
   "source": []
  },
  {
   "cell_type": "code",
   "execution_count": null,
   "id": "6bf397da",
   "metadata": {},
   "outputs": [],
   "source": []
  },
  {
   "cell_type": "code",
   "execution_count": null,
   "id": "4423fd9a",
   "metadata": {},
   "outputs": [],
   "source": []
  },
  {
   "cell_type": "code",
   "execution_count": null,
   "id": "ef48f30a",
   "metadata": {},
   "outputs": [],
   "source": []
  },
  {
   "cell_type": "code",
   "execution_count": null,
   "id": "afaa8d6e",
   "metadata": {},
   "outputs": [],
   "source": []
  }
 ],
 "metadata": {
  "kernelspec": {
   "display_name": "Python 3 (ipykernel)",
   "language": "python",
   "name": "python3"
  },
  "language_info": {
   "codemirror_mode": {
    "name": "ipython",
    "version": 3
   },
   "file_extension": ".py",
   "mimetype": "text/x-python",
   "name": "python",
   "nbconvert_exporter": "python",
   "pygments_lexer": "ipython3",
   "version": "3.9.7"
  }
 },
 "nbformat": 4,
 "nbformat_minor": 5
}