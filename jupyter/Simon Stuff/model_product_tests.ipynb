{
 "cells": [
  {
   "cell_type": "markdown",
   "source": [
    "Testing the functionality of model.product.model.process() to identify and\n",
    "resolve errors."
   ],
   "metadata": {
    "collapsed": false,
    "pycharm": {
     "name": "#%% md\n"
    }
   }
  },
  {
   "cell_type": "code",
   "execution_count": 2,
   "outputs": [],
   "source": [
    "import pandas as pd\n",
    "import joblib\n",
    "from pandas import DataFrame\n",
    "from sklearn.ensemble import RandomForestClassifier\n",
    "\n",
    "from model.product import cleaner\n",
    "from model.product import splitter\n",
    "from model.product import scaler\n",
    "from model.product import trainer\n",
    "from model.product import constants"
   ],
   "metadata": {
    "collapsed": false,
    "pycharm": {
     "name": "#%%\n"
    }
   }
  },
  {
   "cell_type": "code",
   "execution_count": 8,
   "outputs": [],
   "source": [
    "# Start with initial copy of process() function:\n",
    "\n",
    "\n",
    "# Load the training data and labels\n",
    "station_df = cleaner.get_cleaned_data()\n",
    "\n",
    "# Perform a train-test-split\n",
    "train_feat, test_feat, train_lab, test_lab = splitter.split(station_df)\n",
    "\n",
    "# Scale the training features\n",
    "train_feat = scaler.scale(train_feat)\n",
    "\n",
    "# Train the model\n",
    "#model = trainer.train(train_feat, train_lab)\n",
    "\n",
    "# Save the trained model in the pickle file\n",
    "#joblib.dump(model, constants.MODEL_FILE_PATH)"
   ],
   "metadata": {
    "collapsed": false,
    "pycharm": {
     "name": "#%%\n"
    }
   }
  },
  {
   "cell_type": "code",
   "execution_count": 9,
   "outputs": [
    {
     "data": {
      "text/plain": "array([[1.45454545, 1.04313725, 1.80140187, ..., 1.1144935 , 1.1144935 ,\n        1.1144935 ],\n       [1.36363636, 1.29019608, 1.73831776, ...,        nan,        nan,\n               nan],\n       [1.09090909, 1.16470588, 1.56619938, ..., 1.05694279, 1.05694279,\n        1.05694279],\n       ...,\n       [2.        , 1.12941176, 1.62928349, ...,        nan,        nan,\n               nan],\n       [1.81818182, 1.18431373, 1.66199377, ..., 1.06086056, 1.06086056,\n        1.06086056],\n       [1.18181818, 1.25882353, 1.60124611, ..., 1.05694279, 1.05694279,\n        1.05694279]])"
     },
     "execution_count": 9,
     "metadata": {},
     "output_type": "execute_result"
    }
   ],
   "source": [
    "train_feat"
   ],
   "metadata": {
    "collapsed": false,
    "pycharm": {
     "name": "#%%\n"
    }
   }
  },
  {
   "cell_type": "code",
   "execution_count": null,
   "outputs": [],
   "source": [],
   "metadata": {
    "collapsed": false,
    "pycharm": {
     "name": "#%%\n"
    }
   }
  }
 ],
 "metadata": {
  "kernelspec": {
   "display_name": "Python 3",
   "language": "python",
   "name": "python3"
  },
  "language_info": {
   "codemirror_mode": {
    "name": "ipython",
    "version": 2
   },
   "file_extension": ".py",
   "mimetype": "text/x-python",
   "name": "python",
   "nbconvert_exporter": "python",
   "pygments_lexer": "ipython2",
   "version": "2.7.6"
  }
 },
 "nbformat": 4,
 "nbformat_minor": 0
}