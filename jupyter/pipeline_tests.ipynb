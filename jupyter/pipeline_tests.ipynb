{
 "cells": [
  {
   "cell_type": "code",
   "execution_count": 1,
   "metadata": {
    "collapsed": true
   },
   "outputs": [],
   "source": [
    "from model.data.pipeline import aggregate\n",
    "from model.data.pipeline import utils as ut\n",
    "from model.data.pipeline import sql_strings as sql"
   ]
  },
  {
   "cell_type": "code",
   "execution_count": 2,
   "outputs": [
    {
     "ename": "ValueError",
     "evalue": "cannot join with no overlapping index names",
     "output_type": "error",
     "traceback": [
      "\u001B[0;31m---------------------------------------------------------------------------\u001B[0m",
      "\u001B[0;31mValueError\u001B[0m                                Traceback (most recent call last)",
      "Input \u001B[0;32mIn [2]\u001B[0m, in \u001B[0;36m<cell line: 1>\u001B[0;34m()\u001B[0m\n\u001B[0;32m----> 1\u001B[0m df \u001B[38;5;241m=\u001B[39m \u001B[43maggregate\u001B[49m\u001B[38;5;241;43m.\u001B[39;49m\u001B[43mget_agg_data_frame\u001B[49m\u001B[43m(\u001B[49m\u001B[43m)\u001B[49m\n\u001B[1;32m      2\u001B[0m df\n",
      "File \u001B[0;32m~/Documents/school/csci405/projects/ml-team3/model/data/pipeline/aggregate.py:25\u001B[0m, in \u001B[0;36mget_agg_data_frame\u001B[0;34m()\u001B[0m\n\u001B[1;32m     22\u001B[0m wind \u001B[38;5;241m=\u001B[39m __get_aggregate_wind_speed()\n\u001B[1;32m     23\u001B[0m descriptions \u001B[38;5;241m=\u001B[39m __get_aggregate_weather_descriptions()\n\u001B[0;32m---> 25\u001B[0m df \u001B[38;5;241m=\u001B[39m \u001B[43mpd\u001B[49m\u001B[38;5;241;43m.\u001B[39;49m\u001B[43mmerge\u001B[49m\u001B[43m(\u001B[49m\u001B[43mcm_pairs\u001B[49m\u001B[43m,\u001B[49m\u001B[43m \u001B[49m\u001B[43mdescriptions\u001B[49m\u001B[43m,\u001B[49m\u001B[43m \u001B[49m\u001B[43mleft_index\u001B[49m\u001B[38;5;241;43m=\u001B[39;49m\u001B[38;5;28;43;01mTrue\u001B[39;49;00m\u001B[43m,\u001B[49m\u001B[43m \u001B[49m\u001B[43mright_index\u001B[49m\u001B[38;5;241;43m=\u001B[39;49m\u001B[38;5;28;43;01mTrue\u001B[39;49;00m\u001B[43m,\u001B[49m\n\u001B[1;32m     26\u001B[0m \u001B[43m              \u001B[49m\u001B[43mhow\u001B[49m\u001B[38;5;241;43m=\u001B[39;49m\u001B[38;5;124;43m'\u001B[39;49m\u001B[38;5;124;43minner\u001B[39;49m\u001B[38;5;124;43m'\u001B[39;49m\u001B[43m)\u001B[49m\n\u001B[1;32m     28\u001B[0m \u001B[38;5;28;01mreturn\u001B[39;00m df\n",
      "File \u001B[0;32m~/Documents/school/csci405/projects/ml-team3/venv/lib/python3.9/site-packages/pandas/core/reshape/merge.py:122\u001B[0m, in \u001B[0;36mmerge\u001B[0;34m(left, right, how, on, left_on, right_on, left_index, right_index, sort, suffixes, copy, indicator, validate)\u001B[0m\n\u001B[1;32m     90\u001B[0m \u001B[38;5;129m@Substitution\u001B[39m(\u001B[38;5;124m\"\u001B[39m\u001B[38;5;130;01m\\n\u001B[39;00m\u001B[38;5;124mleft : DataFrame or named Series\u001B[39m\u001B[38;5;124m\"\u001B[39m)\n\u001B[1;32m     91\u001B[0m \u001B[38;5;129m@Appender\u001B[39m(_merge_doc, indents\u001B[38;5;241m=\u001B[39m\u001B[38;5;241m0\u001B[39m)\n\u001B[1;32m     92\u001B[0m \u001B[38;5;28;01mdef\u001B[39;00m \u001B[38;5;21mmerge\u001B[39m(\n\u001B[0;32m   (...)\u001B[0m\n\u001B[1;32m    105\u001B[0m     validate: \u001B[38;5;28mstr\u001B[39m \u001B[38;5;241m|\u001B[39m \u001B[38;5;28;01mNone\u001B[39;00m \u001B[38;5;241m=\u001B[39m \u001B[38;5;28;01mNone\u001B[39;00m,\n\u001B[1;32m    106\u001B[0m ) \u001B[38;5;241m-\u001B[39m\u001B[38;5;241m>\u001B[39m DataFrame:\n\u001B[1;32m    107\u001B[0m     op \u001B[38;5;241m=\u001B[39m _MergeOperation(\n\u001B[1;32m    108\u001B[0m         left,\n\u001B[1;32m    109\u001B[0m         right,\n\u001B[0;32m   (...)\u001B[0m\n\u001B[1;32m    120\u001B[0m         validate\u001B[38;5;241m=\u001B[39mvalidate,\n\u001B[1;32m    121\u001B[0m     )\n\u001B[0;32m--> 122\u001B[0m     \u001B[38;5;28;01mreturn\u001B[39;00m \u001B[43mop\u001B[49m\u001B[38;5;241;43m.\u001B[39;49m\u001B[43mget_result\u001B[49m\u001B[43m(\u001B[49m\u001B[43m)\u001B[49m\n",
      "File \u001B[0;32m~/Documents/school/csci405/projects/ml-team3/venv/lib/python3.9/site-packages/pandas/core/reshape/merge.py:716\u001B[0m, in \u001B[0;36m_MergeOperation.get_result\u001B[0;34m(self)\u001B[0m\n\u001B[1;32m    713\u001B[0m \u001B[38;5;28;01mif\u001B[39;00m \u001B[38;5;28mself\u001B[39m\u001B[38;5;241m.\u001B[39mindicator:\n\u001B[1;32m    714\u001B[0m     \u001B[38;5;28mself\u001B[39m\u001B[38;5;241m.\u001B[39mleft, \u001B[38;5;28mself\u001B[39m\u001B[38;5;241m.\u001B[39mright \u001B[38;5;241m=\u001B[39m \u001B[38;5;28mself\u001B[39m\u001B[38;5;241m.\u001B[39m_indicator_pre_merge(\u001B[38;5;28mself\u001B[39m\u001B[38;5;241m.\u001B[39mleft, \u001B[38;5;28mself\u001B[39m\u001B[38;5;241m.\u001B[39mright)\n\u001B[0;32m--> 716\u001B[0m join_index, left_indexer, right_indexer \u001B[38;5;241m=\u001B[39m \u001B[38;5;28;43mself\u001B[39;49m\u001B[38;5;241;43m.\u001B[39;49m\u001B[43m_get_join_info\u001B[49m\u001B[43m(\u001B[49m\u001B[43m)\u001B[49m\n\u001B[1;32m    718\u001B[0m llabels, rlabels \u001B[38;5;241m=\u001B[39m _items_overlap_with_suffix(\n\u001B[1;32m    719\u001B[0m     \u001B[38;5;28mself\u001B[39m\u001B[38;5;241m.\u001B[39mleft\u001B[38;5;241m.\u001B[39m_info_axis, \u001B[38;5;28mself\u001B[39m\u001B[38;5;241m.\u001B[39mright\u001B[38;5;241m.\u001B[39m_info_axis, \u001B[38;5;28mself\u001B[39m\u001B[38;5;241m.\u001B[39msuffixes\n\u001B[1;32m    720\u001B[0m )\n\u001B[1;32m    722\u001B[0m lindexers \u001B[38;5;241m=\u001B[39m {\u001B[38;5;241m1\u001B[39m: left_indexer} \u001B[38;5;28;01mif\u001B[39;00m left_indexer \u001B[38;5;129;01mis\u001B[39;00m \u001B[38;5;129;01mnot\u001B[39;00m \u001B[38;5;28;01mNone\u001B[39;00m \u001B[38;5;28;01melse\u001B[39;00m {}\n",
      "File \u001B[0;32m~/Documents/school/csci405/projects/ml-team3/venv/lib/python3.9/site-packages/pandas/core/reshape/merge.py:953\u001B[0m, in \u001B[0;36m_MergeOperation._get_join_info\u001B[0;34m(self)\u001B[0m\n\u001B[1;32m    950\u001B[0m right_ax \u001B[38;5;241m=\u001B[39m \u001B[38;5;28mself\u001B[39m\u001B[38;5;241m.\u001B[39mright\u001B[38;5;241m.\u001B[39maxes[\u001B[38;5;28mself\u001B[39m\u001B[38;5;241m.\u001B[39maxis]\n\u001B[1;32m    952\u001B[0m \u001B[38;5;28;01mif\u001B[39;00m \u001B[38;5;28mself\u001B[39m\u001B[38;5;241m.\u001B[39mleft_index \u001B[38;5;129;01mand\u001B[39;00m \u001B[38;5;28mself\u001B[39m\u001B[38;5;241m.\u001B[39mright_index \u001B[38;5;129;01mand\u001B[39;00m \u001B[38;5;28mself\u001B[39m\u001B[38;5;241m.\u001B[39mhow \u001B[38;5;241m!=\u001B[39m \u001B[38;5;124m\"\u001B[39m\u001B[38;5;124masof\u001B[39m\u001B[38;5;124m\"\u001B[39m:\n\u001B[0;32m--> 953\u001B[0m     join_index, left_indexer, right_indexer \u001B[38;5;241m=\u001B[39m \u001B[43mleft_ax\u001B[49m\u001B[38;5;241;43m.\u001B[39;49m\u001B[43mjoin\u001B[49m\u001B[43m(\u001B[49m\n\u001B[1;32m    954\u001B[0m \u001B[43m        \u001B[49m\u001B[43mright_ax\u001B[49m\u001B[43m,\u001B[49m\u001B[43m \u001B[49m\u001B[43mhow\u001B[49m\u001B[38;5;241;43m=\u001B[39;49m\u001B[38;5;28;43mself\u001B[39;49m\u001B[38;5;241;43m.\u001B[39;49m\u001B[43mhow\u001B[49m\u001B[43m,\u001B[49m\u001B[43m \u001B[49m\u001B[43mreturn_indexers\u001B[49m\u001B[38;5;241;43m=\u001B[39;49m\u001B[38;5;28;43;01mTrue\u001B[39;49;00m\u001B[43m,\u001B[49m\u001B[43m \u001B[49m\u001B[43msort\u001B[49m\u001B[38;5;241;43m=\u001B[39;49m\u001B[38;5;28;43mself\u001B[39;49m\u001B[38;5;241;43m.\u001B[39;49m\u001B[43msort\u001B[49m\n\u001B[1;32m    955\u001B[0m \u001B[43m    \u001B[49m\u001B[43m)\u001B[49m\n\u001B[1;32m    957\u001B[0m \u001B[38;5;28;01melif\u001B[39;00m \u001B[38;5;28mself\u001B[39m\u001B[38;5;241m.\u001B[39mright_index \u001B[38;5;129;01mand\u001B[39;00m \u001B[38;5;28mself\u001B[39m\u001B[38;5;241m.\u001B[39mhow \u001B[38;5;241m==\u001B[39m \u001B[38;5;124m\"\u001B[39m\u001B[38;5;124mleft\u001B[39m\u001B[38;5;124m\"\u001B[39m:\n\u001B[1;32m    958\u001B[0m     join_index, left_indexer, right_indexer \u001B[38;5;241m=\u001B[39m _left_join_on_index(\n\u001B[1;32m    959\u001B[0m         left_ax, right_ax, \u001B[38;5;28mself\u001B[39m\u001B[38;5;241m.\u001B[39mleft_join_keys, sort\u001B[38;5;241m=\u001B[39m\u001B[38;5;28mself\u001B[39m\u001B[38;5;241m.\u001B[39msort\n\u001B[1;32m    960\u001B[0m     )\n",
      "File \u001B[0;32m~/Documents/school/csci405/projects/ml-team3/venv/lib/python3.9/site-packages/pandas/core/indexes/base.py:216\u001B[0m, in \u001B[0;36m_maybe_return_indexers.<locals>.join\u001B[0;34m(self, other, how, level, return_indexers, sort)\u001B[0m\n\u001B[1;32m    207\u001B[0m \u001B[38;5;129m@functools\u001B[39m\u001B[38;5;241m.\u001B[39mwraps(meth)\n\u001B[1;32m    208\u001B[0m \u001B[38;5;28;01mdef\u001B[39;00m \u001B[38;5;21mjoin\u001B[39m(\n\u001B[1;32m    209\u001B[0m     \u001B[38;5;28mself\u001B[39m,\n\u001B[0;32m   (...)\u001B[0m\n\u001B[1;32m    214\u001B[0m     sort: \u001B[38;5;28mbool\u001B[39m \u001B[38;5;241m=\u001B[39m \u001B[38;5;28;01mFalse\u001B[39;00m,\n\u001B[1;32m    215\u001B[0m ):\n\u001B[0;32m--> 216\u001B[0m     join_index, lidx, ridx \u001B[38;5;241m=\u001B[39m \u001B[43mmeth\u001B[49m\u001B[43m(\u001B[49m\u001B[38;5;28;43mself\u001B[39;49m\u001B[43m,\u001B[49m\u001B[43m \u001B[49m\u001B[43mother\u001B[49m\u001B[43m,\u001B[49m\u001B[43m \u001B[49m\u001B[43mhow\u001B[49m\u001B[38;5;241;43m=\u001B[39;49m\u001B[43mhow\u001B[49m\u001B[43m,\u001B[49m\u001B[43m \u001B[49m\u001B[43mlevel\u001B[49m\u001B[38;5;241;43m=\u001B[39;49m\u001B[43mlevel\u001B[49m\u001B[43m,\u001B[49m\u001B[43m \u001B[49m\u001B[43msort\u001B[49m\u001B[38;5;241;43m=\u001B[39;49m\u001B[43msort\u001B[49m\u001B[43m)\u001B[49m\n\u001B[1;32m    217\u001B[0m     \u001B[38;5;28;01mif\u001B[39;00m \u001B[38;5;129;01mnot\u001B[39;00m return_indexers:\n\u001B[1;32m    218\u001B[0m         \u001B[38;5;28;01mreturn\u001B[39;00m join_index\n",
      "File \u001B[0;32m~/Documents/school/csci405/projects/ml-team3/venv/lib/python3.9/site-packages/pandas/core/indexes/base.py:4368\u001B[0m, in \u001B[0;36mIndex.join\u001B[0;34m(self, other, how, level, return_indexers, sort)\u001B[0m\n\u001B[1;32m   4366\u001B[0m         \u001B[38;5;28;01mpass\u001B[39;00m\n\u001B[1;32m   4367\u001B[0m     \u001B[38;5;28;01melse\u001B[39;00m:\n\u001B[0;32m-> 4368\u001B[0m         \u001B[38;5;28;01mreturn\u001B[39;00m \u001B[38;5;28;43mself\u001B[39;49m\u001B[38;5;241;43m.\u001B[39;49m\u001B[43m_join_multi\u001B[49m\u001B[43m(\u001B[49m\u001B[43mother\u001B[49m\u001B[43m,\u001B[49m\u001B[43m \u001B[49m\u001B[43mhow\u001B[49m\u001B[38;5;241;43m=\u001B[39;49m\u001B[43mhow\u001B[49m\u001B[43m)\u001B[49m\n\u001B[1;32m   4370\u001B[0m \u001B[38;5;66;03m# join on the level\u001B[39;00m\n\u001B[1;32m   4371\u001B[0m \u001B[38;5;28;01mif\u001B[39;00m level \u001B[38;5;129;01mis\u001B[39;00m \u001B[38;5;129;01mnot\u001B[39;00m \u001B[38;5;28;01mNone\u001B[39;00m \u001B[38;5;129;01mand\u001B[39;00m (\u001B[38;5;28mself\u001B[39m\u001B[38;5;241m.\u001B[39m_is_multi \u001B[38;5;129;01mor\u001B[39;00m other\u001B[38;5;241m.\u001B[39m_is_multi):\n",
      "File \u001B[0;32m~/Documents/school/csci405/projects/ml-team3/venv/lib/python3.9/site-packages/pandas/core/indexes/base.py:4479\u001B[0m, in \u001B[0;36mIndex._join_multi\u001B[0;34m(self, other, how)\u001B[0m\n\u001B[1;32m   4477\u001B[0m \u001B[38;5;66;03m# need at least 1 in common\u001B[39;00m\n\u001B[1;32m   4478\u001B[0m \u001B[38;5;28;01mif\u001B[39;00m \u001B[38;5;129;01mnot\u001B[39;00m overlap:\n\u001B[0;32m-> 4479\u001B[0m     \u001B[38;5;28;01mraise\u001B[39;00m \u001B[38;5;167;01mValueError\u001B[39;00m(\u001B[38;5;124m\"\u001B[39m\u001B[38;5;124mcannot join with no overlapping index names\u001B[39m\u001B[38;5;124m\"\u001B[39m)\n\u001B[1;32m   4481\u001B[0m \u001B[38;5;28;01mif\u001B[39;00m \u001B[38;5;28misinstance\u001B[39m(\u001B[38;5;28mself\u001B[39m, MultiIndex) \u001B[38;5;129;01mand\u001B[39;00m \u001B[38;5;28misinstance\u001B[39m(other, MultiIndex):\n\u001B[1;32m   4482\u001B[0m \n\u001B[1;32m   4483\u001B[0m     \u001B[38;5;66;03m# Drop the non-matching levels from left and right respectively\u001B[39;00m\n\u001B[1;32m   4484\u001B[0m     ldrop_names \u001B[38;5;241m=\u001B[39m \u001B[38;5;28msorted\u001B[39m(self_names \u001B[38;5;241m-\u001B[39m overlap, key\u001B[38;5;241m=\u001B[39mself_names_order)\n",
      "\u001B[0;31mValueError\u001B[0m: cannot join with no overlapping index names"
     ]
    }
   ],
   "source": [
    "df = aggregate.get_agg_data_frame()\n",
    "df"
   ],
   "metadata": {
    "collapsed": false,
    "pycharm": {
     "name": "#%%\n"
    }
   }
  },
  {
   "cell_type": "code",
   "execution_count": null,
   "outputs": [],
   "source": [],
   "metadata": {
    "collapsed": false,
    "pycharm": {
     "name": "#%%\n"
    }
   }
  }
 ],
 "metadata": {
  "kernelspec": {
   "display_name": "Python 3",
   "language": "python",
   "name": "python3"
  },
  "language_info": {
   "codemirror_mode": {
    "name": "ipython",
    "version": 2
   },
   "file_extension": ".py",
   "mimetype": "text/x-python",
   "name": "python",
   "nbconvert_exporter": "python",
   "pygments_lexer": "ipython2",
   "version": "2.7.6"
  }
 },
 "nbformat": 4,
 "nbformat_minor": 0
}