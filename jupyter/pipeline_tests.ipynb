{
 "cells": [
  {
   "cell_type": "code",
   "execution_count": 1,
   "metadata": {
    "collapsed": true
   },
   "outputs": [],
   "source": [
    "from model.data.pipeline import aggregate\n",
    "from model.data.pipeline import utils as ut\n",
    "from model.data.pipeline import sql_strings as sql"
   ]
  },
  {
   "cell_type": "code",
   "execution_count": 12,
   "outputs": [
    {
     "data": {
      "text/plain": "            city month  temperature\n0    Albuquerque    01   270.272182\n1    Albuquerque    02   273.247977\n2    Albuquerque    03   277.633500\n3    Albuquerque    04   281.128437\n4    Albuquerque    05   285.056028\n..           ...   ...          ...\n319      Seattle    08   288.256538\n320      Seattle    09   285.754826\n321      Seattle    10   282.342478\n322      Seattle    11   279.136062\n323      Seattle    12   276.501070\n\n[324 rows x 3 columns]",
      "text/html": "<div>\n<style scoped>\n    .dataframe tbody tr th:only-of-type {\n        vertical-align: middle;\n    }\n\n    .dataframe tbody tr th {\n        vertical-align: top;\n    }\n\n    .dataframe thead th {\n        text-align: right;\n    }\n</style>\n<table border=\"1\" class=\"dataframe\">\n  <thead>\n    <tr style=\"text-align: right;\">\n      <th></th>\n      <th>city</th>\n      <th>month</th>\n      <th>temperature</th>\n    </tr>\n  </thead>\n  <tbody>\n    <tr>\n      <th>0</th>\n      <td>Albuquerque</td>\n      <td>01</td>\n      <td>270.272182</td>\n    </tr>\n    <tr>\n      <th>1</th>\n      <td>Albuquerque</td>\n      <td>02</td>\n      <td>273.247977</td>\n    </tr>\n    <tr>\n      <th>2</th>\n      <td>Albuquerque</td>\n      <td>03</td>\n      <td>277.633500</td>\n    </tr>\n    <tr>\n      <th>3</th>\n      <td>Albuquerque</td>\n      <td>04</td>\n      <td>281.128437</td>\n    </tr>\n    <tr>\n      <th>4</th>\n      <td>Albuquerque</td>\n      <td>05</td>\n      <td>285.056028</td>\n    </tr>\n    <tr>\n      <th>...</th>\n      <td>...</td>\n      <td>...</td>\n      <td>...</td>\n    </tr>\n    <tr>\n      <th>319</th>\n      <td>Seattle</td>\n      <td>08</td>\n      <td>288.256538</td>\n    </tr>\n    <tr>\n      <th>320</th>\n      <td>Seattle</td>\n      <td>09</td>\n      <td>285.754826</td>\n    </tr>\n    <tr>\n      <th>321</th>\n      <td>Seattle</td>\n      <td>10</td>\n      <td>282.342478</td>\n    </tr>\n    <tr>\n      <th>322</th>\n      <td>Seattle</td>\n      <td>11</td>\n      <td>279.136062</td>\n    </tr>\n    <tr>\n      <th>323</th>\n      <td>Seattle</td>\n      <td>12</td>\n      <td>276.501070</td>\n    </tr>\n  </tbody>\n</table>\n<p>324 rows × 3 columns</p>\n</div>"
     },
     "execution_count": 12,
     "metadata": {},
     "output_type": "execute_result"
    }
   ],
   "source": [
    "df = ut.load_sql_as_df(sql.AGG_TEMPERATURE)\n",
    "df"
   ],
   "metadata": {
    "collapsed": false,
    "pycharm": {
     "name": "#%%\n"
    }
   }
  },
  {
   "cell_type": "code",
   "execution_count": 13,
   "outputs": [],
   "source": [
    "df = df.set_index(['city', 'month'])"
   ],
   "metadata": {
    "collapsed": false,
    "pycharm": {
     "name": "#%%\n"
    }
   }
  },
  {
   "cell_type": "code",
   "execution_count": 15,
   "outputs": [],
   "source": [
    "s = df['temperature']"
   ],
   "metadata": {
    "collapsed": false,
    "pycharm": {
     "name": "#%%\n"
    }
   }
  },
  {
   "cell_type": "code",
   "execution_count": 17,
   "outputs": [
    {
     "data": {
      "text/plain": "city         month\nAlbuquerque  01       270.272182\n             02       273.247977\n             03       277.633500\n             04       281.128437\n             05       285.056028\n                         ...    \nSeattle      08       288.256538\n             09       285.754826\n             10       282.342478\n             11       279.136062\n             12       276.501070\nName: temperature, Length: 324, dtype: float64"
     },
     "execution_count": 17,
     "metadata": {},
     "output_type": "execute_result"
    }
   ],
   "source": [
    "s"
   ],
   "metadata": {
    "collapsed": false,
    "pycharm": {
     "name": "#%%\n"
    }
   }
  },
  {
   "cell_type": "code",
   "execution_count": null,
   "outputs": [],
   "source": [],
   "metadata": {
    "collapsed": false,
    "pycharm": {
     "name": "#%%\n"
    }
   }
  }
 ],
 "metadata": {
  "kernelspec": {
   "display_name": "Python 3",
   "language": "python",
   "name": "python3"
  },
  "language_info": {
   "codemirror_mode": {
    "name": "ipython",
    "version": 2
   },
   "file_extension": ".py",
   "mimetype": "text/x-python",
   "name": "python",
   "nbconvert_exporter": "python",
   "pygments_lexer": "ipython2",
   "version": "2.7.6"
  }
 },
 "nbformat": 4,
 "nbformat_minor": 0
}