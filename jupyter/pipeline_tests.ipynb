{
 "cells": [
  {
   "cell_type": "code",
   "execution_count": 1,
   "metadata": {
    "collapsed": true
   },
   "outputs": [],
   "source": [
    "from model.data.pipeline import aggregate"
   ]
  },
  {
   "cell_type": "code",
   "execution_count": 2,
   "outputs": [
    {
     "data": {
      "text/plain": "                   temperature   humidity     pressure  wind_speed      rain  \\\ncity        month                                                              \nAlbuquerque 01      270.272182  66.064693  1017.595395    2.158991  0.031950   \n            02      273.247977  59.198556  1002.113117    2.110710  0.034483   \n            03      277.633500  46.305921  1022.492325    2.372807  0.039103   \n            04      281.128437  42.245241  1017.913774    2.674132  0.055383   \n            05      285.056028  44.270997  1018.783875    2.422172  0.105337   \n...                        ...        ...          ...         ...       ...   \nSeattle     08      288.256538  81.549462  1021.889247    1.472043  0.082796   \n            09      285.754826  87.371111  1019.393333    1.695556  0.211448   \n            10      282.342478  91.931655  1020.478417    2.010791  0.321855   \n            11      279.136062  90.236620  1020.972770    2.179343  0.305517   \n            12      276.501070  87.659760  1020.765540    2.310796  0.345034   \n\n                       snow     cloud       fog  extreme_weather  \ncity        month                                                 \nAlbuquerque 01     0.053250  0.519661  0.011742         0.000546  \n            02     0.023988  0.570315  0.003298         0.004798  \n            03     0.000820  0.586546  0.000273         0.003828  \n            04     0.003391  0.656683  0.006499         0.005369  \n            05     0.000843  0.638483  0.000843         0.023596  \n...                     ...       ...       ...              ...  \nSeattle     08     0.000000  0.383602  0.089247         0.046505  \n            09     0.000000  0.529869  0.103918         0.022228  \n            10     0.000000  0.623002  0.132118         0.013504  \n            11     0.003273  0.587424  0.153109         0.019635  \n            12     0.004898  0.615238  0.201088         0.026939  \n\n[324 rows x 9 columns]",
      "text/html": "<div>\n<style scoped>\n    .dataframe tbody tr th:only-of-type {\n        vertical-align: middle;\n    }\n\n    .dataframe tbody tr th {\n        vertical-align: top;\n    }\n\n    .dataframe thead th {\n        text-align: right;\n    }\n</style>\n<table border=\"1\" class=\"dataframe\">\n  <thead>\n    <tr style=\"text-align: right;\">\n      <th></th>\n      <th></th>\n      <th>temperature</th>\n      <th>humidity</th>\n      <th>pressure</th>\n      <th>wind_speed</th>\n      <th>rain</th>\n      <th>snow</th>\n      <th>cloud</th>\n      <th>fog</th>\n      <th>extreme_weather</th>\n    </tr>\n    <tr>\n      <th>city</th>\n      <th>month</th>\n      <th></th>\n      <th></th>\n      <th></th>\n      <th></th>\n      <th></th>\n      <th></th>\n      <th></th>\n      <th></th>\n      <th></th>\n    </tr>\n  </thead>\n  <tbody>\n    <tr>\n      <th rowspan=\"5\" valign=\"top\">Albuquerque</th>\n      <th>01</th>\n      <td>270.272182</td>\n      <td>66.064693</td>\n      <td>1017.595395</td>\n      <td>2.158991</td>\n      <td>0.031950</td>\n      <td>0.053250</td>\n      <td>0.519661</td>\n      <td>0.011742</td>\n      <td>0.000546</td>\n    </tr>\n    <tr>\n      <th>02</th>\n      <td>273.247977</td>\n      <td>59.198556</td>\n      <td>1002.113117</td>\n      <td>2.110710</td>\n      <td>0.034483</td>\n      <td>0.023988</td>\n      <td>0.570315</td>\n      <td>0.003298</td>\n      <td>0.004798</td>\n    </tr>\n    <tr>\n      <th>03</th>\n      <td>277.633500</td>\n      <td>46.305921</td>\n      <td>1022.492325</td>\n      <td>2.372807</td>\n      <td>0.039103</td>\n      <td>0.000820</td>\n      <td>0.586546</td>\n      <td>0.000273</td>\n      <td>0.003828</td>\n    </tr>\n    <tr>\n      <th>04</th>\n      <td>281.128437</td>\n      <td>42.245241</td>\n      <td>1017.913774</td>\n      <td>2.674132</td>\n      <td>0.055383</td>\n      <td>0.003391</td>\n      <td>0.656683</td>\n      <td>0.006499</td>\n      <td>0.005369</td>\n    </tr>\n    <tr>\n      <th>05</th>\n      <td>285.056028</td>\n      <td>44.270997</td>\n      <td>1018.783875</td>\n      <td>2.422172</td>\n      <td>0.105337</td>\n      <td>0.000843</td>\n      <td>0.638483</td>\n      <td>0.000843</td>\n      <td>0.023596</td>\n    </tr>\n    <tr>\n      <th>...</th>\n      <th>...</th>\n      <td>...</td>\n      <td>...</td>\n      <td>...</td>\n      <td>...</td>\n      <td>...</td>\n      <td>...</td>\n      <td>...</td>\n      <td>...</td>\n      <td>...</td>\n    </tr>\n    <tr>\n      <th rowspan=\"5\" valign=\"top\">Seattle</th>\n      <th>08</th>\n      <td>288.256538</td>\n      <td>81.549462</td>\n      <td>1021.889247</td>\n      <td>1.472043</td>\n      <td>0.082796</td>\n      <td>0.000000</td>\n      <td>0.383602</td>\n      <td>0.089247</td>\n      <td>0.046505</td>\n    </tr>\n    <tr>\n      <th>09</th>\n      <td>285.754826</td>\n      <td>87.371111</td>\n      <td>1019.393333</td>\n      <td>1.695556</td>\n      <td>0.211448</td>\n      <td>0.000000</td>\n      <td>0.529869</td>\n      <td>0.103918</td>\n      <td>0.022228</td>\n    </tr>\n    <tr>\n      <th>10</th>\n      <td>282.342478</td>\n      <td>91.931655</td>\n      <td>1020.478417</td>\n      <td>2.010791</td>\n      <td>0.321855</td>\n      <td>0.000000</td>\n      <td>0.623002</td>\n      <td>0.132118</td>\n      <td>0.013504</td>\n    </tr>\n    <tr>\n      <th>11</th>\n      <td>279.136062</td>\n      <td>90.236620</td>\n      <td>1020.972770</td>\n      <td>2.179343</td>\n      <td>0.305517</td>\n      <td>0.003273</td>\n      <td>0.587424</td>\n      <td>0.153109</td>\n      <td>0.019635</td>\n    </tr>\n    <tr>\n      <th>12</th>\n      <td>276.501070</td>\n      <td>87.659760</td>\n      <td>1020.765540</td>\n      <td>2.310796</td>\n      <td>0.345034</td>\n      <td>0.004898</td>\n      <td>0.615238</td>\n      <td>0.201088</td>\n      <td>0.026939</td>\n    </tr>\n  </tbody>\n</table>\n<p>324 rows × 9 columns</p>\n</div>"
     },
     "execution_count": 2,
     "metadata": {},
     "output_type": "execute_result"
    }
   ],
   "source": [
    "df = aggregate.get_agg_data_frame()\n",
    "df"
   ],
   "metadata": {
    "collapsed": false,
    "pycharm": {
     "name": "#%%\n"
    }
   }
  },
  {
   "cell_type": "code",
   "execution_count": null,
   "outputs": [],
   "source": [],
   "metadata": {
    "collapsed": false,
    "pycharm": {
     "name": "#%%\n"
    }
   }
  }
 ],
 "metadata": {
  "kernelspec": {
   "display_name": "Python 3",
   "language": "python",
   "name": "python3"
  },
  "language_info": {
   "codemirror_mode": {
    "name": "ipython",
    "version": 2
   },
   "file_extension": ".py",
   "mimetype": "text/x-python",
   "name": "python",
   "nbconvert_exporter": "python",
   "pygments_lexer": "ipython2",
   "version": "2.7.6"
  }
 },
 "nbformat": 4,
 "nbformat_minor": 0
}