{
 "cells": [
  {
   "cell_type": "code",
   "execution_count": 9,
   "id": "38d16ee7",
   "metadata": {},
   "outputs": [],
   "source": [
    "#MultiClass classifier. Predicts one attribute as one of many labels rather than just 2 possible labels.\n",
    "#This assumes there is only one right answer. We could do multilabel classification and present multiple city solutions to the user?\n",
    "#https://scikit-learn.org/stable/modules/multiclass.html    a look at different kinds of models\n",
    "# Import necessary librarie s\n",
    "#     ut.run_script(re.DB_WEATHER_DESC_SCRIPT)     copy this kind of thing to add mountains/water data\n",
    "\n",
    "# method of going through multiple models\n",
    "# https://medium.com/analytics-vidhya/testing-multiple-machine-learning-models-at-once-without-getting-a-headache-5aefb0e7df03    simple good\n",
    "# https://github.com/j-planet/machine-learning-big-loop   more advanced, but better. (get parameters.py from this, and the cell for running multiple things\n",
    "\n",
    "\n",
    "# Import necessary modules from repository\n",
    "from model.data.pipeline import aggregate"
   ]
  },
  {
   "cell_type": "code",
   "execution_count": 10,
   "id": "c3031ba1",
   "metadata": {},
   "outputs": [
    {
     "data": {
      "text/plain": "             city  year month  temperature   humidity     pressure  \\\n0     Albuquerque  2012    10   282.594630  40.870130  1017.681818   \n1     Albuquerque  2012    11   276.787692  44.012821   994.980769   \n2     Albuquerque  2012    12   271.423110  55.940476  1010.517857   \n3     Albuquerque  2013    01   268.405723  57.488372   999.837209   \n4     Albuquerque  2013    02   271.623359  54.910256   953.775641   \n...           ...   ...   ...          ...        ...          ...   \n1666      Seattle  2017    07   286.727283  84.059140  1020.053763   \n1667      Seattle  2017    08   287.951183  84.413978  1017.043011   \n1668      Seattle  2017    09   285.830661  87.100000  1015.833333   \n1669      Seattle  2017    10   280.271667  92.629032  1019.784946   \n1670      Seattle  2017    11   279.698276  89.442529  1012.833333   \n\n      wind_speed      rain      snow     cloud       fog  extreme_weather  \n0       1.980519  0.006431  0.000000  0.456592  0.000000         0.000000  \n1       1.801282  0.019802  0.001650  0.526403  0.003300         0.003300  \n2       1.821429  0.010401  0.001486  0.754829  0.001486         0.004458  \n3       2.453488  0.036023  0.002882  0.576369  0.011527         0.001441  \n4       2.275641  0.011024  0.007874  0.587402  0.001575         0.009449  \n...          ...       ...       ...       ...       ...              ...  \n1666    1.607527  0.020161  0.000000  0.442204  0.081989         0.000000  \n1667    1.553763  0.025538  0.000000  0.302419  0.290323         0.106183  \n1668    1.738889  0.181944  0.000000  0.465278  0.226389         0.043056  \n1669    2.048387  0.231183  0.000000  0.475806  0.314516         0.002688  \n1670    3.011494  0.394548  0.010043  0.727403  0.255380         0.001435  \n\n[1671 rows x 12 columns]",
      "text/html": "<div>\n<style scoped>\n    .dataframe tbody tr th:only-of-type {\n        vertical-align: middle;\n    }\n\n    .dataframe tbody tr th {\n        vertical-align: top;\n    }\n\n    .dataframe thead th {\n        text-align: right;\n    }\n</style>\n<table border=\"1\" class=\"dataframe\">\n  <thead>\n    <tr style=\"text-align: right;\">\n      <th></th>\n      <th>city</th>\n      <th>year</th>\n      <th>month</th>\n      <th>temperature</th>\n      <th>humidity</th>\n      <th>pressure</th>\n      <th>wind_speed</th>\n      <th>rain</th>\n      <th>snow</th>\n      <th>cloud</th>\n      <th>fog</th>\n      <th>extreme_weather</th>\n    </tr>\n  </thead>\n  <tbody>\n    <tr>\n      <th>0</th>\n      <td>Albuquerque</td>\n      <td>2012</td>\n      <td>10</td>\n      <td>282.594630</td>\n      <td>40.870130</td>\n      <td>1017.681818</td>\n      <td>1.980519</td>\n      <td>0.006431</td>\n      <td>0.000000</td>\n      <td>0.456592</td>\n      <td>0.000000</td>\n      <td>0.000000</td>\n    </tr>\n    <tr>\n      <th>1</th>\n      <td>Albuquerque</td>\n      <td>2012</td>\n      <td>11</td>\n      <td>276.787692</td>\n      <td>44.012821</td>\n      <td>994.980769</td>\n      <td>1.801282</td>\n      <td>0.019802</td>\n      <td>0.001650</td>\n      <td>0.526403</td>\n      <td>0.003300</td>\n      <td>0.003300</td>\n    </tr>\n    <tr>\n      <th>2</th>\n      <td>Albuquerque</td>\n      <td>2012</td>\n      <td>12</td>\n      <td>271.423110</td>\n      <td>55.940476</td>\n      <td>1010.517857</td>\n      <td>1.821429</td>\n      <td>0.010401</td>\n      <td>0.001486</td>\n      <td>0.754829</td>\n      <td>0.001486</td>\n      <td>0.004458</td>\n    </tr>\n    <tr>\n      <th>3</th>\n      <td>Albuquerque</td>\n      <td>2013</td>\n      <td>01</td>\n      <td>268.405723</td>\n      <td>57.488372</td>\n      <td>999.837209</td>\n      <td>2.453488</td>\n      <td>0.036023</td>\n      <td>0.002882</td>\n      <td>0.576369</td>\n      <td>0.011527</td>\n      <td>0.001441</td>\n    </tr>\n    <tr>\n      <th>4</th>\n      <td>Albuquerque</td>\n      <td>2013</td>\n      <td>02</td>\n      <td>271.623359</td>\n      <td>54.910256</td>\n      <td>953.775641</td>\n      <td>2.275641</td>\n      <td>0.011024</td>\n      <td>0.007874</td>\n      <td>0.587402</td>\n      <td>0.001575</td>\n      <td>0.009449</td>\n    </tr>\n    <tr>\n      <th>...</th>\n      <td>...</td>\n      <td>...</td>\n      <td>...</td>\n      <td>...</td>\n      <td>...</td>\n      <td>...</td>\n      <td>...</td>\n      <td>...</td>\n      <td>...</td>\n      <td>...</td>\n      <td>...</td>\n      <td>...</td>\n    </tr>\n    <tr>\n      <th>1666</th>\n      <td>Seattle</td>\n      <td>2017</td>\n      <td>07</td>\n      <td>286.727283</td>\n      <td>84.059140</td>\n      <td>1020.053763</td>\n      <td>1.607527</td>\n      <td>0.020161</td>\n      <td>0.000000</td>\n      <td>0.442204</td>\n      <td>0.081989</td>\n      <td>0.000000</td>\n    </tr>\n    <tr>\n      <th>1667</th>\n      <td>Seattle</td>\n      <td>2017</td>\n      <td>08</td>\n      <td>287.951183</td>\n      <td>84.413978</td>\n      <td>1017.043011</td>\n      <td>1.553763</td>\n      <td>0.025538</td>\n      <td>0.000000</td>\n      <td>0.302419</td>\n      <td>0.290323</td>\n      <td>0.106183</td>\n    </tr>\n    <tr>\n      <th>1668</th>\n      <td>Seattle</td>\n      <td>2017</td>\n      <td>09</td>\n      <td>285.830661</td>\n      <td>87.100000</td>\n      <td>1015.833333</td>\n      <td>1.738889</td>\n      <td>0.181944</td>\n      <td>0.000000</td>\n      <td>0.465278</td>\n      <td>0.226389</td>\n      <td>0.043056</td>\n    </tr>\n    <tr>\n      <th>1669</th>\n      <td>Seattle</td>\n      <td>2017</td>\n      <td>10</td>\n      <td>280.271667</td>\n      <td>92.629032</td>\n      <td>1019.784946</td>\n      <td>2.048387</td>\n      <td>0.231183</td>\n      <td>0.000000</td>\n      <td>0.475806</td>\n      <td>0.314516</td>\n      <td>0.002688</td>\n    </tr>\n    <tr>\n      <th>1670</th>\n      <td>Seattle</td>\n      <td>2017</td>\n      <td>11</td>\n      <td>279.698276</td>\n      <td>89.442529</td>\n      <td>1012.833333</td>\n      <td>3.011494</td>\n      <td>0.394548</td>\n      <td>0.010043</td>\n      <td>0.727403</td>\n      <td>0.255380</td>\n      <td>0.001435</td>\n    </tr>\n  </tbody>\n</table>\n<p>1671 rows × 12 columns</p>\n</div>"
     },
     "execution_count": 10,
     "metadata": {},
     "output_type": "execute_result"
    }
   ],
   "source": [
    "df = aggregate.get_agg_data_frame()\n",
    "\n",
    "df"
   ]
  },
  {
   "cell_type": "code",
   "execution_count": 11,
   "outputs": [],
   "source": [
    "labels = df[\"city\"]\n",
    "features = df.drop(['city', 'year'], axis=1)"
   ],
   "metadata": {
    "collapsed": false,
    "pycharm": {
     "name": "#%%\n"
    }
   }
  },
  {
   "cell_type": "code",
   "execution_count": 12,
   "outputs": [],
   "source": [
    "from sklearn.preprocessing import StandardScaler\n",
    "\n",
    "scaler = StandardScaler()\n",
    "featPrepped = scaler.fit_transform(features)"
   ],
   "metadata": {
    "collapsed": false,
    "pycharm": {
     "name": "#%%\n"
    }
   }
  },
  {
   "cell_type": "code",
   "execution_count": 140,
   "outputs": [],
   "source": [
    "from sklearn.model_selection import train_test_split\n",
    "\n",
    "feat_train, feat_test, lab_train, lab_test = train_test_split(featPrepped, labels, random_state=42)\n",
    "# stratify by city for separating training and testing. stratified sampling"
   ],
   "metadata": {
    "collapsed": false,
    "pycharm": {
     "name": "#%%\n"
    }
   }
  },
  {
   "cell_type": "code",
   "execution_count": 26,
   "outputs": [
    {
     "name": "stdout",
     "output_type": "stream",
     "text": [
      "0.3827751196172249\n"
     ]
    }
   ],
   "source": [
    "from sklearn.ensemble import RandomForestClassifier\n",
    "from sklearn.metrics import roc_auc_score\n",
    "\n",
    "clf = RandomForestClassifier()\n",
    "clfFit = clf.fit(feat_train, lab_train)\n",
    "\n",
    "print(clf.score(feat_test, lab_test))\n",
    "# low scare shows we do not have enough destinctions between cities.\n",
    "# Score got worse when we expanded the data by years. went from like 47 % to 35 %\n",
    "\n",
    "\n",
    "results = roc_auc_score(lab_train, clfFit.predict_proba(feat_train), multi_class='ovr')"
   ],
   "metadata": {
    "collapsed": false,
    "pycharm": {
     "name": "#%%\n"
    }
   }
  },
  {
   "cell_type": "code",
   "execution_count": 48,
   "outputs": [
    {
     "data": {
      "text/plain": "array([[-1.33251985, -1.92582103,  0.03944503, ...,  1.29910543,\n        -0.42374686,  3.36147883],\n       [ 0.97428219, -0.19624353,  0.40257645, ...,  0.12868071,\n        -0.61223384, -0.3110261 ],\n       [ 0.10923142,  1.08339226,  0.02555013, ..., -0.3265737 ,\n        -0.20574805, -0.3307394 ],\n       ...,\n       [-0.17911883,  0.94299197, -0.57337001, ...,  0.60201125,\n        -0.46504851, -0.27197296],\n       [-0.46746908,  0.31552777, -0.12088069, ...,  1.49761431,\n         0.17296927, -0.10675124],\n       [-1.33251985, -0.97478081,  1.21833442, ...,  0.98996644,\n         1.36742067, -0.52906509]])"
     },
     "execution_count": 48,
     "metadata": {},
     "output_type": "execute_result"
    }
   ],
   "source": [],
   "metadata": {
    "collapsed": false,
    "pycharm": {
     "name": "#%%\n"
    }
   }
  },
  {
   "cell_type": "code",
   "execution_count": 170,
   "id": "4355817b",
   "metadata": {},
   "outputs": [
    {
     "name": "stdout",
     "output_type": "stream",
     "text": [
      "Accuracy: 0.3708133971291866\n"
     ]
    },
    {
     "data": {
      "text/plain": "       0     1     2     3     4     5     6     7     8     9   ...    17  \\\n0    0.01  0.00  0.00  0.02  0.18  0.03  0.02  0.06  0.00  0.13  ...  0.01   \n1    0.01  0.02  0.07  0.02  0.05  0.01  0.06  0.08  0.04  0.08  ...  0.06   \n2    0.00  0.08  0.06  0.04  0.01  0.08  0.01  0.11  0.00  0.09  ...  0.01   \n3    0.00  0.03  0.08  0.03  0.03  0.07  0.00  0.10  0.17  0.06  ...  0.00   \n4    0.00  0.03  0.00  0.04  0.01  0.00  0.00  0.00  0.03  0.01  ...  0.01   \n..    ...   ...   ...   ...   ...   ...   ...   ...   ...   ...  ...   ...   \n413  0.04  0.05  0.00  0.01  0.01  0.00  0.01  0.00  0.00  0.04  ...  0.00   \n414  0.01  0.05  0.04  0.08  0.01  0.02  0.15  0.16  0.00  0.01  ...  0.11   \n415  0.01  0.01  0.03  0.03  0.13  0.12  0.02  0.13  0.00  0.05  ...  0.08   \n416  0.00  0.00  0.01  0.00  0.21  0.05  0.00  0.15  0.00  0.09  ...  0.11   \n417  0.00  0.03  0.01  0.06  0.00  0.00  0.00  0.01  0.03  0.01  ...  0.00   \n\n       18    19    20    21    22    23    24    25    26  \n0    0.01  0.00  0.16  0.00  0.05  0.00  0.00  0.01  0.00  \n1    0.05  0.00  0.19  0.00  0.03  0.05  0.00  0.00  0.00  \n2    0.11  0.03  0.00  0.00  0.04  0.09  0.02  0.00  0.00  \n3    0.01  0.00  0.01  0.04  0.08  0.05  0.00  0.04  0.13  \n4    0.01  0.02  0.02  0.09  0.00  0.01  0.22  0.03  0.27  \n..    ...   ...   ...   ...   ...   ...   ...   ...   ...  \n413  0.02  0.02  0.03  0.14  0.03  0.03  0.14  0.12  0.22  \n414  0.08  0.00  0.08  0.00  0.05  0.00  0.01  0.01  0.00  \n415  0.09  0.00  0.01  0.00  0.00  0.01  0.00  0.00  0.00  \n416  0.00  0.00  0.06  0.04  0.01  0.01  0.00  0.00  0.01  \n417  0.00  0.01  0.00  0.34  0.01  0.04  0.02  0.06  0.33  \n\n[418 rows x 27 columns]",
      "text/html": "<div>\n<style scoped>\n    .dataframe tbody tr th:only-of-type {\n        vertical-align: middle;\n    }\n\n    .dataframe tbody tr th {\n        vertical-align: top;\n    }\n\n    .dataframe thead th {\n        text-align: right;\n    }\n</style>\n<table border=\"1\" class=\"dataframe\">\n  <thead>\n    <tr style=\"text-align: right;\">\n      <th></th>\n      <th>0</th>\n      <th>1</th>\n      <th>2</th>\n      <th>3</th>\n      <th>4</th>\n      <th>5</th>\n      <th>6</th>\n      <th>7</th>\n      <th>8</th>\n      <th>9</th>\n      <th>...</th>\n      <th>17</th>\n      <th>18</th>\n      <th>19</th>\n      <th>20</th>\n      <th>21</th>\n      <th>22</th>\n      <th>23</th>\n      <th>24</th>\n      <th>25</th>\n      <th>26</th>\n    </tr>\n  </thead>\n  <tbody>\n    <tr>\n      <th>0</th>\n      <td>0.01</td>\n      <td>0.00</td>\n      <td>0.00</td>\n      <td>0.02</td>\n      <td>0.18</td>\n      <td>0.03</td>\n      <td>0.02</td>\n      <td>0.06</td>\n      <td>0.00</td>\n      <td>0.13</td>\n      <td>...</td>\n      <td>0.01</td>\n      <td>0.01</td>\n      <td>0.00</td>\n      <td>0.16</td>\n      <td>0.00</td>\n      <td>0.05</td>\n      <td>0.00</td>\n      <td>0.00</td>\n      <td>0.01</td>\n      <td>0.00</td>\n    </tr>\n    <tr>\n      <th>1</th>\n      <td>0.01</td>\n      <td>0.02</td>\n      <td>0.07</td>\n      <td>0.02</td>\n      <td>0.05</td>\n      <td>0.01</td>\n      <td>0.06</td>\n      <td>0.08</td>\n      <td>0.04</td>\n      <td>0.08</td>\n      <td>...</td>\n      <td>0.06</td>\n      <td>0.05</td>\n      <td>0.00</td>\n      <td>0.19</td>\n      <td>0.00</td>\n      <td>0.03</td>\n      <td>0.05</td>\n      <td>0.00</td>\n      <td>0.00</td>\n      <td>0.00</td>\n    </tr>\n    <tr>\n      <th>2</th>\n      <td>0.00</td>\n      <td>0.08</td>\n      <td>0.06</td>\n      <td>0.04</td>\n      <td>0.01</td>\n      <td>0.08</td>\n      <td>0.01</td>\n      <td>0.11</td>\n      <td>0.00</td>\n      <td>0.09</td>\n      <td>...</td>\n      <td>0.01</td>\n      <td>0.11</td>\n      <td>0.03</td>\n      <td>0.00</td>\n      <td>0.00</td>\n      <td>0.04</td>\n      <td>0.09</td>\n      <td>0.02</td>\n      <td>0.00</td>\n      <td>0.00</td>\n    </tr>\n    <tr>\n      <th>3</th>\n      <td>0.00</td>\n      <td>0.03</td>\n      <td>0.08</td>\n      <td>0.03</td>\n      <td>0.03</td>\n      <td>0.07</td>\n      <td>0.00</td>\n      <td>0.10</td>\n      <td>0.17</td>\n      <td>0.06</td>\n      <td>...</td>\n      <td>0.00</td>\n      <td>0.01</td>\n      <td>0.00</td>\n      <td>0.01</td>\n      <td>0.04</td>\n      <td>0.08</td>\n      <td>0.05</td>\n      <td>0.00</td>\n      <td>0.04</td>\n      <td>0.13</td>\n    </tr>\n    <tr>\n      <th>4</th>\n      <td>0.00</td>\n      <td>0.03</td>\n      <td>0.00</td>\n      <td>0.04</td>\n      <td>0.01</td>\n      <td>0.00</td>\n      <td>0.00</td>\n      <td>0.00</td>\n      <td>0.03</td>\n      <td>0.01</td>\n      <td>...</td>\n      <td>0.01</td>\n      <td>0.01</td>\n      <td>0.02</td>\n      <td>0.02</td>\n      <td>0.09</td>\n      <td>0.00</td>\n      <td>0.01</td>\n      <td>0.22</td>\n      <td>0.03</td>\n      <td>0.27</td>\n    </tr>\n    <tr>\n      <th>...</th>\n      <td>...</td>\n      <td>...</td>\n      <td>...</td>\n      <td>...</td>\n      <td>...</td>\n      <td>...</td>\n      <td>...</td>\n      <td>...</td>\n      <td>...</td>\n      <td>...</td>\n      <td>...</td>\n      <td>...</td>\n      <td>...</td>\n      <td>...</td>\n      <td>...</td>\n      <td>...</td>\n      <td>...</td>\n      <td>...</td>\n      <td>...</td>\n      <td>...</td>\n      <td>...</td>\n    </tr>\n    <tr>\n      <th>413</th>\n      <td>0.04</td>\n      <td>0.05</td>\n      <td>0.00</td>\n      <td>0.01</td>\n      <td>0.01</td>\n      <td>0.00</td>\n      <td>0.01</td>\n      <td>0.00</td>\n      <td>0.00</td>\n      <td>0.04</td>\n      <td>...</td>\n      <td>0.00</td>\n      <td>0.02</td>\n      <td>0.02</td>\n      <td>0.03</td>\n      <td>0.14</td>\n      <td>0.03</td>\n      <td>0.03</td>\n      <td>0.14</td>\n      <td>0.12</td>\n      <td>0.22</td>\n    </tr>\n    <tr>\n      <th>414</th>\n      <td>0.01</td>\n      <td>0.05</td>\n      <td>0.04</td>\n      <td>0.08</td>\n      <td>0.01</td>\n      <td>0.02</td>\n      <td>0.15</td>\n      <td>0.16</td>\n      <td>0.00</td>\n      <td>0.01</td>\n      <td>...</td>\n      <td>0.11</td>\n      <td>0.08</td>\n      <td>0.00</td>\n      <td>0.08</td>\n      <td>0.00</td>\n      <td>0.05</td>\n      <td>0.00</td>\n      <td>0.01</td>\n      <td>0.01</td>\n      <td>0.00</td>\n    </tr>\n    <tr>\n      <th>415</th>\n      <td>0.01</td>\n      <td>0.01</td>\n      <td>0.03</td>\n      <td>0.03</td>\n      <td>0.13</td>\n      <td>0.12</td>\n      <td>0.02</td>\n      <td>0.13</td>\n      <td>0.00</td>\n      <td>0.05</td>\n      <td>...</td>\n      <td>0.08</td>\n      <td>0.09</td>\n      <td>0.00</td>\n      <td>0.01</td>\n      <td>0.00</td>\n      <td>0.00</td>\n      <td>0.01</td>\n      <td>0.00</td>\n      <td>0.00</td>\n      <td>0.00</td>\n    </tr>\n    <tr>\n      <th>416</th>\n      <td>0.00</td>\n      <td>0.00</td>\n      <td>0.01</td>\n      <td>0.00</td>\n      <td>0.21</td>\n      <td>0.05</td>\n      <td>0.00</td>\n      <td>0.15</td>\n      <td>0.00</td>\n      <td>0.09</td>\n      <td>...</td>\n      <td>0.11</td>\n      <td>0.00</td>\n      <td>0.00</td>\n      <td>0.06</td>\n      <td>0.04</td>\n      <td>0.01</td>\n      <td>0.01</td>\n      <td>0.00</td>\n      <td>0.00</td>\n      <td>0.01</td>\n    </tr>\n    <tr>\n      <th>417</th>\n      <td>0.00</td>\n      <td>0.03</td>\n      <td>0.01</td>\n      <td>0.06</td>\n      <td>0.00</td>\n      <td>0.00</td>\n      <td>0.00</td>\n      <td>0.01</td>\n      <td>0.03</td>\n      <td>0.01</td>\n      <td>...</td>\n      <td>0.00</td>\n      <td>0.00</td>\n      <td>0.01</td>\n      <td>0.00</td>\n      <td>0.34</td>\n      <td>0.01</td>\n      <td>0.04</td>\n      <td>0.02</td>\n      <td>0.06</td>\n      <td>0.33</td>\n    </tr>\n  </tbody>\n</table>\n<p>418 rows × 27 columns</p>\n</div>"
     },
     "execution_count": 170,
     "metadata": {},
     "output_type": "execute_result"
    }
   ],
   "source": [
    "import pandas as pd\n",
    "import numpy\n",
    "\n",
    "pred_proba = clfFit.predict_proba(feat_test)\n",
    "print(\"Accuracy:\", clfFit.score(feat_test, lab_test))\n",
    "\n",
    "df = pd.DataFrame(pred_proba)\n",
    "df\n"
   ]
  },
  {
   "cell_type": "code",
   "execution_count": 188,
   "outputs": [
    {
     "data": {
      "text/plain": "             true         city1 prob1        city2 prob2          city3 prob3  \\\n0         Detroit   Minneapolis  0.27      Chicago  0.18     Pittsburgh  0.16   \n1    Indianapolis    Pittsburgh  0.19  Minneapolis  0.14        Detroit  0.08   \n2    Indianapolis  Philadelphia  0.11      Detroit  0.11    San Antonio  0.09   \n3         Houston       Houston  0.17      Seattle  0.13        Detroit   0.1   \n4         Seattle       Seattle  0.27    San Diego  0.22      Nashville   0.1   \n..            ...           ...   ...          ...   ...            ...   ...   \n413     San Diego       Seattle  0.22    San Diego  0.14       Portland  0.14   \n414  Philadelphia       Detroit  0.16       Denver  0.15       New York  0.11   \n415       Chicago       Chicago  0.13      Detroit  0.13         Dallas  0.12   \n416  Indianapolis       Chicago  0.21      Detroit  0.15       New York  0.11   \n417      Portland      Portland  0.34      Seattle  0.33  San Francisco  0.06   \n\n             city4 prob4        city5 prob5  \n0     Indianapolis  0.13      Detroit  0.06  \n1     Indianapolis  0.08       Boston  0.07  \n2     Indianapolis  0.09       Dallas  0.08  \n3           Boston  0.08  Saint Louis  0.08  \n4         Portland  0.09    Charlotte  0.04  \n..             ...   ...          ...   ...  \n413  San Francisco  0.12      Atlanta  0.05  \n414      Charlotte  0.08   Pittsburgh  0.08  \n415   Philadelphia  0.09  Kansas City  0.08  \n416   Indianapolis  0.09        Miami  0.08  \n417      Charlotte  0.06  San Antonio  0.04  \n\n[418 rows x 11 columns]",
      "text/html": "<div>\n<style scoped>\n    .dataframe tbody tr th:only-of-type {\n        vertical-align: middle;\n    }\n\n    .dataframe tbody tr th {\n        vertical-align: top;\n    }\n\n    .dataframe thead th {\n        text-align: right;\n    }\n</style>\n<table border=\"1\" class=\"dataframe\">\n  <thead>\n    <tr style=\"text-align: right;\">\n      <th></th>\n      <th>true</th>\n      <th>city1</th>\n      <th>prob1</th>\n      <th>city2</th>\n      <th>prob2</th>\n      <th>city3</th>\n      <th>prob3</th>\n      <th>city4</th>\n      <th>prob4</th>\n      <th>city5</th>\n      <th>prob5</th>\n    </tr>\n  </thead>\n  <tbody>\n    <tr>\n      <th>0</th>\n      <td>Detroit</td>\n      <td>Minneapolis</td>\n      <td>0.27</td>\n      <td>Chicago</td>\n      <td>0.18</td>\n      <td>Pittsburgh</td>\n      <td>0.16</td>\n      <td>Indianapolis</td>\n      <td>0.13</td>\n      <td>Detroit</td>\n      <td>0.06</td>\n    </tr>\n    <tr>\n      <th>1</th>\n      <td>Indianapolis</td>\n      <td>Pittsburgh</td>\n      <td>0.19</td>\n      <td>Minneapolis</td>\n      <td>0.14</td>\n      <td>Detroit</td>\n      <td>0.08</td>\n      <td>Indianapolis</td>\n      <td>0.08</td>\n      <td>Boston</td>\n      <td>0.07</td>\n    </tr>\n    <tr>\n      <th>2</th>\n      <td>Indianapolis</td>\n      <td>Philadelphia</td>\n      <td>0.11</td>\n      <td>Detroit</td>\n      <td>0.11</td>\n      <td>San Antonio</td>\n      <td>0.09</td>\n      <td>Indianapolis</td>\n      <td>0.09</td>\n      <td>Dallas</td>\n      <td>0.08</td>\n    </tr>\n    <tr>\n      <th>3</th>\n      <td>Houston</td>\n      <td>Houston</td>\n      <td>0.17</td>\n      <td>Seattle</td>\n      <td>0.13</td>\n      <td>Detroit</td>\n      <td>0.1</td>\n      <td>Boston</td>\n      <td>0.08</td>\n      <td>Saint Louis</td>\n      <td>0.08</td>\n    </tr>\n    <tr>\n      <th>4</th>\n      <td>Seattle</td>\n      <td>Seattle</td>\n      <td>0.27</td>\n      <td>San Diego</td>\n      <td>0.22</td>\n      <td>Nashville</td>\n      <td>0.1</td>\n      <td>Portland</td>\n      <td>0.09</td>\n      <td>Charlotte</td>\n      <td>0.04</td>\n    </tr>\n    <tr>\n      <th>...</th>\n      <td>...</td>\n      <td>...</td>\n      <td>...</td>\n      <td>...</td>\n      <td>...</td>\n      <td>...</td>\n      <td>...</td>\n      <td>...</td>\n      <td>...</td>\n      <td>...</td>\n      <td>...</td>\n    </tr>\n    <tr>\n      <th>413</th>\n      <td>San Diego</td>\n      <td>Seattle</td>\n      <td>0.22</td>\n      <td>San Diego</td>\n      <td>0.14</td>\n      <td>Portland</td>\n      <td>0.14</td>\n      <td>San Francisco</td>\n      <td>0.12</td>\n      <td>Atlanta</td>\n      <td>0.05</td>\n    </tr>\n    <tr>\n      <th>414</th>\n      <td>Philadelphia</td>\n      <td>Detroit</td>\n      <td>0.16</td>\n      <td>Denver</td>\n      <td>0.15</td>\n      <td>New York</td>\n      <td>0.11</td>\n      <td>Charlotte</td>\n      <td>0.08</td>\n      <td>Pittsburgh</td>\n      <td>0.08</td>\n    </tr>\n    <tr>\n      <th>415</th>\n      <td>Chicago</td>\n      <td>Chicago</td>\n      <td>0.13</td>\n      <td>Detroit</td>\n      <td>0.13</td>\n      <td>Dallas</td>\n      <td>0.12</td>\n      <td>Philadelphia</td>\n      <td>0.09</td>\n      <td>Kansas City</td>\n      <td>0.08</td>\n    </tr>\n    <tr>\n      <th>416</th>\n      <td>Indianapolis</td>\n      <td>Chicago</td>\n      <td>0.21</td>\n      <td>Detroit</td>\n      <td>0.15</td>\n      <td>New York</td>\n      <td>0.11</td>\n      <td>Indianapolis</td>\n      <td>0.09</td>\n      <td>Miami</td>\n      <td>0.08</td>\n    </tr>\n    <tr>\n      <th>417</th>\n      <td>Portland</td>\n      <td>Portland</td>\n      <td>0.34</td>\n      <td>Seattle</td>\n      <td>0.33</td>\n      <td>San Francisco</td>\n      <td>0.06</td>\n      <td>Charlotte</td>\n      <td>0.06</td>\n      <td>San Antonio</td>\n      <td>0.04</td>\n    </tr>\n  </tbody>\n</table>\n<p>418 rows × 11 columns</p>\n</div>"
     },
     "execution_count": 188,
     "metadata": {},
     "output_type": "execute_result"
    }
   ],
   "source": [
    "import numpy as np\n",
    "TOP = 5\n",
    "TMP = 62\n",
    "CITIES = labels.unique()\n",
    "\n",
    "predictions_list = []\n",
    "for i in range(len(df)):\n",
    "    row = df.iloc[i].sort_values(ascending=False)[:TOP]\n",
    "    rowDf = row.to_frame().reset_index()\n",
    "    #print([[CITIES[int(x[0])], x[1]] for x in rowDf.to_numpy()])\n",
    "    vals = np.insert(np.array([[CITIES[int(x[0])], x[1]] for x in rowDf.to_numpy()]), 0, lab_test.iloc[i])\n",
    "    predictions_list.append(vals)\n",
    "\n",
    "cols = ['true']\n",
    "for i in range(TOP):\n",
    "    cols.append('city{x}'.format(x=i + 1))\n",
    "    cols.append('prob{x}'.format(x=i + 1))\n",
    "\n",
    "preds = pd.DataFrame(predictions_list,\n",
    "                     columns=cols)\n",
    "preds\n"
   ],
   "metadata": {
    "collapsed": false,
    "pycharm": {
     "name": "#%%\n"
    }
   }
  },
  {
   "cell_type": "code",
   "execution_count": 193,
   "outputs": [
    {
     "name": "stdout",
     "output_type": "stream",
     "text": [
      "Accuracy: 154/418, 37%\n"
     ]
    }
   ],
   "source": [
    "count = 0\n",
    "for i in range(len(preds)):\n",
    "    if preds.iloc[i]['true'] == preds.iloc[i]['city1']:\n",
    "        count += 1\n",
    "        #print('{i}: {t} and {p}'.format(i=i, t=preds['true'][i], p=preds['city1'][i]))\n",
    "\n",
    "print('Accuracy: {r}/{t}, {p}%'.format(r=count, t=len(preds), p=round(100*count/len(preds))))"
   ],
   "metadata": {
    "collapsed": false,
    "pycharm": {
     "name": "#%%\n"
    }
   }
  },
  {
   "cell_type": "code",
   "execution_count": 205,
   "outputs": [
    {
     "name": "stdout",
     "output_type": "stream",
     "text": [
      "Pittsburgh\n",
      "Philadelphia\n",
      "Albuquerque\n",
      "Albuquerque\n",
      "Boston\n",
      "Saint Louis\n",
      "Saint Louis\n",
      "Albuquerque\n",
      "Boston\n",
      "Albuquerque\n",
      "Philadelphia\n",
      "New York\n"
     ]
    }
   ],
   "source": [
    "CITY = 'Denver'\n",
    "\n",
    "for i in range(len(preds)):\n",
    "    row = preds.iloc[i]\n",
    "    if row['true'] == CITY and row['city1'] != CITY:\n",
    "        print(row['city1'])"
   ],
   "metadata": {
    "collapsed": false,
    "pycharm": {
     "name": "#%%\n"
    }
   }
  },
  {
   "cell_type": "code",
   "execution_count": 200,
   "outputs": [
    {
     "data": {
      "text/plain": "array(['Albuquerque', 'Atlanta', 'Boston', 'Charlotte', 'Chicago',\n       'Dallas', 'Denver', 'Detroit', 'Houston', 'Indianapolis',\n       'Jacksonville', 'Kansas City', 'Las Vegas', 'Los Angeles', 'Miami',\n       'Minneapolis', 'Nashville', 'New York', 'Philadelphia', 'Phoenix',\n       'Pittsburgh', 'Portland', 'Saint Louis', 'San Antonio',\n       'San Diego', 'San Francisco', 'Seattle'], dtype=object)"
     },
     "execution_count": 200,
     "metadata": {},
     "output_type": "execute_result"
    }
   ],
   "source": [
    "CITIES"
   ],
   "metadata": {
    "collapsed": false,
    "pycharm": {
     "name": "#%%\n"
    }
   }
  },
  {
   "cell_type": "code",
   "execution_count": 15,
   "id": "2a15a761",
   "metadata": {},
   "outputs": [
    {
     "data": {
      "text/plain": "0.2822966507177033"
     },
     "execution_count": 15,
     "metadata": {},
     "output_type": "execute_result"
    }
   ],
   "source": [
    "\n",
    "\n",
    "\n",
    "\n",
    "\n",
    "\n",
    "\n",
    "\n",
    "from sklearn.neighbors import KNeighborsClassifier\n",
    "\n",
    "clf = KNeighborsClassifier(n_neighbors=3)\n",
    "clf.fit(feat_train, lab_train)\n",
    "\n",
    "clf.score(feat_test, lab_test)"
   ]
  },
  {
   "cell_type": "code",
   "execution_count": 16,
   "id": "656fd4f9",
   "metadata": {},
   "outputs": [],
   "source": []
  },
  {
   "cell_type": "code",
   "execution_count": 16,
   "id": "6bf397da",
   "metadata": {},
   "outputs": [],
   "source": []
  },
  {
   "cell_type": "markdown",
   "source": [
    "```\n",
    "SELECT DISTINCT weather_description\n",
    "FROM USWeather;\n",
    "\n",
    "SELECT <columns>\n",
    "FROM <table>\n",
    "#WHERE <condition>\n",
    "#ORDER BY <column> <asc/desc>;\n",
    "```"
   ],
   "metadata": {
    "collapsed": false
   }
  },
  {
   "cell_type": "code",
   "execution_count": 17,
   "outputs": [
    {
     "name": "stdout",
     "output_type": "stream",
     "text": [
      "NN MPL 0.39952153110047844\n",
      "Nu support vector machines 0.38516746411483255\n",
      "random forest 0.361244019138756\n",
      "ExtraTreeClf 0.3588516746411483\n",
      "GradientBoostingClf 0.3492822966507177\n",
      "support vector machines 0.3492822966507177\n",
      "GaussianProcess 0.3397129186602871\n",
      "k neighbors 0.29904306220095694\n",
      "NearestCentroid 0.2727272727272727\n",
      "decision tree 0.22248803827751196\n",
      "naive bayes Bernoulli NB 0.21770334928229665\n",
      "naive bayes Gaussian NB 0.19138755980861244\n"
     ]
    },
    {
     "name": "stderr",
     "output_type": "stream",
     "text": [
      "c:\\users\\trenton\\documents\\programming\\ml-team3\\venv\\lib\\site-packages\\sklearn\\neural_network\\_multilayer_perceptron.py:696: ConvergenceWarning: Stochastic Optimizer: Maximum iterations (200) reached and the optimization hasn't converged yet.\n",
      "  ConvergenceWarning,\n"
     ]
    }
   ],
   "source": [
    "from sklearn.svm import SVC, NuSVC\n",
    "from sklearn.neighbors import KNeighborsClassifier, NearestCentroid, RadiusNeighborsClassifier\n",
    "from sklearn.gaussian_process import GaussianProcessClassifier\n",
    "from sklearn.naive_bayes import GaussianNB, BernoulliNB\n",
    "from sklearn.neural_network import MLPClassifier\n",
    "from sklearn.tree import DecisionTreeClassifier\n",
    "from sklearn.ensemble import RandomForestClassifier, ExtraTreesClassifier, GradientBoostingClassifier\n",
    "\n",
    "log_reg_params = [{\"C\": 0.01}, {\"C\": 0.1}, {\"C\": 1}, {\"C\": 10}]\n",
    "dec_tree_params = [{\"criterion\": \"gini\"}, {\"criterion\": \"entropy\"}]\n",
    "rand_for_params = [{\"criterion\": \"gini\"}, {\"criterion\": \"entropy\"}]\n",
    "kneighbors_params = [{\"n_neighbors\": 3}, {\"n_neighbors\": 5}]\n",
    "naive_bayes_params = [{}]\n",
    "svc_params = [{\"C\": 0.01}, {\"C\": 0.1}, {\"C\": 1}, {\"C\": 10}]\n",
    "\n",
    "modelclasses = [\n",
    "    [\"GradientBoostingClf\", GradientBoostingClassifier()],\n",
    "    [\"ExtraTreeClf\", ExtraTreesClassifier()],\n",
    "    [\"decision tree\", DecisionTreeClassifier()],\n",
    "    [\"random forest\", RandomForestClassifier()],\n",
    "    [\"k neighbors\", KNeighborsClassifier()],\n",
    "    [\"NearestCentroid\", NearestCentroid()],\n",
    "    #[\"RadiusNeighbor\", RadiusNeighborsClassifier()],\n",
    "    [\"GaussianProcess\", GaussianProcessClassifier()],\n",
    "    [\"naive bayes Gaussian NB\", GaussianNB()],\n",
    "    [\"naive bayes Bernoulli NB\", BernoulliNB()],\n",
    "    [\"support vector machines\", SVC()],\n",
    "    [\"Nu support vector machines\", NuSVC()],\n",
    "    [\"NN MPL\", MLPClassifier()]\n",
    "]\n",
    "\n",
    "insights = []\n",
    "for modelname, model in modelclasses:\n",
    "    model.fit(feat_train, lab_train)\n",
    "    score = model.score(feat_test, lab_test)\n",
    "    insights.append((modelname, model, score))\n",
    "\n",
    "insights.sort(key=lambda x: x[-1], reverse=True)\n",
    "for modelname, model, score in insights:\n",
    "    print(modelname, score)\n",
    "\n",
    "\n",
    "\n"
   ],
   "metadata": {
    "collapsed": false,
    "pycharm": {
     "name": "#%%\n"
    }
   }
  },
  {
   "cell_type": "code",
   "execution_count": 17,
   "id": "4423fd9a",
   "metadata": {},
   "outputs": [],
   "source": []
  },
  {
   "cell_type": "code",
   "execution_count": null,
   "outputs": [],
   "source": [],
   "metadata": {
    "collapsed": false,
    "pycharm": {
     "name": "#%%\n"
    }
   }
  },
  {
   "cell_type": "code",
   "execution_count": 17,
   "id": "ef48f30a",
   "metadata": {},
   "outputs": [],
   "source": []
  },
  {
   "cell_type": "code",
   "execution_count": 17,
   "id": "afaa8d6e",
   "metadata": {},
   "outputs": [],
   "source": []
  }
 ],
 "metadata": {
  "kernelspec": {
   "display_name": "Python 3 (ipykernel)",
   "language": "python",
   "name": "python3"
  },
  "language_info": {
   "codemirror_mode": {
    "name": "ipython",
    "version": 3
   },
   "file_extension": ".py",
   "mimetype": "text/x-python",
   "name": "python",
   "nbconvert_exporter": "python",
   "pygments_lexer": "ipython3",
   "version": "3.9.7"
  }
 },
 "nbformat": 4,
 "nbformat_minor": 5
}