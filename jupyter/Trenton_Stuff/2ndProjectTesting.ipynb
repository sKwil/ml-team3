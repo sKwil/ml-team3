{
 "cells": [
  {
   "cell_type": "code",
   "execution_count": 58,
   "id": "38d16ee7",
   "metadata": {},
   "outputs": [],
   "source": [
    "#MultiClass classifier. Predicts one attribute as one of many labels rather than just 2 possible labels.\n",
    "#This assumes there is only one right answer. We could do multilabel classification and present multiple city solutions to the user?\n",
    "#https://scikit-learn.org/stable/modules/multiclass.html    a look at different kinds of models\n",
    "# Import necessary librarie s\n",
    "#     ut.run_script(re.DB_WEATHER_DESC_SCRIPT)     copy this kind of thing to add mountains/water data\n",
    "\n",
    "# method of going through multiple models\n",
    "# https://medium.com/analytics-vidhya/testing-multiple-machine-learning-models-at-once-without-getting-a-headache-5aefb0e7df03    simple good\n",
    "# https://github.com/j-planet/machine-learning-big-loop   more advanced, but better. (get parameters.py from this, and the cell for running multiple things\n",
    "\n",
    "\n",
    "# Import necessary modules from repository\n",
    "from model.data.pipeline import sql_strings as sql, utils as ut\n",
    "import numpy as np"
   ]
  },
  {
   "cell_type": "code",
   "execution_count": 125,
   "id": "c3031ba1",
   "metadata": {},
   "outputs": [],
   "source": [
    "df = ut.load_sql_as_df('SELECT * From MonthlyDataModel;')\n",
    "monthAvg = ut.load_sql_as_df('SELECT * From MonthlyAverages;')\n"
   ]
  },
  {
   "cell_type": "code",
   "execution_count": 127,
   "outputs": [],
   "source": [
    "labels = df[\"region\"]\n",
    "features = df.drop(['state', 'latitude', 'longitude', 'elevation', 'region'], axis=1)\n",
    "features = features.fillna('NaN')\n",
    "\n",
    "feat = features.to_numpy()\n",
    "featSer = features[\"month\"].to_numpy()\n",
    "\n",
    "prcpIntM = monthAvg[\"prcpInt\"].to_numpy()\n",
    "prcpFreqM = monthAvg[\"prcpFreq\"].to_numpy()\n",
    "temp_max_normalM = monthAvg[\"temp_max_normal\"].to_numpy()\n",
    "temp_min_normalM = monthAvg[\"temp_min_normal\"].to_numpy()\n",
    "snow_depthM = monthAvg[\"snowInt\"].to_numpy()\n",
    "snow_daysM = monthAvg[\"snowFreq\"].to_numpy()\n",
    "cloudsM = monthAvg[\"clouds\"].to_numpy()\n",
    "\n",
    "prcp_normRay = features[\"prcp_normal\"].to_numpy()\n",
    "prcp_days_tRay = features[\"prcp_days_t\"].to_numpy()\n",
    "temp_max_normalRay = features[\"temp_max_normal\"].to_numpy()\n",
    "temp_min_normalRay = features[\"temp_min_normal\"].to_numpy()\n",
    "snow_depthRay = features[\"snow_depth_days\"].to_numpy()\n",
    "snow_daysRay = features[\"snow_days_t\"].to_numpy()\n",
    "cloudsRay = features[\"clouds\"].to_numpy()\n",
    "\n",
    "for i in range(len(featSer)):\n",
    "    if prcp_normRay[i] == 'NaN' or prcp_normRay[i] == -9999 or prcp_normRay[i] == -8888 or prcp_normRay[i] == -7777 or prcp_normRay[i] == -6666 or prcp_normRay[i] == -5555:\n",
    "        prcp_normRay[i] = prcpIntM[featSer[i]-1]\n",
    "    if prcp_days_tRay[i] == 'NaN' or prcp_days_tRay[i] == -9999 or prcp_days_tRay[i] == -8888 or prcp_days_tRay[i] == -7777 or prcp_days_tRay[i] == -6666 or prcp_days_tRay[i] == -5555:\n",
    "        prcp_days_tRay[i] = prcpFreqM[featSer[i]-1]\n",
    "    if temp_max_normalRay[i] == 'NaN' or temp_max_normalRay[i] == -9999 or temp_max_normalRay[i] == -8888 or temp_max_normalRay[i] == -7777 or temp_max_normalRay[i] == -6666 or temp_max_normalRay[i] == -5555:\n",
    "        temp_max_normalRay[i] = temp_max_normalM[featSer[i]-1]\n",
    "    if temp_min_normalRay[i] == 'NaN' or temp_min_normalRay[i] == -9999 or temp_min_normalRay[i] == -8888 or temp_min_normalRay[i] == -7777 or temp_min_normalRay[i] == -6666 or temp_min_normalRay[i] == -5555:\n",
    "        temp_min_normalRay[i] = temp_min_normalM[featSer[i]-1]\n",
    "    if snow_depthRay[i] == 'NaN' or snow_depthRay[i] == -9999 or snow_depthRay[i] == -8888 or snow_depthRay[i] == -7777 or snow_depthRay[i] == -6666 or snow_depthRay[i] == -5555:\n",
    "        snow_depthRay[i] = snow_depthM[featSer[i]-1]\n",
    "    if snow_daysRay[i] == 'NaN' or snow_daysRay[i] == -9999 or snow_daysRay[i] == -8888 or snow_daysRay[i] == -7777 or snow_daysRay[i] == -6666 or snow_daysRay[i] == -5555:\n",
    "        snow_daysRay[i] = snow_daysM[featSer[i]-1]\n",
    "    if cloudsRay[i] == 'NaN' or cloudsRay[i] == -9999 or cloudsRay[i] == -8888 or cloudsRay[i] == -7777 or cloudsRay[i] == -6666 or cloudsRay[i] == -5555:\n",
    "        cloudsRay[i] = cloudsM[featSer[i]-1]\n",
    "\n",
    "\n",
    "dataset = pd.DataFrame({'prcp_normRay' : prcp_normRay, 'prcp_days_tRay' : prcp_days_tRay, \"temp_max_normalRay\" : temp_max_normalRay, \"temp_min_normalRay\" : temp_min_normalRay, \"snow_depthRay\" : snow_depthRay, \"snow_daysRay\" : snow_daysRay, \"cloudsRay\" : cloudsRay})\n",
    "\n",
    "features = dataset"
   ],
   "metadata": {
    "collapsed": false,
    "pycharm": {
     "name": "#%%\n"
    }
   }
  },
  {
   "cell_type": "code",
   "execution_count": 128,
   "outputs": [
    {
     "data": {
      "text/plain": "       prcp_normRay prcp_days_tRay temp_max_normalRay temp_min_normalRay  \\\n0               5.3           69.0          41.924644          21.303576   \n1              5.07           65.0          45.985372          24.106816   \n2               5.8           62.0          54.495133          31.252366   \n3              3.77           48.0          64.407005          39.586609   \n4              3.82           48.0          73.406937           48.77541   \n...             ...            ...                ...                ...   \n117022         3.22      25.909684               85.4               62.7   \n117023         3.04      46.810539               77.8               53.6   \n117024         2.04      47.409751               65.2               40.6   \n117025         1.41      49.541899               49.7               28.0   \n117026         0.93      50.036534               36.9               17.1   \n\n       snow_depthRay snow_daysRay  cloudsRay  \n0                0.0          0.0  55.667977  \n1                0.0          0.0  55.013862  \n2         -309.95931  -297.336583  52.051446  \n3                0.0          0.0  49.932187  \n4                0.0          0.0  48.941521  \n...              ...          ...        ...  \n117022     -6.026158   -32.307496  40.020323  \n117023   -156.429374  -337.711363  41.015647  \n117024   -553.695795  -656.829311  45.018233  \n117025   -244.419299  -363.569282   51.45818  \n117026   -238.601821  -291.094614  55.725457  \n\n[117027 rows x 7 columns]",
      "text/html": "<div>\n<style scoped>\n    .dataframe tbody tr th:only-of-type {\n        vertical-align: middle;\n    }\n\n    .dataframe tbody tr th {\n        vertical-align: top;\n    }\n\n    .dataframe thead th {\n        text-align: right;\n    }\n</style>\n<table border=\"1\" class=\"dataframe\">\n  <thead>\n    <tr style=\"text-align: right;\">\n      <th></th>\n      <th>prcp_normRay</th>\n      <th>prcp_days_tRay</th>\n      <th>temp_max_normalRay</th>\n      <th>temp_min_normalRay</th>\n      <th>snow_depthRay</th>\n      <th>snow_daysRay</th>\n      <th>cloudsRay</th>\n    </tr>\n  </thead>\n  <tbody>\n    <tr>\n      <th>0</th>\n      <td>5.3</td>\n      <td>69.0</td>\n      <td>41.924644</td>\n      <td>21.303576</td>\n      <td>0.0</td>\n      <td>0.0</td>\n      <td>55.667977</td>\n    </tr>\n    <tr>\n      <th>1</th>\n      <td>5.07</td>\n      <td>65.0</td>\n      <td>45.985372</td>\n      <td>24.106816</td>\n      <td>0.0</td>\n      <td>0.0</td>\n      <td>55.013862</td>\n    </tr>\n    <tr>\n      <th>2</th>\n      <td>5.8</td>\n      <td>62.0</td>\n      <td>54.495133</td>\n      <td>31.252366</td>\n      <td>-309.95931</td>\n      <td>-297.336583</td>\n      <td>52.051446</td>\n    </tr>\n    <tr>\n      <th>3</th>\n      <td>3.77</td>\n      <td>48.0</td>\n      <td>64.407005</td>\n      <td>39.586609</td>\n      <td>0.0</td>\n      <td>0.0</td>\n      <td>49.932187</td>\n    </tr>\n    <tr>\n      <th>4</th>\n      <td>3.82</td>\n      <td>48.0</td>\n      <td>73.406937</td>\n      <td>48.77541</td>\n      <td>0.0</td>\n      <td>0.0</td>\n      <td>48.941521</td>\n    </tr>\n    <tr>\n      <th>...</th>\n      <td>...</td>\n      <td>...</td>\n      <td>...</td>\n      <td>...</td>\n      <td>...</td>\n      <td>...</td>\n      <td>...</td>\n    </tr>\n    <tr>\n      <th>117022</th>\n      <td>3.22</td>\n      <td>25.909684</td>\n      <td>85.4</td>\n      <td>62.7</td>\n      <td>-6.026158</td>\n      <td>-32.307496</td>\n      <td>40.020323</td>\n    </tr>\n    <tr>\n      <th>117023</th>\n      <td>3.04</td>\n      <td>46.810539</td>\n      <td>77.8</td>\n      <td>53.6</td>\n      <td>-156.429374</td>\n      <td>-337.711363</td>\n      <td>41.015647</td>\n    </tr>\n    <tr>\n      <th>117024</th>\n      <td>2.04</td>\n      <td>47.409751</td>\n      <td>65.2</td>\n      <td>40.6</td>\n      <td>-553.695795</td>\n      <td>-656.829311</td>\n      <td>45.018233</td>\n    </tr>\n    <tr>\n      <th>117025</th>\n      <td>1.41</td>\n      <td>49.541899</td>\n      <td>49.7</td>\n      <td>28.0</td>\n      <td>-244.419299</td>\n      <td>-363.569282</td>\n      <td>51.45818</td>\n    </tr>\n    <tr>\n      <th>117026</th>\n      <td>0.93</td>\n      <td>50.036534</td>\n      <td>36.9</td>\n      <td>17.1</td>\n      <td>-238.601821</td>\n      <td>-291.094614</td>\n      <td>55.725457</td>\n    </tr>\n  </tbody>\n</table>\n<p>117027 rows × 7 columns</p>\n</div>"
     },
     "execution_count": 128,
     "metadata": {},
     "output_type": "execute_result"
    }
   ],
   "source": [
    "features"
   ],
   "metadata": {
    "collapsed": false,
    "pycharm": {
     "name": "#%%\n"
    }
   }
  },
  {
   "cell_type": "code",
   "execution_count": 129,
   "outputs": [
    {
     "data": {
      "text/plain": "array([[ 0.91107733,  0.82026143, -1.25009436, ...,  0.54633954,\n         0.56557525,  1.15810527],\n       [ 0.82384972,  0.64959163, -1.02602689, ...,  0.54633954,\n         0.56557525,  1.0542527 ],\n       [ 1.10070256,  0.52158929, -0.55646573, ..., -1.26585409,\n        -1.02904868,  0.58391578],\n       ...,\n       [-0.3252792 , -0.1009394 ,  0.03421949, ..., -2.69087244,\n        -2.95701765, -0.53273362],\n       [-0.564207  , -0.00996612, -0.82105698, ..., -0.88267092,\n        -1.38425639,  0.48972407],\n       [-0.74624723,  0.01113871, -1.52734981, ..., -0.84865873,\n        -0.99557283,  1.16723128]])"
     },
     "execution_count": 129,
     "metadata": {},
     "output_type": "execute_result"
    }
   ],
   "source": [
    "from sklearn.preprocessing import StandardScaler\n",
    "\n",
    "scaler = StandardScaler()\n",
    "featPrepped = scaler.fit_transform(features)\n",
    "featPrepped"
   ],
   "metadata": {
    "collapsed": false,
    "pycharm": {
     "name": "#%%\n"
    }
   }
  },
  {
   "cell_type": "code",
   "execution_count": 130,
   "outputs": [],
   "source": [
    "from sklearn.model_selection import train_test_split\n",
    "\n",
    "feat_train, feat_test, lab_train, lab_test = train_test_split(featPrepped, labels, random_state=42)\n",
    "# stratify by city for separating training and testing. stratified sampling"
   ],
   "metadata": {
    "collapsed": false,
    "pycharm": {
     "name": "#%%\n"
    }
   }
  },
  {
   "cell_type": "code",
   "execution_count": 131,
   "outputs": [
    {
     "name": "stdout",
     "output_type": "stream",
     "text": [
      "0.7001743172574085\n"
     ]
    }
   ],
   "source": [
    "from sklearn.ensemble import RandomForestClassifier\n",
    "from sklearn.metrics import roc_auc_score\n",
    "\n",
    "clf = RandomForestClassifier()\n",
    "clfFit = clf.fit(feat_train, lab_train)\n",
    "\n",
    "print(clf.score(feat_test, lab_test))\n",
    "# low scare shows we do not have enough destinctions between cities.\n",
    "# Score got worse when we expanded the data by years. went from like 47 % to 35 %\n",
    "\n",
    "\n",
    "results = roc_auc_score(lab_train, clfFit.predict_proba(feat_train), multi_class='ovr')"
   ],
   "metadata": {
    "collapsed": false,
    "pycharm": {
     "name": "#%%\n"
    }
   }
  },
  {
   "cell_type": "code",
   "execution_count": 131,
   "outputs": [],
   "source": [],
   "metadata": {
    "collapsed": false,
    "pycharm": {
     "name": "#%%\n"
    }
   }
  },
  {
   "cell_type": "code",
   "execution_count": 132,
   "id": "4355817b",
   "metadata": {},
   "outputs": [
    {
     "name": "stdout",
     "output_type": "stream",
     "text": [
      "Accuracy: 0.7001743172574085\n"
     ]
    },
    {
     "data": {
      "text/plain": "          0    1     2     3     4     5     6     7\n0      0.00  0.0  0.03  0.00  0.03  0.00  0.67  0.27\n1      0.00  0.0  0.00  0.00  1.00  0.00  0.00  0.00\n2      0.00  0.0  0.01  0.01  0.00  0.00  0.97  0.01\n3      0.00  0.0  0.00  0.01  0.00  0.00  0.41  0.58\n4      0.00  0.0  0.54  0.05  0.01  0.00  0.40  0.00\n...     ...  ...   ...   ...   ...   ...   ...   ...\n29252  0.00  0.0  0.24  0.01  0.00  0.00  0.75  0.00\n29253  0.00  0.0  0.57  0.00  0.00  0.43  0.00  0.00\n29254  0.01  0.0  0.30  0.36  0.05  0.01  0.27  0.00\n29255  0.00  0.0  0.19  0.00  0.33  0.48  0.00  0.00\n29256  0.68  0.0  0.03  0.02  0.07  0.20  0.00  0.00\n\n[29257 rows x 8 columns]",
      "text/html": "<div>\n<style scoped>\n    .dataframe tbody tr th:only-of-type {\n        vertical-align: middle;\n    }\n\n    .dataframe tbody tr th {\n        vertical-align: top;\n    }\n\n    .dataframe thead th {\n        text-align: right;\n    }\n</style>\n<table border=\"1\" class=\"dataframe\">\n  <thead>\n    <tr style=\"text-align: right;\">\n      <th></th>\n      <th>0</th>\n      <th>1</th>\n      <th>2</th>\n      <th>3</th>\n      <th>4</th>\n      <th>5</th>\n      <th>6</th>\n      <th>7</th>\n    </tr>\n  </thead>\n  <tbody>\n    <tr>\n      <th>0</th>\n      <td>0.00</td>\n      <td>0.0</td>\n      <td>0.03</td>\n      <td>0.00</td>\n      <td>0.03</td>\n      <td>0.00</td>\n      <td>0.67</td>\n      <td>0.27</td>\n    </tr>\n    <tr>\n      <th>1</th>\n      <td>0.00</td>\n      <td>0.0</td>\n      <td>0.00</td>\n      <td>0.00</td>\n      <td>1.00</td>\n      <td>0.00</td>\n      <td>0.00</td>\n      <td>0.00</td>\n    </tr>\n    <tr>\n      <th>2</th>\n      <td>0.00</td>\n      <td>0.0</td>\n      <td>0.01</td>\n      <td>0.01</td>\n      <td>0.00</td>\n      <td>0.00</td>\n      <td>0.97</td>\n      <td>0.01</td>\n    </tr>\n    <tr>\n      <th>3</th>\n      <td>0.00</td>\n      <td>0.0</td>\n      <td>0.00</td>\n      <td>0.01</td>\n      <td>0.00</td>\n      <td>0.00</td>\n      <td>0.41</td>\n      <td>0.58</td>\n    </tr>\n    <tr>\n      <th>4</th>\n      <td>0.00</td>\n      <td>0.0</td>\n      <td>0.54</td>\n      <td>0.05</td>\n      <td>0.01</td>\n      <td>0.00</td>\n      <td>0.40</td>\n      <td>0.00</td>\n    </tr>\n    <tr>\n      <th>...</th>\n      <td>...</td>\n      <td>...</td>\n      <td>...</td>\n      <td>...</td>\n      <td>...</td>\n      <td>...</td>\n      <td>...</td>\n      <td>...</td>\n    </tr>\n    <tr>\n      <th>29252</th>\n      <td>0.00</td>\n      <td>0.0</td>\n      <td>0.24</td>\n      <td>0.01</td>\n      <td>0.00</td>\n      <td>0.00</td>\n      <td>0.75</td>\n      <td>0.00</td>\n    </tr>\n    <tr>\n      <th>29253</th>\n      <td>0.00</td>\n      <td>0.0</td>\n      <td>0.57</td>\n      <td>0.00</td>\n      <td>0.00</td>\n      <td>0.43</td>\n      <td>0.00</td>\n      <td>0.00</td>\n    </tr>\n    <tr>\n      <th>29254</th>\n      <td>0.01</td>\n      <td>0.0</td>\n      <td>0.30</td>\n      <td>0.36</td>\n      <td>0.05</td>\n      <td>0.01</td>\n      <td>0.27</td>\n      <td>0.00</td>\n    </tr>\n    <tr>\n      <th>29255</th>\n      <td>0.00</td>\n      <td>0.0</td>\n      <td>0.19</td>\n      <td>0.00</td>\n      <td>0.33</td>\n      <td>0.48</td>\n      <td>0.00</td>\n      <td>0.00</td>\n    </tr>\n    <tr>\n      <th>29256</th>\n      <td>0.68</td>\n      <td>0.0</td>\n      <td>0.03</td>\n      <td>0.02</td>\n      <td>0.07</td>\n      <td>0.20</td>\n      <td>0.00</td>\n      <td>0.00</td>\n    </tr>\n  </tbody>\n</table>\n<p>29257 rows × 8 columns</p>\n</div>"
     },
     "execution_count": 132,
     "metadata": {},
     "output_type": "execute_result"
    }
   ],
   "source": [
    "import pandas as pd\n",
    "import numpy\n",
    "\n",
    "pred_proba = clfFit.predict_proba(feat_test)\n",
    "print(\"Accuracy:\", clfFit.score(feat_test, lab_test))\n",
    "\n",
    "df = pd.DataFrame(pred_proba)\n",
    "df\n"
   ]
  },
  {
   "cell_type": "code",
   "execution_count": 133,
   "outputs": [
    {
     "data": {
      "text/plain": "             true       city1 prob1       city2 prob2       city3 prob3  \\\n0      south west      alaska  0.67      hawaii  0.27     pacific  0.03   \n1         pacific  north east   1.0  south east   0.0  south west   0.0   \n2      south east      alaska  0.97     pacific  0.01     rockies  0.01   \n3      south east      hawaii  0.58      alaska  0.41     rockies  0.01   \n4      south east     pacific  0.54      alaska   0.4     rockies  0.05   \n...           ...         ...   ...         ...   ...         ...   ...   \n29252  south east      alaska  0.75     pacific  0.24     rockies  0.01   \n29253     midwest     pacific  0.57     midwest  0.43  south east   0.0   \n29254  north east     rockies  0.36     pacific   0.3      alaska  0.27   \n29255     pacific     midwest  0.48  north east  0.33     pacific  0.19   \n29256      alaska  south east  0.68     midwest   0.2  north east  0.07   \n\n            city4 prob4       city5 prob5  \n0      north east  0.03  south east   0.0  \n1         pacific   0.0     rockies   0.0  \n2          hawaii  0.01  south east   0.0  \n3      south east   0.0  south west   0.0  \n4      north east  0.01  south east   0.0  \n...           ...   ...         ...   ...  \n29252  south east   0.0  south west   0.0  \n29253  south west   0.0     rockies   0.0  \n29254  north east  0.05  south east  0.01  \n29255  south east   0.0  south west   0.0  \n29256     pacific  0.03     rockies  0.02  \n\n[29257 rows x 11 columns]",
      "text/html": "<div>\n<style scoped>\n    .dataframe tbody tr th:only-of-type {\n        vertical-align: middle;\n    }\n\n    .dataframe tbody tr th {\n        vertical-align: top;\n    }\n\n    .dataframe thead th {\n        text-align: right;\n    }\n</style>\n<table border=\"1\" class=\"dataframe\">\n  <thead>\n    <tr style=\"text-align: right;\">\n      <th></th>\n      <th>true</th>\n      <th>city1</th>\n      <th>prob1</th>\n      <th>city2</th>\n      <th>prob2</th>\n      <th>city3</th>\n      <th>prob3</th>\n      <th>city4</th>\n      <th>prob4</th>\n      <th>city5</th>\n      <th>prob5</th>\n    </tr>\n  </thead>\n  <tbody>\n    <tr>\n      <th>0</th>\n      <td>south west</td>\n      <td>alaska</td>\n      <td>0.67</td>\n      <td>hawaii</td>\n      <td>0.27</td>\n      <td>pacific</td>\n      <td>0.03</td>\n      <td>north east</td>\n      <td>0.03</td>\n      <td>south east</td>\n      <td>0.0</td>\n    </tr>\n    <tr>\n      <th>1</th>\n      <td>pacific</td>\n      <td>north east</td>\n      <td>1.0</td>\n      <td>south east</td>\n      <td>0.0</td>\n      <td>south west</td>\n      <td>0.0</td>\n      <td>pacific</td>\n      <td>0.0</td>\n      <td>rockies</td>\n      <td>0.0</td>\n    </tr>\n    <tr>\n      <th>2</th>\n      <td>south east</td>\n      <td>alaska</td>\n      <td>0.97</td>\n      <td>pacific</td>\n      <td>0.01</td>\n      <td>rockies</td>\n      <td>0.01</td>\n      <td>hawaii</td>\n      <td>0.01</td>\n      <td>south east</td>\n      <td>0.0</td>\n    </tr>\n    <tr>\n      <th>3</th>\n      <td>south east</td>\n      <td>hawaii</td>\n      <td>0.58</td>\n      <td>alaska</td>\n      <td>0.41</td>\n      <td>rockies</td>\n      <td>0.01</td>\n      <td>south east</td>\n      <td>0.0</td>\n      <td>south west</td>\n      <td>0.0</td>\n    </tr>\n    <tr>\n      <th>4</th>\n      <td>south east</td>\n      <td>pacific</td>\n      <td>0.54</td>\n      <td>alaska</td>\n      <td>0.4</td>\n      <td>rockies</td>\n      <td>0.05</td>\n      <td>north east</td>\n      <td>0.01</td>\n      <td>south east</td>\n      <td>0.0</td>\n    </tr>\n    <tr>\n      <th>...</th>\n      <td>...</td>\n      <td>...</td>\n      <td>...</td>\n      <td>...</td>\n      <td>...</td>\n      <td>...</td>\n      <td>...</td>\n      <td>...</td>\n      <td>...</td>\n      <td>...</td>\n      <td>...</td>\n    </tr>\n    <tr>\n      <th>29252</th>\n      <td>south east</td>\n      <td>alaska</td>\n      <td>0.75</td>\n      <td>pacific</td>\n      <td>0.24</td>\n      <td>rockies</td>\n      <td>0.01</td>\n      <td>south east</td>\n      <td>0.0</td>\n      <td>south west</td>\n      <td>0.0</td>\n    </tr>\n    <tr>\n      <th>29253</th>\n      <td>midwest</td>\n      <td>pacific</td>\n      <td>0.57</td>\n      <td>midwest</td>\n      <td>0.43</td>\n      <td>south east</td>\n      <td>0.0</td>\n      <td>south west</td>\n      <td>0.0</td>\n      <td>rockies</td>\n      <td>0.0</td>\n    </tr>\n    <tr>\n      <th>29254</th>\n      <td>north east</td>\n      <td>rockies</td>\n      <td>0.36</td>\n      <td>pacific</td>\n      <td>0.3</td>\n      <td>alaska</td>\n      <td>0.27</td>\n      <td>north east</td>\n      <td>0.05</td>\n      <td>south east</td>\n      <td>0.01</td>\n    </tr>\n    <tr>\n      <th>29255</th>\n      <td>pacific</td>\n      <td>midwest</td>\n      <td>0.48</td>\n      <td>north east</td>\n      <td>0.33</td>\n      <td>pacific</td>\n      <td>0.19</td>\n      <td>south east</td>\n      <td>0.0</td>\n      <td>south west</td>\n      <td>0.0</td>\n    </tr>\n    <tr>\n      <th>29256</th>\n      <td>alaska</td>\n      <td>south east</td>\n      <td>0.68</td>\n      <td>midwest</td>\n      <td>0.2</td>\n      <td>north east</td>\n      <td>0.07</td>\n      <td>pacific</td>\n      <td>0.03</td>\n      <td>rockies</td>\n      <td>0.02</td>\n    </tr>\n  </tbody>\n</table>\n<p>29257 rows × 11 columns</p>\n</div>"
     },
     "execution_count": 133,
     "metadata": {},
     "output_type": "execute_result"
    }
   ],
   "source": [
    "import numpy as np\n",
    "TOP = 5\n",
    "TMP = 62\n",
    "CITIES = labels.unique()\n",
    "\n",
    "predictions_list = []\n",
    "for i in range(len(df)):\n",
    "    row = df.iloc[i].sort_values(ascending=False)[:TOP]\n",
    "    rowDf = row.to_frame().reset_index()\n",
    "    #print([[CITIES[int(x[0])], x[1]] for x in rowDf.to_numpy()])\n",
    "    vals = np.insert(np.array([[CITIES[int(x[0])], x[1]] for x in rowDf.to_numpy()]), 0, lab_test.iloc[i])\n",
    "    predictions_list.append(vals)\n",
    "\n",
    "cols = ['true']\n",
    "for i in range(TOP):\n",
    "    cols.append('city{x}'.format(x=i + 1))\n",
    "    cols.append('prob{x}'.format(x=i + 1))\n",
    "\n",
    "preds = pd.DataFrame(predictions_list,\n",
    "                     columns=cols)\n",
    "preds\n"
   ],
   "metadata": {
    "collapsed": false,
    "pycharm": {
     "name": "#%%\n"
    }
   }
  },
  {
   "cell_type": "code",
   "execution_count": 134,
   "outputs": [
    {
     "name": "stdout",
     "output_type": "stream",
     "text": [
      "Accuracy: 848/29257, 3%\n"
     ]
    }
   ],
   "source": [
    "count = 0\n",
    "for i in range(len(preds)):\n",
    "    if preds.iloc[i]['true'] == preds.iloc[i]['city1']:\n",
    "        count += 1\n",
    "        #print('{i}: {t} and {p}'.format(i=i, t=preds['true'][i], p=preds['city1'][i]))\n",
    "\n",
    "print('Accuracy: {r}/{t}, {p}%'.format(r=count, t=len(preds), p=round(100*count/len(preds))))"
   ],
   "metadata": {
    "collapsed": false,
    "pycharm": {
     "name": "#%%\n"
    }
   }
  },
  {
   "cell_type": "code",
   "execution_count": 135,
   "outputs": [],
   "source": [
    "CITY = 'Denver'\n",
    "\n",
    "for i in range(len(preds)):\n",
    "    row = preds.iloc[i]\n",
    "    if row['true'] == CITY and row['city1'] != CITY:\n",
    "        print(row['city1'])"
   ],
   "metadata": {
    "collapsed": false,
    "pycharm": {
     "name": "#%%\n"
    }
   }
  },
  {
   "cell_type": "code",
   "execution_count": 136,
   "outputs": [
    {
     "data": {
      "text/plain": "array(['south east', 'south west', 'pacific', 'rockies', 'north east',\n       'midwest', 'alaska', 'hawaii'], dtype=object)"
     },
     "execution_count": 136,
     "metadata": {},
     "output_type": "execute_result"
    }
   ],
   "source": [
    "CITIES"
   ],
   "metadata": {
    "collapsed": false,
    "pycharm": {
     "name": "#%%\n"
    }
   }
  },
  {
   "cell_type": "code",
   "execution_count": 137,
   "id": "2a15a761",
   "metadata": {},
   "outputs": [
    {
     "data": {
      "text/plain": "0.6547151109136276"
     },
     "execution_count": 137,
     "metadata": {},
     "output_type": "execute_result"
    }
   ],
   "source": [
    "\n",
    "\n",
    "\n",
    "\n",
    "\n",
    "\n",
    "\n",
    "\n",
    "from sklearn.neighbors import KNeighborsClassifier\n",
    "\n",
    "clf = KNeighborsClassifier(n_neighbors=3)\n",
    "clf.fit(feat_train, lab_train)\n",
    "\n",
    "clf.score(feat_test, lab_test)"
   ]
  },
  {
   "cell_type": "code",
   "execution_count": 139,
   "id": "656fd4f9",
   "metadata": {},
   "outputs": [
    {
     "name": "stderr",
     "output_type": "stream",
     "text": [
      "c:\\users\\trenton\\documents\\programming\\ml-team3\\venv\\lib\\site-packages\\sklearn\\neural_network\\_multilayer_perceptron.py:696: ConvergenceWarning: Stochastic Optimizer: Maximum iterations (200) reached and the optimization hasn't converged yet.\n",
      "  ConvergenceWarning,\n"
     ]
    },
    {
     "data": {
      "text/plain": "0.6638069521823837"
     },
     "execution_count": 139,
     "metadata": {},
     "output_type": "execute_result"
    }
   ],
   "source": [
    "from sklearn.neural_network import MLPClassifier\n",
    "\n",
    "clf = MLPClassifier()\n",
    "clf.fit(feat_train, lab_train)\n",
    "\n",
    "clf.score(feat_test, lab_test)"
   ]
  },
  {
   "cell_type": "code",
   "execution_count": 137,
   "id": "6bf397da",
   "metadata": {},
   "outputs": [],
   "source": []
  },
  {
   "cell_type": "markdown",
   "source": [
    "```\n",
    "SELECT DISTINCT weather_description\n",
    "FROM USWeather;\n",
    "\n",
    "SELECT <columns>\n",
    "FROM <table>\n",
    "#WHERE <condition>\n",
    "#ORDER BY <column> <asc/desc>;\n",
    "```"
   ],
   "metadata": {
    "collapsed": false
   }
  },
  {
   "cell_type": "code",
   "execution_count": 138,
   "outputs": [
    {
     "ename": "MemoryError",
     "evalue": "Unable to allocate 57.4 GiB for an array with shape (87770, 87770) and data type float64",
     "output_type": "error",
     "traceback": [
      "\u001B[1;31m---------------------------------------------------------------------------\u001B[0m",
      "\u001B[1;31mMemoryError\u001B[0m                               Traceback (most recent call last)",
      "\u001B[1;32m~\\AppData\\Local\\Temp\\ipykernel_9768\\901595283.py\u001B[0m in \u001B[0;36m<module>\u001B[1;34m\u001B[0m\n\u001B[0;32m     32\u001B[0m \u001B[0minsights\u001B[0m \u001B[1;33m=\u001B[0m \u001B[1;33m[\u001B[0m\u001B[1;33m]\u001B[0m\u001B[1;33m\u001B[0m\u001B[1;33m\u001B[0m\u001B[0m\n\u001B[0;32m     33\u001B[0m \u001B[1;32mfor\u001B[0m \u001B[0mmodelname\u001B[0m\u001B[1;33m,\u001B[0m \u001B[0mmodel\u001B[0m \u001B[1;32min\u001B[0m \u001B[0mmodelclasses\u001B[0m\u001B[1;33m:\u001B[0m\u001B[1;33m\u001B[0m\u001B[1;33m\u001B[0m\u001B[0m\n\u001B[1;32m---> 34\u001B[1;33m     \u001B[0mmodel\u001B[0m\u001B[1;33m.\u001B[0m\u001B[0mfit\u001B[0m\u001B[1;33m(\u001B[0m\u001B[0mfeat_train\u001B[0m\u001B[1;33m,\u001B[0m \u001B[0mlab_train\u001B[0m\u001B[1;33m)\u001B[0m\u001B[1;33m\u001B[0m\u001B[1;33m\u001B[0m\u001B[0m\n\u001B[0m\u001B[0;32m     35\u001B[0m     \u001B[0mscore\u001B[0m \u001B[1;33m=\u001B[0m \u001B[0mmodel\u001B[0m\u001B[1;33m.\u001B[0m\u001B[0mscore\u001B[0m\u001B[1;33m(\u001B[0m\u001B[0mfeat_test\u001B[0m\u001B[1;33m,\u001B[0m \u001B[0mlab_test\u001B[0m\u001B[1;33m)\u001B[0m\u001B[1;33m\u001B[0m\u001B[1;33m\u001B[0m\u001B[0m\n\u001B[0;32m     36\u001B[0m     \u001B[0minsights\u001B[0m\u001B[1;33m.\u001B[0m\u001B[0mappend\u001B[0m\u001B[1;33m(\u001B[0m\u001B[1;33m(\u001B[0m\u001B[0mmodelname\u001B[0m\u001B[1;33m,\u001B[0m \u001B[0mmodel\u001B[0m\u001B[1;33m,\u001B[0m \u001B[0mscore\u001B[0m\u001B[1;33m)\u001B[0m\u001B[1;33m)\u001B[0m\u001B[1;33m\u001B[0m\u001B[1;33m\u001B[0m\u001B[0m\n",
      "\u001B[1;32mc:\\users\\trenton\\documents\\programming\\ml-team3\\venv\\lib\\site-packages\\sklearn\\gaussian_process\\_gpc.py\u001B[0m in \u001B[0;36mfit\u001B[1;34m(self, X, y)\u001B[0m\n\u001B[0;32m    713\u001B[0m                 \u001B[1;32mraise\u001B[0m \u001B[0mValueError\u001B[0m\u001B[1;33m(\u001B[0m\u001B[1;34m\"Unknown multi-class mode %s\"\u001B[0m \u001B[1;33m%\u001B[0m \u001B[0mself\u001B[0m\u001B[1;33m.\u001B[0m\u001B[0mmulti_class\u001B[0m\u001B[1;33m)\u001B[0m\u001B[1;33m\u001B[0m\u001B[1;33m\u001B[0m\u001B[0m\n\u001B[0;32m    714\u001B[0m \u001B[1;33m\u001B[0m\u001B[0m\n\u001B[1;32m--> 715\u001B[1;33m         \u001B[0mself\u001B[0m\u001B[1;33m.\u001B[0m\u001B[0mbase_estimator_\u001B[0m\u001B[1;33m.\u001B[0m\u001B[0mfit\u001B[0m\u001B[1;33m(\u001B[0m\u001B[0mX\u001B[0m\u001B[1;33m,\u001B[0m \u001B[0my\u001B[0m\u001B[1;33m)\u001B[0m\u001B[1;33m\u001B[0m\u001B[1;33m\u001B[0m\u001B[0m\n\u001B[0m\u001B[0;32m    716\u001B[0m \u001B[1;33m\u001B[0m\u001B[0m\n\u001B[0;32m    717\u001B[0m         \u001B[1;32mif\u001B[0m \u001B[0mself\u001B[0m\u001B[1;33m.\u001B[0m\u001B[0mn_classes_\u001B[0m \u001B[1;33m>\u001B[0m \u001B[1;36m2\u001B[0m\u001B[1;33m:\u001B[0m\u001B[1;33m\u001B[0m\u001B[1;33m\u001B[0m\u001B[0m\n",
      "\u001B[1;32mc:\\users\\trenton\\documents\\programming\\ml-team3\\venv\\lib\\site-packages\\sklearn\\multiclass.py\u001B[0m in \u001B[0;36mfit\u001B[1;34m(self, X, y)\u001B[0m\n\u001B[0;32m    345\u001B[0m                 ],\n\u001B[0;32m    346\u001B[0m             )\n\u001B[1;32m--> 347\u001B[1;33m             \u001B[1;32mfor\u001B[0m \u001B[0mi\u001B[0m\u001B[1;33m,\u001B[0m \u001B[0mcolumn\u001B[0m \u001B[1;32min\u001B[0m \u001B[0menumerate\u001B[0m\u001B[1;33m(\u001B[0m\u001B[0mcolumns\u001B[0m\u001B[1;33m)\u001B[0m\u001B[1;33m\u001B[0m\u001B[1;33m\u001B[0m\u001B[0m\n\u001B[0m\u001B[0;32m    348\u001B[0m         )\n\u001B[0;32m    349\u001B[0m \u001B[1;33m\u001B[0m\u001B[0m\n",
      "\u001B[1;32mc:\\users\\trenton\\documents\\programming\\ml-team3\\venv\\lib\\site-packages\\joblib\\parallel.py\u001B[0m in \u001B[0;36m__call__\u001B[1;34m(self, iterable)\u001B[0m\n\u001B[0;32m   1041\u001B[0m             \u001B[1;31m# remaining jobs.\u001B[0m\u001B[1;33m\u001B[0m\u001B[1;33m\u001B[0m\u001B[1;33m\u001B[0m\u001B[0m\n\u001B[0;32m   1042\u001B[0m             \u001B[0mself\u001B[0m\u001B[1;33m.\u001B[0m\u001B[0m_iterating\u001B[0m \u001B[1;33m=\u001B[0m \u001B[1;32mFalse\u001B[0m\u001B[1;33m\u001B[0m\u001B[1;33m\u001B[0m\u001B[0m\n\u001B[1;32m-> 1043\u001B[1;33m             \u001B[1;32mif\u001B[0m \u001B[0mself\u001B[0m\u001B[1;33m.\u001B[0m\u001B[0mdispatch_one_batch\u001B[0m\u001B[1;33m(\u001B[0m\u001B[0miterator\u001B[0m\u001B[1;33m)\u001B[0m\u001B[1;33m:\u001B[0m\u001B[1;33m\u001B[0m\u001B[1;33m\u001B[0m\u001B[0m\n\u001B[0m\u001B[0;32m   1044\u001B[0m                 \u001B[0mself\u001B[0m\u001B[1;33m.\u001B[0m\u001B[0m_iterating\u001B[0m \u001B[1;33m=\u001B[0m \u001B[0mself\u001B[0m\u001B[1;33m.\u001B[0m\u001B[0m_original_iterator\u001B[0m \u001B[1;32mis\u001B[0m \u001B[1;32mnot\u001B[0m \u001B[1;32mNone\u001B[0m\u001B[1;33m\u001B[0m\u001B[1;33m\u001B[0m\u001B[0m\n\u001B[0;32m   1045\u001B[0m \u001B[1;33m\u001B[0m\u001B[0m\n",
      "\u001B[1;32mc:\\users\\trenton\\documents\\programming\\ml-team3\\venv\\lib\\site-packages\\joblib\\parallel.py\u001B[0m in \u001B[0;36mdispatch_one_batch\u001B[1;34m(self, iterator)\u001B[0m\n\u001B[0;32m    859\u001B[0m                 \u001B[1;32mreturn\u001B[0m \u001B[1;32mFalse\u001B[0m\u001B[1;33m\u001B[0m\u001B[1;33m\u001B[0m\u001B[0m\n\u001B[0;32m    860\u001B[0m             \u001B[1;32melse\u001B[0m\u001B[1;33m:\u001B[0m\u001B[1;33m\u001B[0m\u001B[1;33m\u001B[0m\u001B[0m\n\u001B[1;32m--> 861\u001B[1;33m                 \u001B[0mself\u001B[0m\u001B[1;33m.\u001B[0m\u001B[0m_dispatch\u001B[0m\u001B[1;33m(\u001B[0m\u001B[0mtasks\u001B[0m\u001B[1;33m)\u001B[0m\u001B[1;33m\u001B[0m\u001B[1;33m\u001B[0m\u001B[0m\n\u001B[0m\u001B[0;32m    862\u001B[0m                 \u001B[1;32mreturn\u001B[0m \u001B[1;32mTrue\u001B[0m\u001B[1;33m\u001B[0m\u001B[1;33m\u001B[0m\u001B[0m\n\u001B[0;32m    863\u001B[0m \u001B[1;33m\u001B[0m\u001B[0m\n",
      "\u001B[1;32mc:\\users\\trenton\\documents\\programming\\ml-team3\\venv\\lib\\site-packages\\joblib\\parallel.py\u001B[0m in \u001B[0;36m_dispatch\u001B[1;34m(self, batch)\u001B[0m\n\u001B[0;32m    777\u001B[0m         \u001B[1;32mwith\u001B[0m \u001B[0mself\u001B[0m\u001B[1;33m.\u001B[0m\u001B[0m_lock\u001B[0m\u001B[1;33m:\u001B[0m\u001B[1;33m\u001B[0m\u001B[1;33m\u001B[0m\u001B[0m\n\u001B[0;32m    778\u001B[0m             \u001B[0mjob_idx\u001B[0m \u001B[1;33m=\u001B[0m \u001B[0mlen\u001B[0m\u001B[1;33m(\u001B[0m\u001B[0mself\u001B[0m\u001B[1;33m.\u001B[0m\u001B[0m_jobs\u001B[0m\u001B[1;33m)\u001B[0m\u001B[1;33m\u001B[0m\u001B[1;33m\u001B[0m\u001B[0m\n\u001B[1;32m--> 779\u001B[1;33m             \u001B[0mjob\u001B[0m \u001B[1;33m=\u001B[0m \u001B[0mself\u001B[0m\u001B[1;33m.\u001B[0m\u001B[0m_backend\u001B[0m\u001B[1;33m.\u001B[0m\u001B[0mapply_async\u001B[0m\u001B[1;33m(\u001B[0m\u001B[0mbatch\u001B[0m\u001B[1;33m,\u001B[0m \u001B[0mcallback\u001B[0m\u001B[1;33m=\u001B[0m\u001B[0mcb\u001B[0m\u001B[1;33m)\u001B[0m\u001B[1;33m\u001B[0m\u001B[1;33m\u001B[0m\u001B[0m\n\u001B[0m\u001B[0;32m    780\u001B[0m             \u001B[1;31m# A job can complete so quickly than its callback is\u001B[0m\u001B[1;33m\u001B[0m\u001B[1;33m\u001B[0m\u001B[1;33m\u001B[0m\u001B[0m\n\u001B[0;32m    781\u001B[0m             \u001B[1;31m# called before we get here, causing self._jobs to\u001B[0m\u001B[1;33m\u001B[0m\u001B[1;33m\u001B[0m\u001B[1;33m\u001B[0m\u001B[0m\n",
      "\u001B[1;32mc:\\users\\trenton\\documents\\programming\\ml-team3\\venv\\lib\\site-packages\\joblib\\_parallel_backends.py\u001B[0m in \u001B[0;36mapply_async\u001B[1;34m(self, func, callback)\u001B[0m\n\u001B[0;32m    206\u001B[0m     \u001B[1;32mdef\u001B[0m \u001B[0mapply_async\u001B[0m\u001B[1;33m(\u001B[0m\u001B[0mself\u001B[0m\u001B[1;33m,\u001B[0m \u001B[0mfunc\u001B[0m\u001B[1;33m,\u001B[0m \u001B[0mcallback\u001B[0m\u001B[1;33m=\u001B[0m\u001B[1;32mNone\u001B[0m\u001B[1;33m)\u001B[0m\u001B[1;33m:\u001B[0m\u001B[1;33m\u001B[0m\u001B[1;33m\u001B[0m\u001B[0m\n\u001B[0;32m    207\u001B[0m         \u001B[1;34m\"\"\"Schedule a func to be run\"\"\"\u001B[0m\u001B[1;33m\u001B[0m\u001B[1;33m\u001B[0m\u001B[0m\n\u001B[1;32m--> 208\u001B[1;33m         \u001B[0mresult\u001B[0m \u001B[1;33m=\u001B[0m \u001B[0mImmediateResult\u001B[0m\u001B[1;33m(\u001B[0m\u001B[0mfunc\u001B[0m\u001B[1;33m)\u001B[0m\u001B[1;33m\u001B[0m\u001B[1;33m\u001B[0m\u001B[0m\n\u001B[0m\u001B[0;32m    209\u001B[0m         \u001B[1;32mif\u001B[0m \u001B[0mcallback\u001B[0m\u001B[1;33m:\u001B[0m\u001B[1;33m\u001B[0m\u001B[1;33m\u001B[0m\u001B[0m\n\u001B[0;32m    210\u001B[0m             \u001B[0mcallback\u001B[0m\u001B[1;33m(\u001B[0m\u001B[0mresult\u001B[0m\u001B[1;33m)\u001B[0m\u001B[1;33m\u001B[0m\u001B[1;33m\u001B[0m\u001B[0m\n",
      "\u001B[1;32mc:\\users\\trenton\\documents\\programming\\ml-team3\\venv\\lib\\site-packages\\joblib\\_parallel_backends.py\u001B[0m in \u001B[0;36m__init__\u001B[1;34m(self, batch)\u001B[0m\n\u001B[0;32m    570\u001B[0m         \u001B[1;31m# Don't delay the application, to avoid keeping the input\u001B[0m\u001B[1;33m\u001B[0m\u001B[1;33m\u001B[0m\u001B[1;33m\u001B[0m\u001B[0m\n\u001B[0;32m    571\u001B[0m         \u001B[1;31m# arguments in memory\u001B[0m\u001B[1;33m\u001B[0m\u001B[1;33m\u001B[0m\u001B[1;33m\u001B[0m\u001B[0m\n\u001B[1;32m--> 572\u001B[1;33m         \u001B[0mself\u001B[0m\u001B[1;33m.\u001B[0m\u001B[0mresults\u001B[0m \u001B[1;33m=\u001B[0m \u001B[0mbatch\u001B[0m\u001B[1;33m(\u001B[0m\u001B[1;33m)\u001B[0m\u001B[1;33m\u001B[0m\u001B[1;33m\u001B[0m\u001B[0m\n\u001B[0m\u001B[0;32m    573\u001B[0m \u001B[1;33m\u001B[0m\u001B[0m\n\u001B[0;32m    574\u001B[0m     \u001B[1;32mdef\u001B[0m \u001B[0mget\u001B[0m\u001B[1;33m(\u001B[0m\u001B[0mself\u001B[0m\u001B[1;33m)\u001B[0m\u001B[1;33m:\u001B[0m\u001B[1;33m\u001B[0m\u001B[1;33m\u001B[0m\u001B[0m\n",
      "\u001B[1;32mc:\\users\\trenton\\documents\\programming\\ml-team3\\venv\\lib\\site-packages\\joblib\\parallel.py\u001B[0m in \u001B[0;36m__call__\u001B[1;34m(self)\u001B[0m\n\u001B[0;32m    261\u001B[0m         \u001B[1;32mwith\u001B[0m \u001B[0mparallel_backend\u001B[0m\u001B[1;33m(\u001B[0m\u001B[0mself\u001B[0m\u001B[1;33m.\u001B[0m\u001B[0m_backend\u001B[0m\u001B[1;33m,\u001B[0m \u001B[0mn_jobs\u001B[0m\u001B[1;33m=\u001B[0m\u001B[0mself\u001B[0m\u001B[1;33m.\u001B[0m\u001B[0m_n_jobs\u001B[0m\u001B[1;33m)\u001B[0m\u001B[1;33m:\u001B[0m\u001B[1;33m\u001B[0m\u001B[1;33m\u001B[0m\u001B[0m\n\u001B[0;32m    262\u001B[0m             return [func(*args, **kwargs)\n\u001B[1;32m--> 263\u001B[1;33m                     for func, args, kwargs in self.items]\n\u001B[0m\u001B[0;32m    264\u001B[0m \u001B[1;33m\u001B[0m\u001B[0m\n\u001B[0;32m    265\u001B[0m     \u001B[1;32mdef\u001B[0m \u001B[0m__reduce__\u001B[0m\u001B[1;33m(\u001B[0m\u001B[0mself\u001B[0m\u001B[1;33m)\u001B[0m\u001B[1;33m:\u001B[0m\u001B[1;33m\u001B[0m\u001B[1;33m\u001B[0m\u001B[0m\n",
      "\u001B[1;32mc:\\users\\trenton\\documents\\programming\\ml-team3\\venv\\lib\\site-packages\\joblib\\parallel.py\u001B[0m in \u001B[0;36m<listcomp>\u001B[1;34m(.0)\u001B[0m\n\u001B[0;32m    261\u001B[0m         \u001B[1;32mwith\u001B[0m \u001B[0mparallel_backend\u001B[0m\u001B[1;33m(\u001B[0m\u001B[0mself\u001B[0m\u001B[1;33m.\u001B[0m\u001B[0m_backend\u001B[0m\u001B[1;33m,\u001B[0m \u001B[0mn_jobs\u001B[0m\u001B[1;33m=\u001B[0m\u001B[0mself\u001B[0m\u001B[1;33m.\u001B[0m\u001B[0m_n_jobs\u001B[0m\u001B[1;33m)\u001B[0m\u001B[1;33m:\u001B[0m\u001B[1;33m\u001B[0m\u001B[1;33m\u001B[0m\u001B[0m\n\u001B[0;32m    262\u001B[0m             return [func(*args, **kwargs)\n\u001B[1;32m--> 263\u001B[1;33m                     for func, args, kwargs in self.items]\n\u001B[0m\u001B[0;32m    264\u001B[0m \u001B[1;33m\u001B[0m\u001B[0m\n\u001B[0;32m    265\u001B[0m     \u001B[1;32mdef\u001B[0m \u001B[0m__reduce__\u001B[0m\u001B[1;33m(\u001B[0m\u001B[0mself\u001B[0m\u001B[1;33m)\u001B[0m\u001B[1;33m:\u001B[0m\u001B[1;33m\u001B[0m\u001B[1;33m\u001B[0m\u001B[0m\n",
      "\u001B[1;32mc:\\users\\trenton\\documents\\programming\\ml-team3\\venv\\lib\\site-packages\\sklearn\\utils\\fixes.py\u001B[0m in \u001B[0;36m__call__\u001B[1;34m(self, *args, **kwargs)\u001B[0m\n\u001B[0;32m    214\u001B[0m     \u001B[1;32mdef\u001B[0m \u001B[0m__call__\u001B[0m\u001B[1;33m(\u001B[0m\u001B[0mself\u001B[0m\u001B[1;33m,\u001B[0m \u001B[1;33m*\u001B[0m\u001B[0margs\u001B[0m\u001B[1;33m,\u001B[0m \u001B[1;33m**\u001B[0m\u001B[0mkwargs\u001B[0m\u001B[1;33m)\u001B[0m\u001B[1;33m:\u001B[0m\u001B[1;33m\u001B[0m\u001B[1;33m\u001B[0m\u001B[0m\n\u001B[0;32m    215\u001B[0m         \u001B[1;32mwith\u001B[0m \u001B[0mconfig_context\u001B[0m\u001B[1;33m(\u001B[0m\u001B[1;33m**\u001B[0m\u001B[0mself\u001B[0m\u001B[1;33m.\u001B[0m\u001B[0mconfig\u001B[0m\u001B[1;33m)\u001B[0m\u001B[1;33m:\u001B[0m\u001B[1;33m\u001B[0m\u001B[1;33m\u001B[0m\u001B[0m\n\u001B[1;32m--> 216\u001B[1;33m             \u001B[1;32mreturn\u001B[0m \u001B[0mself\u001B[0m\u001B[1;33m.\u001B[0m\u001B[0mfunction\u001B[0m\u001B[1;33m(\u001B[0m\u001B[1;33m*\u001B[0m\u001B[0margs\u001B[0m\u001B[1;33m,\u001B[0m \u001B[1;33m**\u001B[0m\u001B[0mkwargs\u001B[0m\u001B[1;33m)\u001B[0m\u001B[1;33m\u001B[0m\u001B[1;33m\u001B[0m\u001B[0m\n\u001B[0m\u001B[0;32m    217\u001B[0m \u001B[1;33m\u001B[0m\u001B[0m\n\u001B[0;32m    218\u001B[0m \u001B[1;33m\u001B[0m\u001B[0m\n",
      "\u001B[1;32mc:\\users\\trenton\\documents\\programming\\ml-team3\\venv\\lib\\site-packages\\sklearn\\multiclass.py\u001B[0m in \u001B[0;36m_fit_binary\u001B[1;34m(estimator, X, y, classes)\u001B[0m\n\u001B[0;32m     83\u001B[0m     \u001B[1;32melse\u001B[0m\u001B[1;33m:\u001B[0m\u001B[1;33m\u001B[0m\u001B[1;33m\u001B[0m\u001B[0m\n\u001B[0;32m     84\u001B[0m         \u001B[0mestimator\u001B[0m \u001B[1;33m=\u001B[0m \u001B[0mclone\u001B[0m\u001B[1;33m(\u001B[0m\u001B[0mestimator\u001B[0m\u001B[1;33m)\u001B[0m\u001B[1;33m\u001B[0m\u001B[1;33m\u001B[0m\u001B[0m\n\u001B[1;32m---> 85\u001B[1;33m         \u001B[0mestimator\u001B[0m\u001B[1;33m.\u001B[0m\u001B[0mfit\u001B[0m\u001B[1;33m(\u001B[0m\u001B[0mX\u001B[0m\u001B[1;33m,\u001B[0m \u001B[0my\u001B[0m\u001B[1;33m)\u001B[0m\u001B[1;33m\u001B[0m\u001B[1;33m\u001B[0m\u001B[0m\n\u001B[0m\u001B[0;32m     86\u001B[0m     \u001B[1;32mreturn\u001B[0m \u001B[0mestimator\u001B[0m\u001B[1;33m\u001B[0m\u001B[1;33m\u001B[0m\u001B[0m\n\u001B[0;32m     87\u001B[0m \u001B[1;33m\u001B[0m\u001B[0m\n",
      "\u001B[1;32mc:\\users\\trenton\\documents\\programming\\ml-team3\\venv\\lib\\site-packages\\sklearn\\gaussian_process\\_gpc.py\u001B[0m in \u001B[0;36mfit\u001B[1;34m(self, X, y)\u001B[0m\n\u001B[0;32m    250\u001B[0m         \u001B[1;32melse\u001B[0m\u001B[1;33m:\u001B[0m\u001B[1;33m\u001B[0m\u001B[1;33m\u001B[0m\u001B[0m\n\u001B[0;32m    251\u001B[0m             self.log_marginal_likelihood_value_ = self.log_marginal_likelihood(\n\u001B[1;32m--> 252\u001B[1;33m                 \u001B[0mself\u001B[0m\u001B[1;33m.\u001B[0m\u001B[0mkernel_\u001B[0m\u001B[1;33m.\u001B[0m\u001B[0mtheta\u001B[0m\u001B[1;33m\u001B[0m\u001B[1;33m\u001B[0m\u001B[0m\n\u001B[0m\u001B[0;32m    253\u001B[0m             )\n\u001B[0;32m    254\u001B[0m \u001B[1;33m\u001B[0m\u001B[0m\n",
      "\u001B[1;32mc:\\users\\trenton\\documents\\programming\\ml-team3\\venv\\lib\\site-packages\\sklearn\\gaussian_process\\_gpc.py\u001B[0m in \u001B[0;36mlog_marginal_likelihood\u001B[1;34m(self, theta, eval_gradient, clone_kernel)\u001B[0m\n\u001B[0;32m    374\u001B[0m             \u001B[0mK\u001B[0m\u001B[1;33m,\u001B[0m \u001B[0mK_gradient\u001B[0m \u001B[1;33m=\u001B[0m \u001B[0mkernel\u001B[0m\u001B[1;33m(\u001B[0m\u001B[0mself\u001B[0m\u001B[1;33m.\u001B[0m\u001B[0mX_train_\u001B[0m\u001B[1;33m,\u001B[0m \u001B[0meval_gradient\u001B[0m\u001B[1;33m=\u001B[0m\u001B[1;32mTrue\u001B[0m\u001B[1;33m)\u001B[0m\u001B[1;33m\u001B[0m\u001B[1;33m\u001B[0m\u001B[0m\n\u001B[0;32m    375\u001B[0m         \u001B[1;32melse\u001B[0m\u001B[1;33m:\u001B[0m\u001B[1;33m\u001B[0m\u001B[1;33m\u001B[0m\u001B[0m\n\u001B[1;32m--> 376\u001B[1;33m             \u001B[0mK\u001B[0m \u001B[1;33m=\u001B[0m \u001B[0mkernel\u001B[0m\u001B[1;33m(\u001B[0m\u001B[0mself\u001B[0m\u001B[1;33m.\u001B[0m\u001B[0mX_train_\u001B[0m\u001B[1;33m)\u001B[0m\u001B[1;33m\u001B[0m\u001B[1;33m\u001B[0m\u001B[0m\n\u001B[0m\u001B[0;32m    377\u001B[0m \u001B[1;33m\u001B[0m\u001B[0m\n\u001B[0;32m    378\u001B[0m         \u001B[1;31m# Compute log-marginal-likelihood Z and also store some temporaries\u001B[0m\u001B[1;33m\u001B[0m\u001B[1;33m\u001B[0m\u001B[1;33m\u001B[0m\u001B[0m\n",
      "\u001B[1;32mc:\\users\\trenton\\documents\\programming\\ml-team3\\venv\\lib\\site-packages\\sklearn\\gaussian_process\\kernels.py\u001B[0m in \u001B[0;36m__call__\u001B[1;34m(self, X, Y, eval_gradient)\u001B[0m\n\u001B[0;32m    944\u001B[0m             )\n\u001B[0;32m    945\u001B[0m         \u001B[1;32melse\u001B[0m\u001B[1;33m:\u001B[0m\u001B[1;33m\u001B[0m\u001B[1;33m\u001B[0m\u001B[0m\n\u001B[1;32m--> 946\u001B[1;33m             \u001B[1;32mreturn\u001B[0m \u001B[0mself\u001B[0m\u001B[1;33m.\u001B[0m\u001B[0mk1\u001B[0m\u001B[1;33m(\u001B[0m\u001B[0mX\u001B[0m\u001B[1;33m,\u001B[0m \u001B[0mY\u001B[0m\u001B[1;33m)\u001B[0m \u001B[1;33m*\u001B[0m \u001B[0mself\u001B[0m\u001B[1;33m.\u001B[0m\u001B[0mk2\u001B[0m\u001B[1;33m(\u001B[0m\u001B[0mX\u001B[0m\u001B[1;33m,\u001B[0m \u001B[0mY\u001B[0m\u001B[1;33m)\u001B[0m\u001B[1;33m\u001B[0m\u001B[1;33m\u001B[0m\u001B[0m\n\u001B[0m\u001B[0;32m    947\u001B[0m \u001B[1;33m\u001B[0m\u001B[0m\n\u001B[0;32m    948\u001B[0m     \u001B[1;32mdef\u001B[0m \u001B[0mdiag\u001B[0m\u001B[1;33m(\u001B[0m\u001B[0mself\u001B[0m\u001B[1;33m,\u001B[0m \u001B[0mX\u001B[0m\u001B[1;33m)\u001B[0m\u001B[1;33m:\u001B[0m\u001B[1;33m\u001B[0m\u001B[1;33m\u001B[0m\u001B[0m\n",
      "\u001B[1;32mc:\\users\\trenton\\documents\\programming\\ml-team3\\venv\\lib\\site-packages\\sklearn\\gaussian_process\\kernels.py\u001B[0m in \u001B[0;36m__call__\u001B[1;34m(self, X, Y, eval_gradient)\u001B[0m\n\u001B[0;32m   1254\u001B[0m             \u001B[1;33m(\u001B[0m\u001B[0m_num_samples\u001B[0m\u001B[1;33m(\u001B[0m\u001B[0mX\u001B[0m\u001B[1;33m)\u001B[0m\u001B[1;33m,\u001B[0m \u001B[0m_num_samples\u001B[0m\u001B[1;33m(\u001B[0m\u001B[0mY\u001B[0m\u001B[1;33m)\u001B[0m\u001B[1;33m)\u001B[0m\u001B[1;33m,\u001B[0m\u001B[1;33m\u001B[0m\u001B[1;33m\u001B[0m\u001B[0m\n\u001B[0;32m   1255\u001B[0m             \u001B[0mself\u001B[0m\u001B[1;33m.\u001B[0m\u001B[0mconstant_value\u001B[0m\u001B[1;33m,\u001B[0m\u001B[1;33m\u001B[0m\u001B[1;33m\u001B[0m\u001B[0m\n\u001B[1;32m-> 1256\u001B[1;33m             \u001B[0mdtype\u001B[0m\u001B[1;33m=\u001B[0m\u001B[0mnp\u001B[0m\u001B[1;33m.\u001B[0m\u001B[0marray\u001B[0m\u001B[1;33m(\u001B[0m\u001B[0mself\u001B[0m\u001B[1;33m.\u001B[0m\u001B[0mconstant_value\u001B[0m\u001B[1;33m)\u001B[0m\u001B[1;33m.\u001B[0m\u001B[0mdtype\u001B[0m\u001B[1;33m,\u001B[0m\u001B[1;33m\u001B[0m\u001B[1;33m\u001B[0m\u001B[0m\n\u001B[0m\u001B[0;32m   1257\u001B[0m         )\n\u001B[0;32m   1258\u001B[0m         \u001B[1;32mif\u001B[0m \u001B[0meval_gradient\u001B[0m\u001B[1;33m:\u001B[0m\u001B[1;33m\u001B[0m\u001B[1;33m\u001B[0m\u001B[0m\n",
      "\u001B[1;32mc:\\users\\trenton\\documents\\programming\\ml-team3\\venv\\lib\\site-packages\\numpy\\core\\numeric.py\u001B[0m in \u001B[0;36mfull\u001B[1;34m(shape, fill_value, dtype, order, like)\u001B[0m\n\u001B[0;32m    341\u001B[0m         \u001B[0mfill_value\u001B[0m \u001B[1;33m=\u001B[0m \u001B[0masarray\u001B[0m\u001B[1;33m(\u001B[0m\u001B[0mfill_value\u001B[0m\u001B[1;33m)\u001B[0m\u001B[1;33m\u001B[0m\u001B[1;33m\u001B[0m\u001B[0m\n\u001B[0;32m    342\u001B[0m         \u001B[0mdtype\u001B[0m \u001B[1;33m=\u001B[0m \u001B[0mfill_value\u001B[0m\u001B[1;33m.\u001B[0m\u001B[0mdtype\u001B[0m\u001B[1;33m\u001B[0m\u001B[1;33m\u001B[0m\u001B[0m\n\u001B[1;32m--> 343\u001B[1;33m     \u001B[0ma\u001B[0m \u001B[1;33m=\u001B[0m \u001B[0mempty\u001B[0m\u001B[1;33m(\u001B[0m\u001B[0mshape\u001B[0m\u001B[1;33m,\u001B[0m \u001B[0mdtype\u001B[0m\u001B[1;33m,\u001B[0m \u001B[0morder\u001B[0m\u001B[1;33m)\u001B[0m\u001B[1;33m\u001B[0m\u001B[1;33m\u001B[0m\u001B[0m\n\u001B[0m\u001B[0;32m    344\u001B[0m     \u001B[0mmultiarray\u001B[0m\u001B[1;33m.\u001B[0m\u001B[0mcopyto\u001B[0m\u001B[1;33m(\u001B[0m\u001B[0ma\u001B[0m\u001B[1;33m,\u001B[0m \u001B[0mfill_value\u001B[0m\u001B[1;33m,\u001B[0m \u001B[0mcasting\u001B[0m\u001B[1;33m=\u001B[0m\u001B[1;34m'unsafe'\u001B[0m\u001B[1;33m)\u001B[0m\u001B[1;33m\u001B[0m\u001B[1;33m\u001B[0m\u001B[0m\n\u001B[0;32m    345\u001B[0m     \u001B[1;32mreturn\u001B[0m \u001B[0ma\u001B[0m\u001B[1;33m\u001B[0m\u001B[1;33m\u001B[0m\u001B[0m\n",
      "\u001B[1;31mMemoryError\u001B[0m: Unable to allocate 57.4 GiB for an array with shape (87770, 87770) and data type float64"
     ]
    }
   ],
   "source": [
    "from sklearn.svm import SVC, NuSVC\n",
    "from sklearn.neighbors import KNeighborsClassifier, NearestCentroid, RadiusNeighborsClassifier\n",
    "from sklearn.gaussian_process import GaussianProcessClassifier\n",
    "from sklearn.naive_bayes import GaussianNB, BernoulliNB\n",
    "from sklearn.neural_network import MLPClassifier\n",
    "from sklearn.tree import DecisionTreeClassifier\n",
    "from sklearn.ensemble import RandomForestClassifier, ExtraTreesClassifier, GradientBoostingClassifier\n",
    "\n",
    "log_reg_params = [{\"C\": 0.01}, {\"C\": 0.1}, {\"C\": 1}, {\"C\": 10}]\n",
    "dec_tree_params = [{\"criterion\": \"gini\"}, {\"criterion\": \"entropy\"}]\n",
    "rand_for_params = [{\"criterion\": \"gini\"}, {\"criterion\": \"entropy\"}]\n",
    "kneighbors_params = [{\"n_neighbors\": 3}, {\"n_neighbors\": 5}]\n",
    "naive_bayes_params = [{}]\n",
    "svc_params = [{\"C\": 0.01}, {\"C\": 0.1}, {\"C\": 1}, {\"C\": 10}]\n",
    "\n",
    "modelclasses = [\n",
    "    [\"GradientBoostingClf\", GradientBoostingClassifier()],\n",
    "    [\"ExtraTreeClf\", ExtraTreesClassifier()],\n",
    "    [\"decision tree\", DecisionTreeClassifier()],\n",
    "    [\"random forest\", RandomForestClassifier()],\n",
    "    [\"k neighbors\", KNeighborsClassifier()],\n",
    "    [\"NearestCentroid\", NearestCentroid()],\n",
    "    #[\"RadiusNeighbor\", RadiusNeighborsClassifier()],\n",
    "    [\"GaussianProcess\", GaussianProcessClassifier()],\n",
    "    [\"naive bayes Gaussian NB\", GaussianNB()],\n",
    "    [\"naive bayes Bernoulli NB\", BernoulliNB()],\n",
    "    [\"support vector machines\", SVC()],\n",
    "    [\"Nu support vector machines\", NuSVC()],\n",
    "    [\"NN MPL\", MLPClassifier()]\n",
    "]\n",
    "\n",
    "insights = []\n",
    "for modelname, model in modelclasses:\n",
    "    model.fit(feat_train, lab_train)\n",
    "    score = model.score(feat_test, lab_test)\n",
    "    insights.append((modelname, model, score))\n",
    "\n",
    "insights.sort(key=lambda x: x[-1], reverse=True)\n",
    "for modelname, model, score in insights:\n",
    "    print(modelname, score)\n",
    "\n",
    "\n",
    "\n"
   ],
   "metadata": {
    "collapsed": false,
    "pycharm": {
     "name": "#%%\n"
    }
   }
  },
  {
   "cell_type": "code",
   "execution_count": 17,
   "id": "4423fd9a",
   "metadata": {},
   "outputs": [],
   "source": []
  },
  {
   "cell_type": "code",
   "execution_count": null,
   "outputs": [],
   "source": [],
   "metadata": {
    "collapsed": false,
    "pycharm": {
     "name": "#%%\n"
    }
   }
  },
  {
   "cell_type": "code",
   "execution_count": 17,
   "id": "ef48f30a",
   "metadata": {},
   "outputs": [],
   "source": []
  },
  {
   "cell_type": "code",
   "execution_count": 17,
   "id": "afaa8d6e",
   "metadata": {},
   "outputs": [],
   "source": []
  }
 ],
 "metadata": {
  "kernelspec": {
   "display_name": "Python 3 (ipykernel)",
   "language": "python",
   "name": "python3"
  },
  "language_info": {
   "codemirror_mode": {
    "name": "ipython",
    "version": 3
   },
   "file_extension": ".py",
   "mimetype": "text/x-python",
   "name": "python",
   "nbconvert_exporter": "python",
   "pygments_lexer": "ipython3",
   "version": "3.9.7"
  }
 },
 "nbformat": 4,
 "nbformat_minor": 5
}