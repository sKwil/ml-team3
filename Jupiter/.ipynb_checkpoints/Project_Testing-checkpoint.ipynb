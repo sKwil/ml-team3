{
 "cells": [
  {
   "cell_type": "code",
   "execution_count": 2,
   "id": "38d16ee7",
   "metadata": {},
   "outputs": [],
   "source": [
    "import pandas as pd\n",
    "import sys\n",
    "import os.path\n"
   ]
  },
  {
   "cell_type": "code",
   "execution_count": 7,
   "id": "c3031ba1",
   "metadata": {},
   "outputs": [],
   "source": [
    "# Create the path for accessing the db.py file in dataImport\n",
    "path = os.path.join(\n",
    "    os.path.abspath(os.path.join(os.getcwd(), os.pardir, os.pardir)),\n",
    "    'model', 'dataImport'\n",
    ")\n",
    "sys.path.insert(0, path)\n",
    "\n",
    "import db"
   ]
  },
  {
   "cell_type": "code",
   "execution_count": 8,
   "id": "3fd59fbd",
   "metadata": {},
   "outputs": [],
   "source": [
    "df = db.getDataFrame()"
   ]
  },
  {
   "cell_type": "code",
   "execution_count": 11,
   "id": "4355817b",
   "metadata": {},
   "outputs": [
    {
     "data": {
      "text/plain": "                    datetime               city temperature humidity pressure  \\\n1629103  2017-11-30 00:00:00  Tel Aviv District                                 \n1629104  2017-11-30 00:00:00              Eilat                                 \n1629105  2017-11-30 00:00:00              Haifa                                 \n1629106  2017-11-30 00:00:00          Nahariyya                                 \n1629107  2017-11-30 00:00:00          Jerusalem                                 \n\n        weather_description wind_direction wind_speed  \n1629103                                                \n1629104                                                \n1629105                                                \n1629106                                                \n1629107                                                ",
      "text/html": "<div>\n<style scoped>\n    .dataframe tbody tr th:only-of-type {\n        vertical-align: middle;\n    }\n\n    .dataframe tbody tr th {\n        vertical-align: top;\n    }\n\n    .dataframe thead th {\n        text-align: right;\n    }\n</style>\n<table border=\"1\" class=\"dataframe\">\n  <thead>\n    <tr style=\"text-align: right;\">\n      <th></th>\n      <th>datetime</th>\n      <th>city</th>\n      <th>temperature</th>\n      <th>humidity</th>\n      <th>pressure</th>\n      <th>weather_description</th>\n      <th>wind_direction</th>\n      <th>wind_speed</th>\n    </tr>\n  </thead>\n  <tbody>\n    <tr>\n      <th>1629103</th>\n      <td>2017-11-30 00:00:00</td>\n      <td>Tel Aviv District</td>\n      <td></td>\n      <td></td>\n      <td></td>\n      <td></td>\n      <td></td>\n      <td></td>\n    </tr>\n    <tr>\n      <th>1629104</th>\n      <td>2017-11-30 00:00:00</td>\n      <td>Eilat</td>\n      <td></td>\n      <td></td>\n      <td></td>\n      <td></td>\n      <td></td>\n      <td></td>\n    </tr>\n    <tr>\n      <th>1629105</th>\n      <td>2017-11-30 00:00:00</td>\n      <td>Haifa</td>\n      <td></td>\n      <td></td>\n      <td></td>\n      <td></td>\n      <td></td>\n      <td></td>\n    </tr>\n    <tr>\n      <th>1629106</th>\n      <td>2017-11-30 00:00:00</td>\n      <td>Nahariyya</td>\n      <td></td>\n      <td></td>\n      <td></td>\n      <td></td>\n      <td></td>\n      <td></td>\n    </tr>\n    <tr>\n      <th>1629107</th>\n      <td>2017-11-30 00:00:00</td>\n      <td>Jerusalem</td>\n      <td></td>\n      <td></td>\n      <td></td>\n      <td></td>\n      <td></td>\n      <td></td>\n    </tr>\n  </tbody>\n</table>\n</div>"
     },
     "execution_count": 11,
     "metadata": {},
     "output_type": "execute_result"
    }
   ],
   "source": [
    "df.tail()"
   ]
  },
  {
   "cell_type": "code",
   "execution_count": null,
   "id": "2a15a761",
   "metadata": {},
   "outputs": [],
   "source": []
  },
  {
   "cell_type": "code",
   "execution_count": null,
   "id": "3b139a56",
   "metadata": {},
   "outputs": [],
   "source": []
  },
  {
   "cell_type": "code",
   "execution_count": null,
   "id": "52eb87bb",
   "metadata": {},
   "outputs": [],
   "source": []
  },
  {
   "cell_type": "code",
   "execution_count": null,
   "id": "656fd4f9",
   "metadata": {},
   "outputs": [],
   "source": []
  },
  {
   "cell_type": "code",
   "execution_count": null,
   "id": "6bf397da",
   "metadata": {},
   "outputs": [],
   "source": []
  },
  {
   "cell_type": "code",
   "execution_count": null,
   "id": "4423fd9a",
   "metadata": {},
   "outputs": [],
   "source": []
  },
  {
   "cell_type": "code",
   "execution_count": null,
   "id": "ef48f30a",
   "metadata": {},
   "outputs": [],
   "source": []
  },
  {
   "cell_type": "code",
   "execution_count": null,
   "id": "afaa8d6e",
   "metadata": {},
   "outputs": [],
   "source": []
  }
 ],
 "metadata": {
  "kernelspec": {
   "display_name": "Python 3 (ipykernel)",
   "language": "python",
   "name": "python3"
  },
  "language_info": {
   "codemirror_mode": {
    "name": "ipython",
    "version": 3
   },
   "file_extension": ".py",
   "mimetype": "text/x-python",
   "name": "python",
   "nbconvert_exporter": "python",
   "pygments_lexer": "ipython3",
   "version": "3.9.7"
  }
 },
 "nbformat": 4,
 "nbformat_minor": 5
}